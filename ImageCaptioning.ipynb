{
 "cells": [
  {
   "cell_type": "code",
   "execution_count": 1,
   "id": "38cf0411",
   "metadata": {},
   "outputs": [],
   "source": [
    "##INSTALL THESE REQUIREMENTS IF YOU DONT ALREADY HAVE IT \n",
    "\n",
    "# !pip install tensorflow\n",
    "# !pip install opencv-contrib-python\n",
    "# !pip install opencv-python numpy"
   ]
  },
  {
   "cell_type": "code",
   "execution_count": 1,
   "id": "33e869c4",
   "metadata": {},
   "outputs": [
    {
     "name": "stderr",
     "output_type": "stream",
     "text": [
      "2024-05-22 08:01:22.854664: I tensorflow/core/platform/cpu_feature_guard.cc:210] This TensorFlow binary is optimized to use available CPU instructions in performance-critical operations.\n",
      "To enable the following instructions: AVX2 AVX512F AVX512_VNNI FMA, in other operations, rebuild TensorFlow with the appropriate compiler flags.\n"
     ]
    }
   ],
   "source": [
    "# import all libraries required\n",
    "\n",
    "import tensorflow as tf \n",
    "import numpy as np\n",
    "import matplotlib.pyplot as plt\n",
    "from PIL import Image\n",
    "import pandas as pd\n",
    "import re\n",
    "import collections\n",
    "import os\n",
    "from tensorflow.keras.applications import InceptionV3\n",
    "from tensorflow.keras.applications.inception_v3 import preprocess_input\n",
    "import time\n",
    "import pickle \n",
    "import cv2\n",
    "from skimage import measure\n",
    "import random\n",
    "from tqdm import tqdm\n",
    "from tensorflow.keras.preprocessing.image import load_img, img_to_array\n",
    "from tensorflow.keras.applications.inception_v3 import preprocess_input\n",
    "import nltk\n",
    "from nltk.translate.bleu_score import sentence_bleu, corpus_bleu\n",
    "from sklearn.metrics import precision_score, recall_score, f1_score\n",
    "from nltk.translate.bleu_score import sentence_bleu\n",
    "from nltk.translate.bleu_score import SmoothingFunction"
   ]
  },
  {
   "cell_type": "code",
   "execution_count": 2,
   "id": "f3698320",
   "metadata": {},
   "outputs": [],
   "source": [
    "#download flikr8k dataset - this part needs to be revi\n",
    "BASE_DIR = '/Users/hajimeluka/Desktop/UNI/Y4/Advanced Topics/Code/'\n",
    "\n",
    "if not os.path.exists(f'{BASE_DIR}/data/'):\n",
    "    api_token = {\"username\":\"hajimeluka\",\"key\":\"0390d06cdb82c33d57f59406c95b1aec\"}\n",
    "    \n",
    "    with open(f'{BASE_DIR}/kaggle.json','w') as file: \n",
    "        json.dump(api_token, file)\n",
    "    \n",
    "    os.environ[\"KAGGLE_CONFIG_DIR\"] = BASE_DIR\n",
    "    os.system('kaggle datasets download -d adityajn105/flikr8k')\n",
    "    os.mkdirs(f'{BASE_DIR}/data/', exist_ok=True)\n",
    "    os.system(f'mv{BASE_DIR}/data/flikr8k.zip {BASE_DIR}/data/flikr8k.zip')\n",
    "    os.system(f'unzip -q {BASE_DIR}/data/flikr8k.zip -d {BASE_DIR}/data')\n",
    "    os.remove(f'{BASE_DIR}/data/flikr8k.zip')\n",
    "    \n",
    "                      "
   ]
  },
  {
   "cell_type": "code",
   "execution_count": 3,
   "id": "cc832b52",
   "metadata": {},
   "outputs": [
    {
     "data": {
      "text/html": [
       "<div>\n",
       "<style scoped>\n",
       "    .dataframe tbody tr th:only-of-type {\n",
       "        vertical-align: middle;\n",
       "    }\n",
       "\n",
       "    .dataframe tbody tr th {\n",
       "        vertical-align: top;\n",
       "    }\n",
       "\n",
       "    .dataframe thead th {\n",
       "        text-align: right;\n",
       "    }\n",
       "</style>\n",
       "<table border=\"1\" class=\"dataframe\">\n",
       "  <thead>\n",
       "    <tr style=\"text-align: right;\">\n",
       "      <th></th>\n",
       "      <th>image</th>\n",
       "      <th>caption</th>\n",
       "    </tr>\n",
       "  </thead>\n",
       "  <tbody>\n",
       "    <tr>\n",
       "      <th>0</th>\n",
       "      <td>1000268201_693b08cb0e.jpg</td>\n",
       "      <td>A child in a pink dress is climbing up a set o...</td>\n",
       "    </tr>\n",
       "    <tr>\n",
       "      <th>1</th>\n",
       "      <td>1000268201_693b08cb0e.jpg</td>\n",
       "      <td>A girl going into a wooden building .</td>\n",
       "    </tr>\n",
       "    <tr>\n",
       "      <th>2</th>\n",
       "      <td>1000268201_693b08cb0e.jpg</td>\n",
       "      <td>A little girl climbing into a wooden playhouse .</td>\n",
       "    </tr>\n",
       "    <tr>\n",
       "      <th>3</th>\n",
       "      <td>1000268201_693b08cb0e.jpg</td>\n",
       "      <td>A little girl climbing the stairs to her playh...</td>\n",
       "    </tr>\n",
       "    <tr>\n",
       "      <th>4</th>\n",
       "      <td>1000268201_693b08cb0e.jpg</td>\n",
       "      <td>A little girl in a pink dress going into a woo...</td>\n",
       "    </tr>\n",
       "  </tbody>\n",
       "</table>\n",
       "</div>"
      ],
      "text/plain": [
       "                       image  \\\n",
       "0  1000268201_693b08cb0e.jpg   \n",
       "1  1000268201_693b08cb0e.jpg   \n",
       "2  1000268201_693b08cb0e.jpg   \n",
       "3  1000268201_693b08cb0e.jpg   \n",
       "4  1000268201_693b08cb0e.jpg   \n",
       "\n",
       "                                             caption  \n",
       "0  A child in a pink dress is climbing up a set o...  \n",
       "1              A girl going into a wooden building .  \n",
       "2   A little girl climbing into a wooden playhouse .  \n",
       "3  A little girl climbing the stairs to her playh...  \n",
       "4  A little girl in a pink dress going into a woo...  "
      ]
     },
     "execution_count": 3,
     "metadata": {},
     "output_type": "execute_result"
    }
   ],
   "source": [
    "#display the dataset \n",
    "captions_with_base = pd.read_csv(f'{BASE_DIR}/data/captions.txt')\n",
    "\n",
    "captions = pd.read_csv(f'{BASE_DIR}/data/captions.txt')\n",
    "captions.head()\n"
   ]
  },
  {
   "cell_type": "code",
   "execution_count": 4,
   "id": "c09366d0",
   "metadata": {},
   "outputs": [
    {
     "name": "stdout",
     "output_type": "stream",
     "text": [
      "(40455, 2)\n"
     ]
    }
   ],
   "source": [
    "print(captions.shape)"
   ]
  },
  {
   "cell_type": "code",
   "execution_count": 5,
   "id": "317fb4e7",
   "metadata": {},
   "outputs": [],
   "source": [
    "# concatenate base directory with x \n",
    "captions_with_base['image'] = captions['image'].apply(\n",
    "    lambda x: f'{BASE_DIR}/data/Images{x}')"
   ]
  },
  {
   "cell_type": "markdown",
   "id": "a422e65f",
   "metadata": {},
   "source": [
    "# Text Preprocessing"
   ]
  },
  {
   "cell_type": "code",
   "execution_count": 6,
   "id": "074e8292",
   "metadata": {},
   "outputs": [],
   "source": [
    "#apply pre-processing on captions.txt file from dataset to make it training ready\n",
    "def preprocess(text):\n",
    "    #make all letters lowercase \n",
    "    text = text.lower()\n",
    "    \n",
    "    #remove punctuations \n",
    "    text = re.sub(r'[^\\w\\s]','',text)\n",
    "    \n",
    "    #remove extra spaces\n",
    "    text = re.sub('\\s+',' ',text)\n",
    "    text = text.strip()\n",
    "    \n",
    "    #add [start] and [end] special token\n",
    "    text = '[start] ' + text + ' [end]'\n",
    "    \n",
    "    return text\n",
    "    "
   ]
  },
  {
   "cell_type": "code",
   "execution_count": 7,
   "id": "adecfa4f",
   "metadata": {},
   "outputs": [
    {
     "data": {
      "text/html": [
       "<div>\n",
       "<style scoped>\n",
       "    .dataframe tbody tr th:only-of-type {\n",
       "        vertical-align: middle;\n",
       "    }\n",
       "\n",
       "    .dataframe tbody tr th {\n",
       "        vertical-align: top;\n",
       "    }\n",
       "\n",
       "    .dataframe thead th {\n",
       "        text-align: right;\n",
       "    }\n",
       "</style>\n",
       "<table border=\"1\" class=\"dataframe\">\n",
       "  <thead>\n",
       "    <tr style=\"text-align: right;\">\n",
       "      <th></th>\n",
       "      <th>image</th>\n",
       "      <th>caption</th>\n",
       "    </tr>\n",
       "  </thead>\n",
       "  <tbody>\n",
       "    <tr>\n",
       "      <th>0</th>\n",
       "      <td>1000268201_693b08cb0e.jpg</td>\n",
       "      <td>[start] a child in a pink dress is climbing up...</td>\n",
       "    </tr>\n",
       "    <tr>\n",
       "      <th>1</th>\n",
       "      <td>1000268201_693b08cb0e.jpg</td>\n",
       "      <td>[start] a girl going into a wooden building [end]</td>\n",
       "    </tr>\n",
       "    <tr>\n",
       "      <th>2</th>\n",
       "      <td>1000268201_693b08cb0e.jpg</td>\n",
       "      <td>[start] a little girl climbing into a wooden p...</td>\n",
       "    </tr>\n",
       "    <tr>\n",
       "      <th>3</th>\n",
       "      <td>1000268201_693b08cb0e.jpg</td>\n",
       "      <td>[start] a little girl climbing the stairs to h...</td>\n",
       "    </tr>\n",
       "    <tr>\n",
       "      <th>4</th>\n",
       "      <td>1000268201_693b08cb0e.jpg</td>\n",
       "      <td>[start] a little girl in a pink dress going in...</td>\n",
       "    </tr>\n",
       "  </tbody>\n",
       "</table>\n",
       "</div>"
      ],
      "text/plain": [
       "                       image  \\\n",
       "0  1000268201_693b08cb0e.jpg   \n",
       "1  1000268201_693b08cb0e.jpg   \n",
       "2  1000268201_693b08cb0e.jpg   \n",
       "3  1000268201_693b08cb0e.jpg   \n",
       "4  1000268201_693b08cb0e.jpg   \n",
       "\n",
       "                                             caption  \n",
       "0  [start] a child in a pink dress is climbing up...  \n",
       "1  [start] a girl going into a wooden building [end]  \n",
       "2  [start] a little girl climbing into a wooden p...  \n",
       "3  [start] a little girl climbing the stairs to h...  \n",
       "4  [start] a little girl in a pink dress going in...  "
      ]
     },
     "execution_count": 7,
     "metadata": {},
     "output_type": "execute_result"
    }
   ],
   "source": [
    "#output processed dataset \n",
    "captions['caption'] = captions['caption'].apply(preprocess)\n",
    "captions.head()\n"
   ]
  },
  {
   "cell_type": "markdown",
   "id": "83ef6dfb",
   "metadata": {},
   "source": [
    "# Text Vectorisation"
   ]
  },
  {
   "cell_type": "code",
   "execution_count": 8,
   "id": "dd2bcd68",
   "metadata": {},
   "outputs": [],
   "source": [
    "#maps each word to an individual integer as NN can only deal with numbers\n",
    "max_length = 40 # max number of words in sentence\n",
    "vocabulary_size = 5000 #max vocab size \n",
    "\n",
    "tokenizer = tf.keras.layers.TextVectorization(\n",
    "    max_tokens=vocabulary_size,\n",
    "    standardize = None,\n",
    "    output_sequence_length=max_length\n",
    ")\n",
    "\n",
    "tokenizer.adapt(captions['caption'])"
   ]
  },
  {
   "cell_type": "code",
   "execution_count": 9,
   "id": "beb8a45a",
   "metadata": {},
   "outputs": [
    {
     "data": {
      "text/plain": [
       "<tf.Tensor: shape=(1, 40), dtype=int64, numpy=\n",
       "array([[ 2, 10, 33,  0,  0,  0,  0,  0,  0,  0,  0,  0,  0,  0,  0,  0,\n",
       "         0,  0,  0,  0,  0,  0,  0,  0,  0,  0,  0,  0,  0,  0,  0,  0,\n",
       "         0,  0,  0,  0,  0,  0,  0,  0]])>"
      ]
     },
     "execution_count": 9,
     "metadata": {},
     "output_type": "execute_result"
    }
   ],
   "source": [
    "tokenizer(['a dog running'])"
   ]
  },
  {
   "cell_type": "code",
   "execution_count": 10,
   "id": "89b68d2d",
   "metadata": {},
   "outputs": [],
   "source": [
    "pickle.dump(tokenizer.get_vocabulary(), open('vocab_encdec.file', 'wb'))"
   ]
  },
  {
   "cell_type": "code",
   "execution_count": 11,
   "id": "da8086ba",
   "metadata": {},
   "outputs": [],
   "source": [
    "#creating word to index and index to word for easy conversion\n",
    "\n",
    "word2idx = tf.keras.layers.StringLookup(\n",
    "    mask_token=\"\",\n",
    "    vocabulary=tokenizer.get_vocabulary())\n",
    "\n",
    "idx2word = tf.keras.layers.StringLookup(\n",
    "    mask_token=\"\",\n",
    "    vocabulary=tokenizer.get_vocabulary(),\n",
    "    invert=True)"
   ]
  },
  {
   "cell_type": "code",
   "execution_count": 12,
   "id": "a5a5b6b8",
   "metadata": {
    "scrolled": true
   },
   "outputs": [
    {
     "name": "stdout",
     "output_type": "stream",
     "text": [
      "8091\n"
     ]
    }
   ],
   "source": [
    "#define directory where dataset is stored \n",
    "image_dir = \"/Users/hajimeluka/Desktop/UNI/Y4/Advanced Topics/Code/data/Images/.\"\n",
    "def load_images(folder):\n",
    "    images = []\n",
    "    for filename in os.listdir(folder):\n",
    "        img_path = os.path.join(folder, filename)\n",
    "        img = tf.io.read_file(img_path)  # read image file\n",
    "        img = tf.image.decode_jpeg(img, channels=3)  # load as tensor\n",
    "        img = tf.image.resize(img, (299, 299))  # resize image\n",
    "        img = img / 255.0  # normalize\n",
    "        images.append(img)\n",
    "    return images\n",
    "\n",
    "\n",
    "#ensure that there are 8k images \n",
    "images = load_images(image_dir)\n",
    "print(len(images))"
   ]
  },
  {
   "cell_type": "code",
   "execution_count": 13,
   "id": "54f80422",
   "metadata": {},
   "outputs": [],
   "source": [
    "#create function for extracting feature vectors using the imagenet dataset \n",
    "def extract_feature_vector(images_arr):\n",
    "    # Load InceptionV3 model pretrained on ImageNet dataset\n",
    "    model = tf.keras.applications.InceptionV3(\n",
    "    weights = 'imagenet',\n",
    "    include_top=False\n",
    "    )\n",
    "\n",
    "    images_np = [img.numpy() for img in images_arr]\n",
    "    resized_imgs = [cv2.resize(img, (299, 299)) for img in images_np]\n",
    "    preprocessed_imgs = preprocess_input(np.array(resized_imgs))\n",
    "\n",
    "    #extract feature vectors using the predefined inceptionV3 model \n",
    "    feature_vectors = model.predict(preprocessed_imgs)\n",
    "\n",
    "    return feature_vectors"
   ]
  },
  {
   "cell_type": "code",
   "execution_count": 14,
   "id": "0aa7ce43",
   "metadata": {},
   "outputs": [],
   "source": [
    "# #THIS NEEDS TO BE RUN ONE TIME, AND THEN IT IS ABLE TO BE COMMENTED OUT AS THE FEATURE VECTORS GET SAVED IN A FILE \n",
    "\n",
    "# # Populate the feature_vectors column\n",
    "# feature_vector = extract_feature_vector(images)\n",
    "# np.save('feature_vectors.npy', feature_vector)\n",
    "\n",
    "# print(feature_vector[0])\n",
    "# # \n",
    "# # Save the updated DataFrame back to captions.txt\n",
    "# # captions.to_csv('captions.txt', index=False)"
   ]
  },
  {
   "cell_type": "code",
   "execution_count": 15,
   "id": "647e7641",
   "metadata": {},
   "outputs": [],
   "source": [
    "feature_vector = np.load('feature_vectors.npy')"
   ]
  },
  {
   "cell_type": "code",
   "execution_count": 16,
   "id": "d117836f",
   "metadata": {},
   "outputs": [
    {
     "name": "stdout",
     "output_type": "stream",
     "text": [
      "[[[0.32486975 0.28514925 0.68446636 ... 0.         0.         0.        ]\n",
      "  [0.         0.         0.         ... 0.         0.         0.        ]\n",
      "  [0.         0.         0.         ... 0.         0.         0.        ]\n",
      "  ...\n",
      "  [0.         0.         0.         ... 0.         0.         0.        ]\n",
      "  [0.         0.         0.47627527 ... 0.         0.         0.        ]\n",
      "  [0.00877726 1.5091138  0.9137454  ... 0.         0.         0.        ]]\n",
      "\n",
      " [[0.         0.         0.03437407 ... 0.         0.         0.        ]\n",
      "  [0.         0.         0.         ... 0.         0.         0.        ]\n",
      "  [0.         0.         0.         ... 0.01801938 0.         0.        ]\n",
      "  ...\n",
      "  [0.         0.         0.         ... 0.07809211 0.         0.        ]\n",
      "  [0.         0.         0.         ... 0.         0.         0.        ]\n",
      "  [0.         0.         0.06235992 ... 0.         0.         0.        ]]\n",
      "\n",
      " [[0.         0.         0.         ... 0.19109185 0.         0.        ]\n",
      "  [0.         0.         0.         ... 0.18938328 0.         0.        ]\n",
      "  [0.         0.         0.         ... 0.44408512 0.         0.        ]\n",
      "  ...\n",
      "  [0.         0.         0.         ... 0.7604135  0.35185507 0.        ]\n",
      "  [0.         0.         0.         ... 0.3583082  0.32151338 0.        ]\n",
      "  [0.         0.         0.         ... 0.12011242 0.21653342 0.        ]]\n",
      "\n",
      " ...\n",
      "\n",
      " [[0.         0.         0.         ... 0.         0.         0.        ]\n",
      "  [0.         0.         0.11307036 ... 0.         0.         0.        ]\n",
      "  [0.         0.         0.7191442  ... 0.18878196 0.17471296 0.        ]\n",
      "  ...\n",
      "  [0.         0.         0.6811651  ... 0.41008213 0.42159763 0.        ]\n",
      "  [0.         0.         0.         ... 0.32103798 0.1438868  0.        ]\n",
      "  [0.         0.         0.84022534 ... 0.25121722 0.         0.        ]]\n",
      "\n",
      " [[0.         0.         0.         ... 0.         0.         0.        ]\n",
      "  [0.         0.         0.         ... 0.         0.         0.        ]\n",
      "  [0.         0.         0.50532734 ... 0.         0.         0.        ]\n",
      "  ...\n",
      "  [0.         0.         0.9207933  ... 0.         0.         0.        ]\n",
      "  [0.         0.         0.         ... 0.         0.         0.        ]\n",
      "  [0.         0.         0.         ... 0.         0.         0.        ]]\n",
      "\n",
      " [[0.         0.         0.         ... 0.         0.00416739 0.        ]\n",
      "  [0.         0.08961183 0.         ... 0.         0.01782295 0.        ]\n",
      "  [0.         0.41598934 0.12070014 ... 0.         0.         0.        ]\n",
      "  ...\n",
      "  [0.         0.         0.38058403 ... 0.         0.         0.        ]\n",
      "  [0.         0.         0.         ... 0.         0.         0.        ]\n",
      "  [0.         0.         0.15503046 ... 0.         0.         0.        ]]]\n"
     ]
    }
   ],
   "source": [
    "print(feature_vector[100])"
   ]
  },
  {
   "cell_type": "code",
   "execution_count": 17,
   "id": "22cc98ec",
   "metadata": {},
   "outputs": [],
   "source": [
    "# #map image to corresponding feature vector \n",
    "# fv_image_map = map(extract_feature_vector, images)\n",
    "\n",
    "# # Get the individual result\n",
    "# first_result = next(fv_image_map)\n",
    "# second_result = next(fv_image_map)\n",
    "\n",
    "# # Print the first result\n",
    "# print(first_result)"
   ]
  },
  {
   "cell_type": "code",
   "execution_count": 18,
   "id": "71c6add6",
   "metadata": {},
   "outputs": [
    {
     "data": {
      "text/plain": [
       "['1000268201_693b08cb0e.jpg',\n",
       " '1001773457_577c3a7d70.jpg',\n",
       " '1002674143_1b742ab4b8.jpg',\n",
       " '1003163366_44323f5815.jpg',\n",
       " '1007129816_e794419615.jpg',\n",
       " '1007320043_627395c3d8.jpg',\n",
       " '1009434119_febe49276a.jpg',\n",
       " '1012212859_01547e3f17.jpg',\n",
       " '1015118661_980735411b.jpg',\n",
       " '1015584366_dfcec3c85a.jpg',\n",
       " '101654506_8eb26cfb60.jpg',\n",
       " '101669240_b2d3e7f17b.jpg',\n",
       " '1016887272_03199f49c4.jpg',\n",
       " '1019077836_6fc9b15408.jpg',\n",
       " '1019604187_d087bf9a5f.jpg',\n",
       " '1020651753_06077ec457.jpg',\n",
       " '1022454332_6af2c1449a.jpg',\n",
       " '1022454428_b6b660a67b.jpg',\n",
       " '1022975728_75515238d8.jpg',\n",
       " '102351840_323e3de834.jpg',\n",
       " '1024138940_f1fefbdce1.jpg',\n",
       " '102455176_5f8ead62d5.jpg',\n",
       " '1026685415_0431cbf574.jpg',\n",
       " '1028205764_7e8df9a2ea.jpg',\n",
       " '1030985833_b0902ea560.jpg',\n",
       " '103106960_e8a41d64f8.jpg',\n",
       " '103195344_5d2dc613a3.jpg',\n",
       " '103205630_682ca7285b.jpg',\n",
       " '1032122270_ea6f0beedb.jpg',\n",
       " '1032460886_4a598ed535.jpg',\n",
       " '1034276567_49bb87c51c.jpg',\n",
       " '104136873_5b5d41be75.jpg',\n",
       " '1042020065_fb3d3ba5ba.jpg',\n",
       " '1042590306_95dea0916c.jpg',\n",
       " '1045521051_108ebc19be.jpg',\n",
       " '1048710776_bb5b0a5c7c.jpg',\n",
       " '1052358063_eae6744153.jpg',\n",
       " '105342180_4d4a40b47f.jpg',\n",
       " '1053804096_ad278b25f1.jpg',\n",
       " '1055623002_8195a43714.jpg',\n",
       " '1055753357_4fa3d8d693.jpg',\n",
       " '1056249424_ef2a2e041c.jpg',\n",
       " '1056338697_4f7d7ce270.jpg',\n",
       " '1056359656_662cee0814.jpg',\n",
       " '1056873310_49c665eb22.jpg',\n",
       " '1057089366_ca83da0877.jpg',\n",
       " '1057210460_09c6f4c6c1.jpg',\n",
       " '1057251835_6ded4ada9c.jpg',\n",
       " '106490881_5a2dd9b7bd.jpg',\n",
       " '106514190_bae200f463.jpg',\n",
       " '1067180831_a59dc64344.jpg',\n",
       " '1067675215_7336a694d6.jpg',\n",
       " '1067790824_f3cc97239b.jpg',\n",
       " '1072153132_53d2bb1b60.jpg',\n",
       " '107318069_e9f2ef32de.jpg',\n",
       " '1075716537_62105738b4.jpg',\n",
       " '107582366_d86f2d3347.jpg',\n",
       " '1075867198_27ca2e7efe.jpg',\n",
       " '1075881101_d55c46bece.jpg',\n",
       " '1077546505_a4f6c4daa9.jpg',\n",
       " '1077931201_1e0bb83105.jpg',\n",
       " '1079274291_9aaf896cc1.jpg',\n",
       " '10815824_2997e03d76.jpg',\n",
       " '1082252566_8c79beef93.jpg',\n",
       " '1082379191_ec1e53f996.jpg',\n",
       " '1084040636_97d9633581.jpg',\n",
       " '1084104085_3b06223afe.jpg',\n",
       " '1087168168_70280d024a.jpg',\n",
       " '1087539207_9f77ab3aaf.jpg',\n",
       " '1088767354_2acee738cf.jpg',\n",
       " '108898978_7713be88fc.jpg',\n",
       " '108899015_bf36131a57.jpg',\n",
       " '1089181217_ee1167f7af.jpg',\n",
       " '1089755335_0bfbfd30e6.jpg',\n",
       " '109202756_b97fcdc62c.jpg',\n",
       " '109202801_c6381eef15.jpg',\n",
       " '109260216_85b0be5378.jpg',\n",
       " '109260218_fca831f933.jpg',\n",
       " '1093716555_801aacef79.jpg',\n",
       " '1093737381_b313cd49ff.jpg',\n",
       " '1094462889_f9966dafa6.jpg',\n",
       " '1095476286_87d4f8664e.jpg',\n",
       " '1095580424_76f0aa8a3e.jpg',\n",
       " '1095590286_c654f7e5a9.jpg',\n",
       " '1095980313_3c94799968.jpg',\n",
       " '1096097967_ac305887b4.jpg',\n",
       " '1096165011_cc5eb16aa6.jpg',\n",
       " '1096395242_fc69f0ae5a.jpg',\n",
       " '109671650_f7bbc297fa.jpg',\n",
       " '109738763_90541ef30d.jpg',\n",
       " '109738916_236dc456ac.jpg',\n",
       " '109823394_83fcb735e1.jpg',\n",
       " '109823395_6fb423a90f.jpg',\n",
       " '109823397_e35154645f.jpg',\n",
       " '1100214449_d10861e633.jpg',\n",
       " '1104133405_c04a00707f.jpg',\n",
       " '1105959054_9c3a738096.jpg',\n",
       " '110595925_f3395c8bd6.jpg',\n",
       " '1107246521_d16a476380.jpg',\n",
       " '1107471216_4336c9b328.jpg',\n",
       " '1110208841_5bb6806afe.jpg',\n",
       " '1112212364_0c48235fc2.jpg',\n",
       " '111497985_38e9f88856.jpg',\n",
       " '111537217_082a4ba060.jpg',\n",
       " '111537222_07e56d5a30.jpg',\n",
       " '1115565519_d976d4b1f1.jpg',\n",
       " '1115679311_245eff2f4b.jpg',\n",
       " '111766423_4522d36e56.jpg',\n",
       " '1117972841_2b9261f95f.jpg',\n",
       " '1118557877_736f339752.jpg',\n",
       " '1119015538_e8e796281e.jpg',\n",
       " '1119418776_58e4b93eac.jpg',\n",
       " '1119463452_69d4eecd08.jpg',\n",
       " '1121416483_c7902d0d49.jpg',\n",
       " '112178718_87270d9b4d.jpg',\n",
       " '112243673_fd68255217.jpg',\n",
       " '1122944218_8eb3607403.jpg',\n",
       " '1124448967_2221af8dc5.jpg',\n",
       " '1129704496_4a61441f2c.jpg',\n",
       " '1130017585_1a219257ac.jpg',\n",
       " '1130369873_d80a1aa59c.jpg',\n",
       " '1130401779_8c30182e3e.jpg',\n",
       " '1131155939_b4b457b05e.jpg',\n",
       " '1131340021_83f46b150a.jpg',\n",
       " '1131800850_89c7ffd477.jpg',\n",
       " '1131804997_177c3c0640.jpg',\n",
       " '1131932671_c8d17751b3.jpg',\n",
       " '1132772170_600610c5df.jpg',\n",
       " '113678030_87a6a6e42e.jpg',\n",
       " '1138784872_69ade3f2ab.jpg',\n",
       " '114051287_dd85625a04.jpg',\n",
       " '1141718391_24164bf1b1.jpg',\n",
       " '1141739219_2c47195e4c.jpg',\n",
       " '1142283988_6b227c5231.jpg',\n",
       " '1142847777_2a0c1c2551.jpg',\n",
       " '1143373711_2e90b7b799.jpg',\n",
       " '1143882946_1898d2eeb9.jpg',\n",
       " '1144288288_e5c9558b6a.jpg',\n",
       " '1148238960_f8cacec2fc.jpg',\n",
       " '1149179852_acad4d7300.jpg',\n",
       " '114949897_490ca7eaec.jpg',\n",
       " '1151466868_3bc4d9580b.jpg',\n",
       " '1153704539_542f7aa3a5.jpg',\n",
       " '1155138244_859fd6e079.jpg',\n",
       " '115684808_cb01227802.jpg',\n",
       " '1159574340_99ba8c3c59.jpg',\n",
       " '1160034462_16b38174fe.jpg',\n",
       " '1160441615_fe6b3c5277.jpg',\n",
       " '1163282319_b729b24c46.jpg',\n",
       " '116409198_0fe0c94f3b.jpg',\n",
       " '1164131282_b30926f332.jpg',\n",
       " '1164765687_7aca07bbe7.jpg',\n",
       " '1167662968_e466f1e80a.jpg',\n",
       " '1167669558_87a8a467d6.jpg',\n",
       " '1167908324_8caab45e15.jpg',\n",
       " '1169307342_e7a4685a5c.jpg',\n",
       " '1174525839_7c1e6cfa86.jpg',\n",
       " '1174629344_a2e1a2bdbf.jpg',\n",
       " '1176580356_9810d877bf.jpg',\n",
       " '1177994172_10d143cb8d.jpg',\n",
       " '1178705300_c224d9a4f1.jpg',\n",
       " '118187095_d422383c81.jpg',\n",
       " '118309463_a532b75be9.jpg',\n",
       " '1184967930_9e29ce380d.jpg',\n",
       " '1187435567_18173c148b.jpg',\n",
       " '1187593464_ce862352c6.jpg',\n",
       " '1189977786_4f5aaed773.jpg',\n",
       " '1191338263_a4fa073154.jpg',\n",
       " '1193116658_c0161c35b5.jpg',\n",
       " '119534510_d52b3781a3.jpg',\n",
       " '1197800988_7fb0ca4888.jpg',\n",
       " '1198194316_543cc7b945.jpg',\n",
       " '1204996216_71d7519d9a.jpg',\n",
       " '1206506157_c7956accd5.jpg',\n",
       " '1207159468_425b902bfb.jpg',\n",
       " '1211015912_9f3ee3a995.jpg',\n",
       " '1213336750_2269b51397.jpg',\n",
       " '1215334959_b1970965f7.jpg',\n",
       " '121800200_bef08fae5f.jpg',\n",
       " '121971540_0a986ee176.jpg',\n",
       " '1220401002_3f44b1f3f7.jpg',\n",
       " '1222322358_225067636e.jpg',\n",
       " '1224851143_33bcdd299c.jpg',\n",
       " '1225443522_1633e7121f.jpg',\n",
       " '1227655020_b11a1bb112.jpg',\n",
       " '1229756013_94663527d7.jpg',\n",
       " '1231229740_8dcbf80bfb.jpg',\n",
       " '1232148178_4f45cc3284.jpg',\n",
       " '1234293791_6566284bcd.jpg',\n",
       " '1234817607_924893f6e1.jpg',\n",
       " '1235580648_7eebaed9bc.jpg',\n",
       " '1235681222_819231767a.jpg',\n",
       " '1235685934_be89b231fb.jpg',\n",
       " '1236951314_0308dc4138.jpg',\n",
       " '1236964638_1808784a3c.jpg',\n",
       " '1237985362_dbafc59280.jpg',\n",
       " '123889082_d3751e0350.jpg',\n",
       " '123997871_6a9ca987b1.jpg',\n",
       " '1240297429_c36ae0c58f.jpg',\n",
       " '124195430_d14028660f.jpg',\n",
       " '1244140539_da4804d828.jpg',\n",
       " '1244306891_8e78ae1620.jpg',\n",
       " '1244485675_822e6efe60.jpg',\n",
       " '1245022983_fb329886dd.jpg',\n",
       " '1247181182_35cabd76f3.jpg',\n",
       " '1248357227_2b4175fc39.jpg',\n",
       " '1248734482_3038218f3b.jpg',\n",
       " '124881487_36e668145d.jpg',\n",
       " '1248940539_46d33ed487.jpg',\n",
       " '1248953128_24c9f8d924.jpg',\n",
       " '124972799_de706b6d0b.jpg',\n",
       " '1251558317_4ef844b775.jpg',\n",
       " '1252396628_eb81d3905b.jpg',\n",
       " '1252787177_4b08625897.jpg',\n",
       " '125319704_49ead3463c.jpg',\n",
       " '1253264731_e7c689eca5.jpg',\n",
       " '1253275679_e955fb7304.jpg',\n",
       " '1255504166_f2437febcb.jpg',\n",
       " '1258913059_07c613f7ff.jpg',\n",
       " '1259936608_e3f0064f23.jpg',\n",
       " '1260816604_570fc35836.jpg',\n",
       " '1262077938_8b9516c273.jpg',\n",
       " '1262454669_f1caafec2d.jpg',\n",
       " '1262583859_653f1469a9.jpg',\n",
       " '1263126002_881ebd7ac9.jpg',\n",
       " '1263801010_5c74bf1715.jpg',\n",
       " '1267711451_e2a754b4f8.jpg',\n",
       " '1269470943_ba7fc49b4d.jpg',\n",
       " '1271210445_7f7ecf3791.jpg',\n",
       " '1271960365_e54033f883.jpg',\n",
       " '1273001772_1585562051.jpg',\n",
       " '127450902_533ceeddfc.jpg',\n",
       " '127488876_f2d2a89588.jpg',\n",
       " '127490019_7c5c08cb11.jpg',\n",
       " '1277185009_06478dd457.jpg',\n",
       " '1277743944_f4e8c78403.jpg',\n",
       " '1280147517_98767ca3b3.jpg',\n",
       " '1280320287_b2a4b9b7bd.jpg',\n",
       " '1282392036_5a0328eb86.jpg',\n",
       " '12830823_87d2654e31.jpg',\n",
       " '1285067106_2adc307240.jpg',\n",
       " '1285874746_486731a954.jpg',\n",
       " '1286408831_05282582ed.jpg',\n",
       " '1287064529_aa4e4f3c31.jpg',\n",
       " '1287073593_f3d2a62455.jpg',\n",
       " '1287475186_2dee85f1a5.jpg',\n",
       " '1287920676_d21a0b289b.jpg',\n",
       " '1287931016_fb015e2e10.jpg',\n",
       " '1287982439_6578006e22.jpg',\n",
       " '1288909046_d2b2b62607.jpg',\n",
       " '128912885_8350d277a4.jpg',\n",
       " '1289142574_2bd6a082dd.jpg',\n",
       " '1290894194_8a4ffdc7eb.jpg',\n",
       " '1294578091_2ad02fea91.jpg',\n",
       " '1295669416_21cabf594d.jpg',\n",
       " '1295671216_cde1b9c9d1.jpg',\n",
       " '1295698260_e10c53c137.jpg',\n",
       " '129599450_cab4e77343.jpg',\n",
       " '1296412797_85b6d2f8d6.jpg',\n",
       " '1296770308_3db2022f5a.jpg',\n",
       " '1298295313_db1f4c6522.jpg',\n",
       " '1298866571_b4c496b71c.jpg',\n",
       " '1299459550_1fd5594fa2.jpg',\n",
       " '1299459562_ed0e064aee.jpg',\n",
       " '1301140633_046e4e8010.jpg',\n",
       " '130211457_be3f6b335d.jpg',\n",
       " '1302657647_46b36c0d66.jpg',\n",
       " '1303335399_b3facd47ab.jpg',\n",
       " '1303548017_47de590273.jpg',\n",
       " '1303550623_cb43ac044a.jpg',\n",
       " '1303727066_23d0f6ed43.jpg',\n",
       " '1303727828_d1052ee341.jpg',\n",
       " '1304100320_c8990a1539.jpg',\n",
       " '1304961697_76b86b0c18.jpg',\n",
       " '1305564994_00513f9a5b.jpg',\n",
       " '1306145560_1e37081b91.jpg',\n",
       " '1307635496_94442dc21a.jpg',\n",
       " '1308472581_9961782889.jpg',\n",
       " '1308617539_54e1a3dfbe.jpg',\n",
       " '1309330801_aeeb23f1ee.jpg',\n",
       " '1311132744_5ffd03f831.jpg',\n",
       " '1311388430_4ab0cd1a1f.jpg',\n",
       " '1312020846_5abb4a9be2.jpg',\n",
       " '1312227131_771b5ed201.jpg',\n",
       " '1312954382_cf6d70d63a.jpg',\n",
       " '1313693129_71d0b21c63.jpg',\n",
       " '1313961775_824b87d155.jpg',\n",
       " '1316247213_1d2c726dd5.jpg',\n",
       " '131632409_4de0d4e710.jpg',\n",
       " '1317292658_ba29330a0b.jpg',\n",
       " '1319634306_816f21677f.jpg',\n",
       " '1321723162_9d4c78b8af.jpg',\n",
       " '1321949151_77b77b4617.jpg',\n",
       " '1322323208_c7ecb742c6.jpg',\n",
       " '1324816249_86600a6759.jpg',\n",
       " '132489044_3be606baf7.jpg',\n",
       " '1329832826_432538d331.jpg',\n",
       " '1330645772_24f831ff8f.jpg',\n",
       " '133189853_811de6ab2a.jpg',\n",
       " '1332208215_fa824f6659.jpg',\n",
       " '1332492622_8c66992b62.jpg',\n",
       " '1332722096_1e3de8ae70.jpg',\n",
       " '1332815795_8eea44375e.jpg',\n",
       " '1332823164_c70a5d930e.jpg',\n",
       " '1333888922_26f15c18c3.jpg',\n",
       " '1334892555_1beff092c3.jpg',\n",
       " '1335617803_4fbc03dab0.jpg',\n",
       " '1337792872_d01a390b33.jpg',\n",
       " '1338523142_57fce8229b.jpg',\n",
       " '133905560_9d012b47f3.jpg',\n",
       " '1339596997_8ac29c1841.jpg',\n",
       " '1341787777_4f1ebb1793.jpg',\n",
       " '1342766791_1e72f92455.jpg',\n",
       " '1342780478_bacc32344d.jpg',\n",
       " '1343426964_cde3fb54e8.jpg',\n",
       " '1346051107_9cdc14e070.jpg',\n",
       " '1346529555_e916816cfe.jpg',\n",
       " '134724228_30408cd77f.jpg',\n",
       " '1347519824_e402241e4f.jpg',\n",
       " '1348113612_5bfc5f429e.jpg',\n",
       " '1348304997_afe60a61df.jpg',\n",
       " '1348891916_ebd4413033.jpg',\n",
       " '134894450_dadea45d65.jpg',\n",
       " '1348947380_14f0fc1237.jpg',\n",
       " '1348957576_c4a78eb974.jpg',\n",
       " '1350811702_2ce7cfd0c5.jpg',\n",
       " '1350948838_fdebe4ff65.jpg',\n",
       " '1351315701_6580b51c41.jpg',\n",
       " '1351764581_4d4fb1b40f.jpg',\n",
       " '135235570_5698072cd4.jpg',\n",
       " '1352398363_9cc8ffcce9.jpg',\n",
       " '1352410176_af6b139734.jpg',\n",
       " '1354318519_2f9baed754.jpg',\n",
       " '1355450069_c0675b0706.jpg',\n",
       " '1355703632_5683a4b6fb.jpg',\n",
       " '1355833561_9c43073eda.jpg',\n",
       " '1355935187_2c99648138.jpg',\n",
       " '1355945307_f9e01a9a05.jpg',\n",
       " '1356543628_c13ebe38fb.jpg',\n",
       " '1356796100_b265479721.jpg',\n",
       " '1357689954_72588dfdc4.jpg',\n",
       " '1357724865_4faf4e1418.jpg',\n",
       " '1357753846_6185e26040.jpg',\n",
       " '1358089136_976e3d2e30.jpg',\n",
       " '1358892595_7a37c45788.jpg',\n",
       " '1359101233_16c2c150e3.jpg',\n",
       " '1361420539_e9599c60ae.jpg',\n",
       " '1362128028_8422d53dc4.jpg',\n",
       " '1363843090_9425d93064.jpg',\n",
       " '1363924449_487f0733df.jpg',\n",
       " '136552115_6dc3e7231c.jpg',\n",
       " '136639119_6040b00946.jpg',\n",
       " '136644343_0e2b423829.jpg',\n",
       " '136644885_f7d2bbf546.jpg',\n",
       " '1368338041_6b4077ca98.jpg',\n",
       " '1368383637_614646cc4a.jpg',\n",
       " '136886677_6026c622eb.jpg',\n",
       " '1370615506_2b96105ca3.jpg',\n",
       " '1370773415_967b1ffde1.jpg',\n",
       " '1377668044_36398401dd.jpg',\n",
       " '1378557186_4bd1da6834.jpg',\n",
       " '1379026456_153fd8b51b.jpg',\n",
       " '1383698008_8ac53ed7ec.jpg',\n",
       " '1383840121_c092110917.jpg',\n",
       " '1384292980_4022a7520c.jpg',\n",
       " '1386251841_5f384a0fea.jpg',\n",
       " '1386964743_9e80d96b05.jpg',\n",
       " '138705546_be7a6845dd.jpg',\n",
       " '138718600_f430ebca17.jpg',\n",
       " '1387443857_602ab6f9bf.jpg',\n",
       " '1387461595_2fe6925f73.jpg',\n",
       " '1387785218_cee67735f5.jpg',\n",
       " '1388346434_524d0b6dfa.jpg',\n",
       " '1388373425_3c72b56639.jpg',\n",
       " '1388970365_162edcceb4.jpg',\n",
       " '1389264266_8170bc1c54.jpg',\n",
       " '1389323170_d1c81d6b51.jpg',\n",
       " '1389651420_8d95d8f6ed.jpg',\n",
       " '1390268323_2c8204e91c.jpg',\n",
       " '1392272228_cf104086e6.jpg',\n",
       " '1394368714_3bc7c19969.jpg',\n",
       " '1394396709_65040d97ab.jpg',\n",
       " '1394599090_fe0ba238f0.jpg',\n",
       " '1394620454_bf708cc501.jpg',\n",
       " '1394927474_0afdd82fc4.jpg',\n",
       " '1396064003_3fd949c9dd.jpg',\n",
       " '1396703063_e8c3687afe.jpg',\n",
       " '1397295388_8a5b6b525d.jpg',\n",
       " '1397887419_e798697b93.jpg',\n",
       " '1397923690_d3bf1f799e.jpg',\n",
       " '1398606571_f543f7698a.jpg',\n",
       " '1398613231_18de248606.jpg',\n",
       " '1398873613_7e3174dd6c.jpg',\n",
       " '1400424834_1c76e700c4.jpg',\n",
       " '1401961581_76921a75c5.jpg',\n",
       " '1402640441_81978e32a9.jpg',\n",
       " '1402641725_5e027ecaa7.jpg',\n",
       " '1402843760_d30f1dbf0f.jpg',\n",
       " '1402859872_0fc8cf8108.jpg',\n",
       " '1403414927_5f80281505.jpg',\n",
       " '140377584_12bdbdf2f8.jpg',\n",
       " '140430106_2978fda105.jpg',\n",
       " '1404832008_68e432665b.jpg',\n",
       " '1405221276_21634dcd58.jpg',\n",
       " '140526326_da07305c1c.jpg',\n",
       " '140526327_3cb984de09.jpg',\n",
       " '1406010299_5755339f08.jpg',\n",
       " '1408958345_68eea9a4e4.jpg',\n",
       " '1410193619_13fff6c875.jpg',\n",
       " '141139674_246c0f90a1.jpg',\n",
       " '141140165_9002a04f19.jpg',\n",
       " '1412832223_99e8b4701a.jpg',\n",
       " '1413956047_c826f90c8b.jpg',\n",
       " '1414779054_31946f9dfc.jpg',\n",
       " '1414820925_3504c394e1.jpg',\n",
       " '1415591512_a84644750c.jpg',\n",
       " '1417031097_ab656bc4bd.jpg',\n",
       " '1417295167_5299df6db8.jpg',\n",
       " '141755290_4b954529f3.jpg',\n",
       " '141755292_7a0b3364cf.jpg',\n",
       " '1417637704_572b4d6557.jpg',\n",
       " '1417882092_c94c251eb3.jpg',\n",
       " '1417941060_2a0f7908bc.jpg',\n",
       " '1418019748_51c7d59c11.jpg',\n",
       " '1418266617_b32143275b.jpg',\n",
       " '1418503947_953d373632.jpg',\n",
       " '1419286010_b59af3962a.jpg',\n",
       " '1419385780_1383ec7ba9.jpg',\n",
       " '1420060020_7a6984e2ea.jpg',\n",
       " '1420060118_aed262d606.jpg',\n",
       " '1423126855_6cd2a3956c.jpg',\n",
       " '1423997242_ea2189ec5e.jpg',\n",
       " '1424237335_b3be9920ba.jpg',\n",
       " '1424775129_ffea9c13ab.jpg',\n",
       " '1425013325_bff69bc9da.jpg',\n",
       " '1425069308_488e5fcf9d.jpg',\n",
       " '1425069590_570cc7c2d8.jpg',\n",
       " '1425485485_d7c97a5470.jpg',\n",
       " '1425919702_ddb761aeec.jpg',\n",
       " '1426014905_da60d72957.jpg',\n",
       " '1427391496_ea512cbe7f.jpg',\n",
       " '142802798_962a4ec5ce.jpg',\n",
       " '1428578577_82864facae.jpg',\n",
       " '1428641354_f7453afbea.jpg',\n",
       " '1428681303_04213524e3.jpg',\n",
       " '1429546659_44cb09cbe2.jpg',\n",
       " '1429723917_6af585e4c0.jpg',\n",
       " '1429814475_0b592b9995.jpg',\n",
       " '1430154945_71bbaa094a.jpg',\n",
       " '1432179046_8e3d75cf81.jpg',\n",
       " '1432342377_3e41603f26.jpg',\n",
       " '143237785_93f81b3201.jpg',\n",
       " '1433088025_bce2cb69f8.jpg',\n",
       " '1433142189_cda8652603.jpg',\n",
       " '1433397131_8634fa6664.jpg',\n",
       " '1433577867_39a1510c43.jpg',\n",
       " '1434005938_ad75c8598c.jpg',\n",
       " '1434607942_da5432c28c.jpg',\n",
       " '143552697_af27e9acf5.jpg',\n",
       " '143552829_72b6ba49d4.jpg',\n",
       " '1436760519_8d6101a0ed.jpg',\n",
       " '143680442_2f03f76944.jpg',\n",
       " '143680966_0010ff8c60.jpg',\n",
       " '143684568_3c59299bae.jpg',\n",
       " '143688205_630813a466.jpg',\n",
       " '143688283_a96ded20f1.jpg',\n",
       " '143688895_e837c3bc76.jpg',\n",
       " '1439046601_cf110a75a7.jpg',\n",
       " '1439282131_3814d6ae04.jpg',\n",
       " '1440024115_129212c988.jpg',\n",
       " '1443807993_aebfb2784a.jpg',\n",
       " '1445123245_c7b9db0e0c.jpg',\n",
       " '1445754124_647168f211.jpg',\n",
       " '1446053356_a924b4893f.jpg',\n",
       " '1446933195_8fe9725d62.jpg',\n",
       " '1448511770_1a4a9c453b.jpg',\n",
       " '1449370354_380c4123c9.jpg',\n",
       " '1449625950_fc9a8d02d9.jpg',\n",
       " '1449692616_60507875fb.jpg',\n",
       " '1452361926_6d8c535e32.jpg',\n",
       " '1453366750_6e8cf601bf.jpg',\n",
       " '1454678644_7e5a371301.jpg',\n",
       " '1454841725_4b6e6199e2.jpg',\n",
       " '1456393634_74022d9056.jpg',\n",
       " '1456630952_dd4778a48f.jpg',\n",
       " '145721496_687af9bb18.jpg',\n",
       " '145721498_a27d2db576.jpg',\n",
       " '1457762320_7fe121b285.jpg',\n",
       " '1459032057_97e73ed6ab.jpg',\n",
       " '1459250022_bf1eddad11.jpg',\n",
       " '1460352062_d64fb633e0.jpg',\n",
       " '1460500597_866fa0c6f3.jpg',\n",
       " '146098876_0d99d7fb98.jpg',\n",
       " '146100443_906d87faa2.jpg',\n",
       " '1461329041_c623b06e5b.jpg',\n",
       " '1461653394_8ab96aae63.jpg',\n",
       " '1461667284_041c8a2475.jpg',\n",
       " '1463638541_c02cfa04dc.jpg',\n",
       " '1463732130_a754441289.jpg',\n",
       " '1463732807_0cdf4f22c7.jpg',\n",
       " '1464120327_d90279ca3a.jpg',\n",
       " '1465666502_de289b3b9c.jpg',\n",
       " '146577645_91b570c0d0.jpg',\n",
       " '146577646_9e64b8c2dc.jpg',\n",
       " '1466307485_5e6743332e.jpg',\n",
       " '1466307489_cb8a74de09.jpg',\n",
       " '1466479163_439db855af.jpg',\n",
       " '1467533293_a2656cc000.jpg',\n",
       " '1468103286_96a6e07029.jpg',\n",
       " '1468389504_c724bdcad0.jpg',\n",
       " '1468429623_f001988691.jpg',\n",
       " '1468962616_5803b4397f.jpg',\n",
       " '1469000260_5d473c8283.jpg',\n",
       " '1469358746_2a879abaf3.jpg',\n",
       " '1470061031_4cb59c12a8.jpg',\n",
       " '1470132731_fa416b7504.jpg',\n",
       " '1470536919_1f3fd6c65a.jpg',\n",
       " '1472053993_bed67a3ba7.jpg',\n",
       " '1472230829_803818a383.jpg',\n",
       " '1472249944_d887c3aeda.jpg',\n",
       " '1472653060_7427d2865a.jpg',\n",
       " '1472882567_33dc14c8b6.jpg',\n",
       " '1473080948_bae2925dc8.jpg',\n",
       " '1473250020_dc829a090f.jpg',\n",
       " '1473618073_7db56a5237.jpg',\n",
       " '1474474514_b3eb492722.jpg',\n",
       " '1475046848_831245fc64.jpg',\n",
       " '1476002408_4256b7b2fa.jpg',\n",
       " '1476241331_2f43b67aed.jpg',\n",
       " '1478268555_7e301fc510.jpg',\n",
       " '1478294229_7e1c822fea.jpg',\n",
       " '1478606153_a7163bf899.jpg',\n",
       " '1479028910_3dab3448c8.jpg',\n",
       " '1479124077_17dcc0d5d7.jpg',\n",
       " '1479513774_70c94cf9d3.jpg',\n",
       " '1479679558_d0a01bc62b.jpg',\n",
       " '1479857177_9d4a6f38fd.jpg',\n",
       " '1480712062_32a61ad4b7.jpg',\n",
       " '1481062342_d9e34366c4.jpg',\n",
       " '1482960952_95f2d419cb.jpg',\n",
       " '148512773_bae6901fd6.jpg',\n",
       " '1488937076_5baa73fc2a.jpg',\n",
       " '1489286545_8df476fa26.jpg',\n",
       " '1490213660_9ea45550cf.jpg',\n",
       " '1490670858_e122df2560.jpg',\n",
       " '1491192153_7c395991e5.jpg',\n",
       " '1499495021_d295ce577c.jpg',\n",
       " '1499554025_a8ffe0e479.jpg',\n",
       " '1499581619_a5f65a882c.jpg',\n",
       " '1500853305_0150615ce9.jpg',\n",
       " '1501297480_8db52c15b0.jpg',\n",
       " '1501811302_5e723fc529.jpg',\n",
       " '1501985304_8c50093004.jpg',\n",
       " '150387174_24825cf871.jpg',\n",
       " '1505686764_9e3bcd854a.jpg',\n",
       " '150582765_bad8dec237.jpg',\n",
       " '1507563902_6ec8d5d822.jpg',\n",
       " '1508269285_6c5723f67d.jpg',\n",
       " '1509786421_f03158adfc.jpg',\n",
       " '1510078253_96e9ec50e7.jpg',\n",
       " '1510669311_75330b4781.jpg',\n",
       " '1511807116_41c3645e8c.jpg',\n",
       " '1514957266_a19827c538.jpg',\n",
       " '1515025681_999199cb79.jpg',\n",
       " '1515883224_14e36a53c7.jpg',\n",
       " '1516714577_7d1c35a8d8.jpg',\n",
       " '1517340899_ee1c74a8f6.jpg',\n",
       " '1517721825_10176d0683.jpg',\n",
       " '1517807181_ca6588f2a0.jpg',\n",
       " '152029243_b3582c36fa.jpg',\n",
       " '1521623639_4bda3407cc.jpg',\n",
       " '1522787272_5a31497ef2.jpg',\n",
       " '1523800748_a59e980eee.jpg',\n",
       " '1523984678_edd68464da.jpg',\n",
       " '1525153022_06c48dbe52.jpg',\n",
       " '1526181215_c1a94325ae.jpg',\n",
       " '1526325728_74eb4153d8.jpg',\n",
       " '1527297882_dededc7891.jpg',\n",
       " '1527333441_af65636a74.jpg',\n",
       " '1527513023_3d8152b379.jpg',\n",
       " '1528205014_1323aa9dfd.jpg',\n",
       " '1529044279_4922ead27c.jpg',\n",
       " '1536597926_c2e1bc2379.jpg',\n",
       " '1536774449_e16b1b6382.jpg',\n",
       " '1539166395_0cdc0accee.jpg',\n",
       " '1540631615_8b42c1b160.jpg',\n",
       " '1541272333_1624b22546.jpg',\n",
       " '1542033433_5453d4c466.jpg',\n",
       " '1547883892_e29b3db42e.jpg',\n",
       " '154871781_ae77696b77.jpg',\n",
       " '1550772959_9ca9fa625f.jpg',\n",
       " '1552065993_b4dcd2eadf.jpg',\n",
       " '155221027_b23a4331b7.jpg',\n",
       " '1554713437_61b64527dd.jpg',\n",
       " '1557451043_f5c91ff6f4.jpg',\n",
       " '1557838421_a33f2a4911.jpg',\n",
       " '1561658940_a947f2446a.jpg',\n",
       " '1562392511_522a26063b.jpg',\n",
       " '1562478333_43d13e5427.jpg',\n",
       " '1562478713_505ab6d924.jpg',\n",
       " '1563731247_7f21d8bec0.jpg',\n",
       " '1564614124_0ee6799935.jpg',\n",
       " '1566117559_f5d98fbeb0.jpg',\n",
       " '1569562856_eedb5a0a1f.jpg',\n",
       " '156967462_72db9b722c.jpg',\n",
       " '1569687608_0e3b3ad044.jpg',\n",
       " '1570723692_3a2b064d43.jpg',\n",
       " '157139628_5dc483e2e4.jpg',\n",
       " '1572286502_64e5c4b920.jpg',\n",
       " '1572532018_64c030c974.jpg',\n",
       " '1573017288_4d481856e2.jpg',\n",
       " '1574401950_6bedc0d29b.jpg',\n",
       " '1576185717_f841ddc3da.jpg',\n",
       " '1579198375_84b18e003a.jpg',\n",
       " '1579206585_5ca6a24db0.jpg',\n",
       " '1579287915_4257c54451.jpg',\n",
       " '1579798212_d30844b4c5.jpg',\n",
       " '1580172290_e19067e0dd.jpg',\n",
       " '1580671272_3e99d94305.jpg',\n",
       " '1581822598_0ae23074f1.jpg',\n",
       " '1584315962_5b0b45d02d.jpg',\n",
       " '1594038143_57f299aa8a.jpg',\n",
       " '159712188_d530dd478c.jpg',\n",
       " '1597319381_1e80d9e39c.jpg',\n",
       " '1597557856_30640e0b43.jpg',\n",
       " '1598085252_f3219b6140.jpg',\n",
       " '1600208439_e94527b80f.jpg',\n",
       " '160541986_d5be2ab4c1.jpg',\n",
       " '160566014_59528ff897.jpg',\n",
       " '160585932_fa6339f248.jpg',\n",
       " '1606988704_fe330878a3.jpg',\n",
       " '160792599_6a7ec52516.jpg',\n",
       " '160805827_5e6646b753.jpg',\n",
       " '1616016569_673de1d678.jpg',\n",
       " '161669933_3e7d8c7e2c.jpg',\n",
       " '161905204_247c6ca6de.jpg',\n",
       " '1620397000_3883e3ecd3.jpg',\n",
       " '162152393_52ecd33fc5.jpg',\n",
       " '1622619190_d0b51aff28.jpg',\n",
       " '1625306051_7099519baa.jpg',\n",
       " '1626754053_81126b67b6.jpg',\n",
       " '162743064_bb242faa31.jpg',\n",
       " '1643915227_9f48068772.jpg',\n",
       " '1650280501_29810b46e5.jpg',\n",
       " '1655781989_b15ab4cbff.jpg',\n",
       " '1659358133_95cd1027bd.jpg',\n",
       " '1659358141_0433c9bf99.jpg',\n",
       " '1659396176_ced00a549f.jpg',\n",
       " '1662261486_db967930de.jpg',\n",
       " '166321294_4a5e68535f.jpg',\n",
       " '1663454406_5e2cf8c5bb.jpg',\n",
       " '1663751778_90501966f0.jpg',\n",
       " '166433861_70b66cd381.jpg',\n",
       " '166507476_9be5b9852a.jpg',\n",
       " '166654939_80ea4ddbcc.jpg',\n",
       " '1670592963_39731a3dac.jpg',\n",
       " '167295035_336f5f5f27.jpg',\n",
       " '1674612291_7154c5ab61.jpg',\n",
       " '1675679141_36c9bc2969.jpg',\n",
       " '1676601498_7d59327523.jpg',\n",
       " '1679557684_50a206e4a9.jpg',\n",
       " '1679565118_d36f0d6d52.jpg',\n",
       " '1679617928_a73c1769be.jpg',\n",
       " '1680126311_b92a2e8e72.jpg',\n",
       " '1682079482_9a72fa57fa.jpg',\n",
       " '1683444418_815f660379.jpg',\n",
       " '1685463722_55843b6d3c.jpg',\n",
       " '1685990174_09c4fb7df8.jpg',\n",
       " '1688699579_2f72328c7e.jpg',\n",
       " '1689658980_0074d81d28.jpg',\n",
       " '1691573772_1adef8e40e.jpg',\n",
       " '169490297_b6ff13632a.jpg',\n",
       " '170100272_d820db2199.jpg',\n",
       " '1713248047_d03721456d.jpg',\n",
       " '1713248099_d860df4e10.jpg',\n",
       " '1714316707_8bbaa2a2ba.jpg',\n",
       " '171488318_fb26af58e2.jpg',\n",
       " '1716445442_9cf3528342.jpg',\n",
       " '1718184338_5968d88edb.jpg',\n",
       " '172092461_a9a9762e13.jpg',\n",
       " '172092464_d9eb4f4f2f.jpg',\n",
       " '172097782_f0844ec317.jpg',\n",
       " '172097783_292c5413d8.jpg',\n",
       " '1721637099_93e9ec2a2f.jpg',\n",
       " '17273391_55cfc7d3d4.jpg',\n",
       " '173020287_230bfc4ffc.jpg',\n",
       " '1731546544_9fbf14617b.jpg',\n",
       " '1732217138_aa0199ef87.jpg',\n",
       " '1732436777_950bcdc9b8.jpg',\n",
       " '174466741_329a52b2fe.jpg',\n",
       " '1745110280_0cbff5e273.jpg',\n",
       " '1752454466_723790dbd6.jpg',\n",
       " '1763020597_d4cc8f0f8a.jpg',\n",
       " '1764955991_5e53a28c87.jpg',\n",
       " '1765164972_92dac06fa9.jpg',\n",
       " '1770036088_08abe4f6e9.jpg',\n",
       " '1771490732_0ab5f029ac.jpg',\n",
       " '1772859261_236c09b861.jpg',\n",
       " '177302997_5b2d770a0a.jpg',\n",
       " '1773928579_5664a810dc.jpg',\n",
       " '1775029934_e1e96038a8.jpg',\n",
       " '1776981714_5b224d0f7a.jpg',\n",
       " '1777816180_08d7e8063b.jpg',\n",
       " '1778020185_1d44c04dae.jpg',\n",
       " '1781227288_6811e734be.jpg',\n",
       " '1784309115_0ad6791146.jpg',\n",
       " '1785138090_76a56aaabc.jpg',\n",
       " '1786425974_c7c5ad6aa1.jpg',\n",
       " '1787222774_d5c68cce53.jpg',\n",
       " '179009558_69be522c63.jpg',\n",
       " '1794818900_e0ffdd268e.jpg',\n",
       " '1795151944_d69b82f942.jpg',\n",
       " '1797507760_384744fb34.jpg',\n",
       " '1797554350_20998753c0.jpg',\n",
       " '1798209205_77dbf525b0.jpg',\n",
       " '1798215547_ef7ad95be8.jpg',\n",
       " '179829865_095b040377.jpg',\n",
       " '1799188614_b5189728ba.jpg',\n",
       " '1799271536_6e69c8f1dc.jpg',\n",
       " '1800601130_1c0f248d12.jpg',\n",
       " '180094434_b0f244832d.jpg',\n",
       " '1801063894_60bce29e19.jpg',\n",
       " '1801188148_a176954965.jpg',\n",
       " '1801663973_5ad393caeb.jpg',\n",
       " '1801874841_4c12055e2f.jpg',\n",
       " '1802092493_7b44fdb6b9.jpg',\n",
       " '1803631090_05e07cc159.jpg',\n",
       " '180506881_de0f59770f.jpg',\n",
       " '1805990081_da9cefe3a5.jpg',\n",
       " '1806580620_a8fe0fb9f8.jpg',\n",
       " '1807169176_7f5226bf5a.jpg',\n",
       " '1808007704_ee8a93abb4.jpg',\n",
       " '1808370027_2088394eb4.jpg',\n",
       " '1808504612_3508f3c9bb.jpg',\n",
       " '1809758121_96026913bb.jpg',\n",
       " '1809796012_a2dac6c26b.jpg',\n",
       " '1810651611_35aae644fb.jpg',\n",
       " '181103691_fb2f956abd.jpg',\n",
       " '181157221_e12410ef0b.jpg',\n",
       " '1812525037_528465037c.jpg',\n",
       " '1813266419_08bf66fe98.jpg',\n",
       " '1813597483_3f09d2a020.jpg',\n",
       " '1813777902_07d1d4b00c.jpg',\n",
       " '1814086703_33390d5fc7.jpg',\n",
       " '181415975_2627aa6668.jpg',\n",
       " '1814391289_83a1eb71d3.jpg',\n",
       " '181777261_84c48b31cb.jpg',\n",
       " '1818403842_553a2a392c.jpg',\n",
       " '1819261140_6c022f4b1d.jpg',\n",
       " '1821238649_2fda79d6d7.jpg',\n",
       " '182493240_40410254b0.jpg',\n",
       " '1827560917_c8d3c5627f.jpg',\n",
       " '1835511273_790eaae6e6.jpg',\n",
       " '1836335410_de8313a64e.jpg',\n",
       " '1837976956_3c45d0f9b8.jpg',\n",
       " '185057637_e8ada37343.jpg',\n",
       " '1858963639_4588cd4be9.jpg',\n",
       " '185972340_781d60ccfd.jpg',\n",
       " '1859726819_9a793b3b44.jpg',\n",
       " '1859941832_7faf6e5fa9.jpg',\n",
       " '1860543210_47e94cf652.jpg',\n",
       " '186346360_541047336f.jpg',\n",
       " '186348874_75b2cf1ec5.jpg',\n",
       " '1865794069_6e3a1e57bb.jpg',\n",
       " '186890601_8a6b0f1769.jpg',\n",
       " '186890605_ddff5b694e.jpg',\n",
       " '1874617189_e85d3f4326.jpg',\n",
       " '1876536922_8fdf8d7028.jpg',\n",
       " '1881494074_1bebd93089.jpg',\n",
       " '1884065356_c6c34b4568.jpg',\n",
       " '1884727806_d84f209868.jpg',\n",
       " '1895768965_43cd9d164f.jpg',\n",
       " '1897025969_0c41688fa6.jpg',\n",
       " '189721896_1ffe76d89e.jpg',\n",
       " '189740668_0b045f1ff2.jpg',\n",
       " '1904112245_549e47c8aa.jpg',\n",
       " '190638179_be9da86589.jpg',\n",
       " '190965502_0b9ed331d9.jpg',\n",
       " '191003283_992257f835.jpg',\n",
       " '191003284_1025b0fb7d.jpg',\n",
       " '191003285_edd8d0cf58.jpg',\n",
       " '191003287_2915c11d8e.jpg',\n",
       " '191592626_477ef5e026.jpg',\n",
       " '1917203130_fcaff8b10e.jpg',\n",
       " '1917265421_aeccf1ca38.jpg',\n",
       " '1918573100_d31cbb6b77.jpg',\n",
       " '19212715_20476497a3.jpg',\n",
       " '1921398767_771743bf4e.jpg',\n",
       " '1923476156_e20976b32d.jpg',\n",
       " '1924234308_c9ddcf206d.jpg',\n",
       " '1925434818_2949a8f6d8.jpg',\n",
       " '1926129518_4350f4f552.jpg',\n",
       " '1928319708_ccf1f4ee72.jpg',\n",
       " '1931690777_897a7d8ab6.jpg',\n",
       " '1932161768_996eadac87.jpg',\n",
       " '1932314876_9cc46fd054.jpg',\n",
       " '1936215201_d03a75cbba.jpg',\n",
       " '1937104503_313d22a2d0.jpg',\n",
       " '1937262236_cbf5bfa101.jpg',\n",
       " '1947351225_288d788983.jpg',\n",
       " '195084264_72fb347b0f.jpg',\n",
       " '1952896009_cee8147c90.jpg',\n",
       " '1956678973_223cb1b847.jpg',\n",
       " '1956944011_c5661d3f22.jpg',\n",
       " '1957371533_62bc720bac.jpg',\n",
       " '195962284_e57178054a.jpg',\n",
       " '195962790_3380aea352.jpg',\n",
       " '1962729184_6996e128e7.jpg',\n",
       " '1965278563_8279e408de.jpg',\n",
       " '1969573381_5ecfae4c80.jpg',\n",
       " '197107117_4b438b1872.jpg',\n",
       " '197142902_f05ff198c2.jpg',\n",
       " '197504190_fd1fc3d4b7.jpg',\n",
       " '1975171469_84e425f61b.jpg',\n",
       " '1975531316_8b00eeaaf7.jpg',\n",
       " '1977827746_4e13d7e19f.jpg',\n",
       " '197924859_f6e39a7dfa.jpg',\n",
       " '1980315248_82dbc34676.jpg',\n",
       " '1980882959_9a161f3469.jpg',\n",
       " '1982852140_56425fa7a2.jpg',\n",
       " '1984936420_3f3102132b.jpg',\n",
       " '1989145280_3b54452188.jpg',\n",
       " '1991806812_065f747689.jpg',\n",
       " '1994416869_4dd769a806.jpg',\n",
       " '199463720_329a802206.jpg',\n",
       " '199809190_e3f6bbe2bc.jpg',\n",
       " '1998255400_0cd086908f.jpg',\n",
       " '1998457059_c9ac9a1e1a.jpg',\n",
       " '1999444757_1b92efb590.jpg',\n",
       " '2000459828_3c9e109106.jpg',\n",
       " '2003663004_5b70920a98.jpg',\n",
       " '2004674713_2883e63c67.jpg',\n",
       " '200771289_31902164a7.jpg',\n",
       " '2009636597_e3f4fe19fb.jpg',\n",
       " '201682811_105241dee3.jpg',\n",
       " '2017276266_566656c59d.jpg',\n",
       " '2021602343_03023e1fd1.jpg',\n",
       " '2021613437_d99731f986.jpg',\n",
       " '2021671653_567395c7cf.jpg',\n",
       " '2029280005_a19609c81a.jpg',\n",
       " '2030781555_b7ff7be28f.jpg',\n",
       " '203114209_e4cd71a6b7.jpg',\n",
       " '2034553054_b00c166895.jpg',\n",
       " '2036407732_d5a0389bba.jpg',\n",
       " '2038662925_f4fa8c2534.jpg',\n",
       " '2039457436_fc30f5e1ce.jpg',\n",
       " '2040941056_7f5fd50794.jpg',\n",
       " '2041867793_552819a40b.jpg',\n",
       " '2042009399_afad34e7c1.jpg',\n",
       " '2043427251_83b746da8e.jpg',\n",
       " '2043520315_4a2c782c90.jpg',\n",
       " '2044063458_fcc76a7636.jpg',\n",
       " '2045023435_181854c013.jpg',\n",
       " '2045109977_b00ec93491.jpg',\n",
       " '2045562030_654ddea5e5.jpg',\n",
       " '2045928594_92510c1c2a.jpg',\n",
       " '2046222127_a6f300e202.jpg',\n",
       " '2046778775_0dd7cac6ab.jpg',\n",
       " '2049051050_20359a434a.jpg',\n",
       " '2049646140_d0de01e3c4.jpg',\n",
       " '2050067751_22d2763fd2.jpg',\n",
       " '2051194177_fbeee211e3.jpg',\n",
       " '2052202553_373dad145b.jpg',\n",
       " '2052702658_da1204f6d1.jpg',\n",
       " '2052953131_30834196fb.jpg',\n",
       " '2053006423_6adf69ca67.jpg',\n",
       " '2053441349_a98b5fc742.jpg',\n",
       " '2053733930_e245615ad4.jpg',\n",
       " '2053777548_108e54c826.jpg',\n",
       " '2054308369_f9c6ec7815.jpg',\n",
       " '2054869561_ff723e9eab.jpg',\n",
       " '2055646179_169807fed4.jpg',\n",
       " '2056041678_d6b5b39b26.jpg',\n",
       " '2056042552_f59e338533.jpg',\n",
       " '2056377805_e9a9b3bcf0.jpg',\n",
       " '205682549_713aa6cd88.jpg',\n",
       " '2056930414_d2b0f1395a.jpg',\n",
       " '2057160636_6e9cf3b5f0.jpg',\n",
       " '2057305043_952b8dc82c.jpg',\n",
       " '2057306459_2f52ce648e.jpg',\n",
       " '2058091220_2087270068.jpg',\n",
       " '2058124718_89822bc96e.jpg',\n",
       " '2058472558_7dd5014abd.jpg',\n",
       " '2059616165_b7c99c1009.jpg',\n",
       " '2059842472_f4fb61ea08.jpg',\n",
       " '2060031241_a3ae7a06bb.jpg',\n",
       " '206087108_d4557d38ee.jpg',\n",
       " '2061144717_5b3a1864f0.jpg',\n",
       " '2061354254_faa5bd294b.jpg',\n",
       " '2061397486_53a61e17c5.jpg',\n",
       " '2061927950_dafba5b8a3.jpg',\n",
       " '2061944672_0383e65c8a.jpg',\n",
       " '2062607137_dac194ad02.jpg',\n",
       " '2063277300_f7ff476914.jpg',\n",
       " '2064417101_3b9d817f4a.jpg',\n",
       " '2064780645_8f28a1529f.jpg',\n",
       " '2064790732_219e52e19c.jpg',\n",
       " '2064792226_97e41d8167.jpg',\n",
       " '2065309381_705b774f51.jpg',\n",
       " '2065875490_a46b58c12b.jpg',\n",
       " '2066048248_f53f5ef5e2.jpg',\n",
       " '2066241589_b80e9f676c.jpg',\n",
       " '2066271441_1f1f056c01.jpg',\n",
       " '2067362863_59577f9d4d.jpg',\n",
       " '2067833088_04e84e5bf2.jpg',\n",
       " '2068403258_2669cf9763.jpg',\n",
       " '2068465241_3bcabacfd7.jpg',\n",
       " '2068960566_21e85ae0dc.jpg',\n",
       " '2069279767_fb32bfb2de.jpg',\n",
       " '2070798293_6b9405e04d.jpg',\n",
       " '2070831281_dc04b3e15d.jpg',\n",
       " '2070831523_5035d5537e.jpg',\n",
       " '2071309418_1d7580b0f0.jpg',\n",
       " '207237775_fa0a15c6fe.jpg',\n",
       " '2072574835_febf0c5fb9.jpg',\n",
       " '207275121_ee4dfa0bf2.jpg',\n",
       " '2073105823_6dacade004.jpg',\n",
       " '2073174497_18b779999c.jpg',\n",
       " '2073756099_7e02c0110c.jpg',\n",
       " '2073964624_52da3a0fc4.jpg',\n",
       " '2074146683_7c83167aa1.jpg',\n",
       " '2074244690_82e30ff44b.jpg',\n",
       " '2074764331_90a9962b52.jpg',\n",
       " '2075041394_0b3ea1822d.jpg',\n",
       " '2075321027_c8fcbaf581.jpg',\n",
       " '2075493556_b763648389.jpg',\n",
       " '207584893_63e73c5c28.jpg',\n",
       " '2076428547_738e0a132f.jpg',\n",
       " '2076865206_53918c820c.jpg',\n",
       " '2076906555_c20dc082db.jpg',\n",
       " '2077079696_03380d218b.jpg',\n",
       " '207731022_988f6afb35.jpg',\n",
       " '2077346067_0a3a5aae65.jpg',\n",
       " '2078311270_f01c9eaf4c.jpg',\n",
       " '2079110798_ad1370a646.jpg',\n",
       " '2079152458_40712c3b40.jpg',\n",
       " '207930963_af3a2f1784.jpg',\n",
       " '2079554580_f18d5c181b.jpg',\n",
       " '2080033499_6be742f483.jpg',\n",
       " '2081141788_38fa84ce3c.jpg',\n",
       " '2081446176_f97dc76951.jpg',\n",
       " '2081615901_13092cac56.jpg',\n",
       " '2081679622_6f1442367d.jpg',\n",
       " '2082005167_a0d6a70020.jpg',\n",
       " '2083434441_a93bc6306b.jpg',\n",
       " '2083778090_3aecaa11cc.jpg',\n",
       " '2084103826_ffd76b1e3e.jpg',\n",
       " '2084157130_f288e492e4.jpg',\n",
       " '2084217208_7bd9bc85e5.jpg',\n",
       " '2085078076_b9db242d21.jpg',\n",
       " '2085255128_61224cc47f.jpg',\n",
       " '2085400856_ae09df33a7.jpg',\n",
       " '2085403342_a17b0654fe.jpg',\n",
       " '2085557551_7a88d01d4e.jpg',\n",
       " '2085726719_a57a75dbe5.jpg',\n",
       " '2086513494_dbbcb583e7.jpg',\n",
       " '2086532897_b8714f2237.jpg',\n",
       " '2086534745_1e4ab80078.jpg',\n",
       " '2086678529_b3301c2d71.jpg',\n",
       " '2087317114_cf06df5aa5.jpg',\n",
       " '2087640654_1a84577a44.jpg',\n",
       " '2088120475_d6318364f5.jpg',\n",
       " '2088460083_42ee8a595a.jpg',\n",
       " '2088532947_c628e44c4a.jpg',\n",
       " '2088910854_c6f8d4f5f9.jpg',\n",
       " '2089122314_40d5739aef.jpg',\n",
       " '2089350172_dc2cf9fcf6.jpg',\n",
       " '2089426086_7acc98a3a8.jpg',\n",
       " '2089442007_6fc798548c.jpg',\n",
       " '2089539651_9e518ec7de.jpg',\n",
       " '2089542487_b4c1ee7025.jpg',\n",
       " '2089555297_95cf001fa7.jpg',\n",
       " '2090327868_9f99e2740d.jpg',\n",
       " '2090339522_d30d2436f9.jpg',\n",
       " '2090386465_b6ebb7df2c.jpg',\n",
       " '2090387793_274ab4cf7d.jpg',\n",
       " '2090545563_a4e66ec76b.jpg',\n",
       " '2090723611_318031cfa5.jpg',\n",
       " '2090997177_76d482b158.jpg',\n",
       " '2091171488_c8512fec76.jpg',\n",
       " '2092177624_13ab757e8b.jpg',\n",
       " '2092419948_eea8001d0f.jpg',\n",
       " '2092870249_90e3f1855b.jpg',\n",
       " '2094323311_27d58b1513.jpg',\n",
       " '2094543127_46d2f1fedf.jpg',\n",
       " '2094810449_f8df9dcdf7.jpg',\n",
       " '2095007523_591f255708.jpg',\n",
       " '2095078658_c14ba89bc2.jpg',\n",
       " '2095435987_1b7591d214.jpg',\n",
       " '2095444126_201ff9f222.jpg',\n",
       " '2095478050_736c4d2d28.jpg',\n",
       " '209605542_ca9cc52e7b.jpg',\n",
       " '2096771662_984441d20d.jpg',\n",
       " '2097398349_ff178b3f1b.jpg',\n",
       " '2097403787_77a154f5b9.jpg',\n",
       " '2097407245_c798e0dcaf.jpg',\n",
       " '2097420505_439f63c863.jpg',\n",
       " '2097489021_ca1b9f5c3b.jpg',\n",
       " '2098174172_e57d86ea03.jpg',\n",
       " '2098418613_85a0c9afea.jpg',\n",
       " ...]"
      ]
     },
     "execution_count": 18,
     "metadata": {},
     "output_type": "execute_result"
    }
   ],
   "source": [
    "#ensure that captions and images are ordered the same way \n",
    "#define directory of dataset where images are stored \n",
    "image_dir = \"/Users/hajimeluka/Desktop/UNI/Y4/Advanced Topics/Code/data/Images\"\n",
    "\n",
    "#sort items in the images directory \n",
    "def sort_directory(directory):\n",
    "    items = os.listdir(directory)\n",
    "    sorted_items = sorted(items)\n",
    "    return sorted_items\n",
    "\n",
    "sorted_images = sort_directory(image_dir)\n",
    "\n",
    "#print sorted images\n",
    "sorted_images"
   ]
  },
  {
   "cell_type": "markdown",
   "id": "28ddc5b9",
   "metadata": {},
   "source": [
    "# Train-Validation Split "
   ]
  },
  {
   "cell_type": "markdown",
   "id": "7dc5d74f",
   "metadata": {},
   "source": [
    "SECOND APPROACH - keep in mind that because we have so many rows with the same image, randomly shuffling the data then taking a fraction of it wont work as training and validation set will end up having similar images. Think of a way we can avoid this... "
   ]
  },
  {
   "cell_type": "code",
   "execution_count": 19,
   "id": "a737b539",
   "metadata": {},
   "outputs": [],
   "source": [
    "# import random\n",
    "\n",
    "# # Create a list of unique feature vectors\n",
    "# unique_fvs = list(set(captions['feature_vector']))\n",
    "\n",
    "# # Shuffle the list of unique feature vectors\n",
    "# random.shuffle(unique_fvs)\n",
    "\n",
    "# # Determine the index for splitting\n",
    "# split_index = int(len(unique_fvs) * 0.8)\n",
    "\n",
    "# # Split the unique feature vectors into train and validation sets\n",
    "# train_fvs = unique_fvs[:split_index]\n",
    "# val_fvs = unique_fvs[split_index:]\n",
    "\n",
    "# # Filter captions based on the selected feature vectors\n",
    "# train_captions = []\n",
    "# val_captions = []\n",
    "\n",
    "# for fv in train_fvs:\n",
    "#     train_captions.extend(fv_to_cap_vector[fv])\n",
    "\n",
    "# for fv in val_fvs:\n",
    "#     val_captions.extend(fv_to_cap_vector[fv])\n"
   ]
  },
  {
   "cell_type": "code",
   "execution_count": 20,
   "id": "fa3cff8a",
   "metadata": {},
   "outputs": [],
   "source": [
    "#use the feature_vectors array \n",
    "# create mapping between image filenames and their feature vectors\n",
    "image_to_feature_vector = dict(zip(sorted_images, feature_vector))\n",
    "\n",
    "# store captions associated with each feature vector in default dict \n",
    "fv_to_cap_vector = collections.defaultdict(list)\n",
    "\n",
    "for image_filename, caption in zip(captions['image'], captions['caption']):\n",
    "    feature_vector = image_to_feature_vector[image_filename]\n",
    "    feature_vector_tuple = tuple(feature_vector.flatten())  #convert to tupple \n",
    "    fv_to_cap_vector[feature_vector_tuple].append(caption)\n",
    "\n",
    "\n",
    "    \n",
    "fv_keys = list(fv_to_cap_vector.keys())\n",
    "random.shuffle(fv_keys)\n",
    "\n",
    "\n",
    "slice_index = int(len(fv_keys)*0.8)\n",
    "#get everything before 0.8 mark for training set and everything after 0.8 mark for the val set \n",
    "#for 80/20 split \n",
    "fv_name_train_keys, fv_name_val_keys = fv_keys[:slice_index], fv_keys[slice_index:]\n",
    "\n",
    "train_feature_vector = []\n",
    "train_captions = []\n",
    "\n",
    "for fvt in fv_name_train_keys:\n",
    "    capt_lens = len(fv_to_cap_vector[fvt])\n",
    "    train_feature_vector.extend([fvt]*capt_lens)\n",
    "    train_captions.extend(fv_to_cap_vector[fvt])\n",
    "    \n",
    "    \n",
    "val_feature_vectors = []\n",
    "val_captions = []\n",
    "for fvv in fv_name_val_keys: \n",
    "    capv_len = len(fv_to_cap_vector[fvv])\n",
    "    val_feature_vectors.extend([fvv]* capv_len)\n",
    "    val_captions.extend(fv_to_cap_vector[fvv])\n"
   ]
  },
  {
   "cell_type": "code",
   "execution_count": 21,
   "id": "1df2cab5",
   "metadata": {},
   "outputs": [
    {
     "name": "stdout",
     "output_type": "stream",
     "text": [
      "131072\n",
      "[start] a blonde girl is laughing at a guy in front of her [end]\n"
     ]
    }
   ],
   "source": [
    "print(len(train_feature_vector[0]))\n",
    "print(train_captions[0])\n"
   ]
  },
  {
   "cell_type": "markdown",
   "id": "5e892782",
   "metadata": {},
   "source": [
    "# Putitng images and captions together"
   ]
  },
  {
   "cell_type": "code",
   "execution_count": 22,
   "id": "2207a284",
   "metadata": {},
   "outputs": [],
   "source": [
    "# hyper-parameters\n",
    "BATCH_SIZE = 15\n",
    "BUFFER_SIZE = 1000\n",
    "embedding_dim = 256\n",
    "units = 512\n",
    "vocab_size = tokenizer.vocabulary_size()"
   ]
  },
  {
   "cell_type": "code",
   "execution_count": 23,
   "id": "92c14608",
   "metadata": {},
   "outputs": [],
   "source": [
    "#make function that takes the feature vector and caption string\n",
    "#and apply the tokenizer to the caption \n",
    "caption_dtype = tf.int32  # Use int32 for tokenized sequences\n",
    "\n",
    "# Update the load_data function to ensure consistent data types\n",
    "def load_data(feature_vector, caption):\n",
    "    tokenized_caption = tokenizer(caption)\n",
    "    return feature_vector, tf.cast(tokenized_caption, caption_dtype)  # Cast tokenized caption to the desired dtype\n",
    "\n",
    "    "
   ]
  },
  {
   "cell_type": "code",
   "execution_count": 25,
   "id": "468889fd",
   "metadata": {},
   "outputs": [],
   "source": [
    "# function to preprocess each element in dataset\n",
    "def preprocess(feature_vector, caption):\n",
    "    feature_vector = tf.cast(feature_vector, tf.float32)\n",
    "    caption = tf.cast(tokenizer(caption), caption_dtype)  # Tokenize the caption\n",
    "    return feature_vector, caption\n",
    "\n",
    "#create train_dataset and apply preprocess \n",
    "train_dataset = tf.data.Dataset.from_tensor_slices((train_feature_vector, train_captions))\n",
    "train_dataset = train_dataset.map(preprocess, num_parallel_calls=tf.data.AUTOTUNE)\n",
    "# batch and shuffle  train_dataset\n",
    "train_dataset = train_dataset.batch(BATCH_SIZE).shuffle(BUFFER_SIZE).prefetch(buffer_size=tf.data.AUTOTUNE)\n",
    "\n",
    "#do the same for validation set \n",
    "val_dataset = tf.data.Dataset.from_tensor_slices((val_feature_vectors, val_captions))\n",
    "val_dataset = val_dataset.map(preprocess, num_parallel_calls=tf.data.AUTOTUNE)\n",
    "val_dataset = val_dataset.batch(BATCH_SIZE).shuffle(BUFFER_SIZE).prefetch(buffer_size=tf.data.AUTOTUNE)\n"
   ]
  },
  {
   "cell_type": "code",
   "execution_count": 26,
   "id": "12481581",
   "metadata": {},
   "outputs": [
    {
     "name": "stderr",
     "output_type": "stream",
     "text": [
      "2024-05-22 09:00:19.872571: I tensorflow/core/kernels/data/shuffle_dataset_op.cc:450] ShuffleDatasetV3:3: Filling up shuffle buffer (this may take a while): 712 of 1000\n",
      "2024-05-22 09:00:25.409234: I tensorflow/core/kernels/data/shuffle_dataset_op.cc:480] Shuffle buffer filled.\n"
     ]
    },
    {
     "name": "stdout",
     "output_type": "stream",
     "text": [
      "(15, 131072)\n",
      "(15, 40)\n"
     ]
    },
    {
     "name": "stderr",
     "output_type": "stream",
     "text": [
      "2024-05-22 09:00:26.105822: W tensorflow/core/framework/local_rendezvous.cc:404] Local rendezvous is aborting with status: OUT_OF_RANGE: End of sequence\n"
     ]
    }
   ],
   "source": [
    "#testing\n",
    "for img, cap in train_dataset.take(1):\n",
    "    print(img.shape)\n",
    "    print(cap.shape)"
   ]
  },
  {
   "cell_type": "code",
   "execution_count": 27,
   "id": "7ffd4fae",
   "metadata": {},
   "outputs": [],
   "source": [
    "#create encoder class\n",
    "class CNNEncoder(tf.keras.layers.Layer):\n",
    "    def __init__(self, embedding_dim):\n",
    "        super(CNNEncoder, self).__init__()\n",
    "        self.embedding_dim = embedding_dim\n",
    "        self.fc = tf.keras.layers.Dense(embedding_dim)\n",
    "        \n",
    "    def call(self, x):\n",
    "        x = tf.expand_dims(x, axis=1)  # add a sequence length dimension\n",
    "        x = tf.reshape(x, (x.shape[0], -1))  # flatten the input tensor\n",
    "        x = self.fc(x)\n",
    "        x = tf.nn.relu(x)\n",
    "        return x\n"
   ]
  },
  {
   "cell_type": "code",
   "execution_count": 28,
   "id": "f12b2399",
   "metadata": {},
   "outputs": [],
   "source": [
    "#create class for attention mechanism \n",
    "class BahdanauAttention(tf.keras.layers.Layer):\n",
    "    def __init__(self, units):\n",
    "        super(BahdanauAttention, self).__init__()\n",
    "        self.W1 = tf.keras.layers.Dense(units)\n",
    "        self.W2 = tf.keras.layers.Dense(units)\n",
    "        self.V = tf.keras.layers.Dense(1)\n",
    "\n",
    "    def call(self, features, hidden):\n",
    "        hidden_with_time_axis = tf.expand_dims(hidden, 1)\n",
    "        score = tf.nn.tanh(self.W1(features) + self.W2(hidden_with_time_axis))\n",
    "        attention_weights = tf.nn.softmax(self.V(score), axis=1)\n",
    "        context_vector = attention_weights * features\n",
    "        context_vector = tf.reduce_sum(context_vector, axis=1)\n",
    "        context_vector = tf.expand_dims(context_vector, 1)  # add an extra dimension\n",
    "        return context_vector, attention_weights\n"
   ]
  },
  {
   "cell_type": "code",
   "execution_count": 29,
   "id": "0da54b58",
   "metadata": {},
   "outputs": [],
   "source": [
    "#create decoder class\n",
    "class RNNDecoder(tf.keras.Model):\n",
    "    def __init__(self, embedding_dim, units, vocab_size):\n",
    "        super(RNNDecoder, self).__init__()\n",
    "        self.units = units\n",
    "        self.embedding = tf.keras.layers.Embedding(vocab_size, embedding_dim)\n",
    "        self.gru = tf.keras.layers.GRU(\n",
    "            self.units, \n",
    "            return_sequences=True,\n",
    "            return_state=True,\n",
    "            recurrent_initializer='glorot_uniform'\n",
    "        )\n",
    "        self.fc1 = tf.keras.layers.Dense(units)\n",
    "        self.fc2 = tf.keras.layers.Dense(vocab_size)\n",
    "        self.attention = BahdanauAttention(self.units)\n",
    "\n",
    "    def call(self, x, features, hidden=None):\n",
    "        x = self.embedding(x)\n",
    "        if hidden is None:\n",
    "            hidden = tf.zeros((x.shape[0], self.units))  # hidden state\n",
    "        context_vector, attention_weights = self.attention(features, hidden=hidden)\n",
    "        context_vector = tf.squeeze(context_vector, axis=1)  # remove the extra dimension from the context vector\n",
    "        context_vector = tf.expand_dims(context_vector, 1)  #time axis \n",
    "        x = tf.concat([context_vector, x], axis=-1)  # put together context vector and embedded input\n",
    "        output, state = self.gru(x, initial_state=hidden)\n",
    "        x = self.fc1(output)\n",
    "        x = tf.reshape(x, (-1, x.shape[2]))\n",
    "        x = self.fc2(x)\n",
    "        return x, state, attention_weights\n",
    "    \n",
    "    def reset_state(self, batch_size):\n",
    "        return tf.zeros((batch_size, self.units))\n"
   ]
  },
  {
   "cell_type": "code",
   "execution_count": 30,
   "id": "01c5b019",
   "metadata": {},
   "outputs": [],
   "source": [
    "def loss_function(real, pred):\n",
    "    mask = tf.math.logical_not(tf.math.equal(real, 0))\n",
    "    loss_ = loss_object(real, pred)\n",
    "    mask = tf.cast(mask, dtype=loss_.dtype)\n",
    "    loss_ *= mask\n",
    "    return tf.reduce_mean(loss_)\n",
    "\n",
    "def val_evaluate(val_dataset):\n",
    "    total_loss = 0\n",
    "    steps = 0\n",
    "\n",
    "    for img_tensor, target in val_dataset:\n",
    "        batch_loss = 0\n",
    "\n",
    "        # forward passing through encoder \n",
    "        features = encoder(img_tensor)\n",
    "\n",
    "        # get the decoder hidden state\n",
    "        hidden = decoder.reset_state(batch_size=target.shape[0])\n",
    "\n",
    "        dec_input = tf.expand_dims([word2idx('[start]')] * target.shape[0], 1)\n",
    "\n",
    "        #teacher forcing to feed result into next input\n",
    "        for t in range(1, target.shape[1]):\n",
    "            #pass features through decoder \n",
    "            predictions, hidden, _ = decoder(dec_input, features, hidden)\n",
    "\n",
    "            #compute loss \n",
    "            batch_loss = batch_loss + loss_function(target[:, t], predictions)\n",
    "\n",
    "            #teacher forcing \n",
    "            dec_input = tf.expand_dims(target[:, t], 1)\n",
    "\n",
    "        batch_loss /= int(target.shape[1])  #get avg loss \n",
    "        total_loss = total_loss + batch_loss\n",
    "        steps = steps + 1\n",
    "\n",
    "    return total_loss / steps\n"
   ]
  },
  {
   "cell_type": "code",
   "execution_count": 31,
   "id": "7700d70a",
   "metadata": {
    "scrolled": true
   },
   "outputs": [
    {
     "name": "stderr",
     "output_type": "stream",
     "text": [
      "  0%|                                                  | 0/2158 [00:00<?, ?it/s]2024-05-22 09:00:57.549756: I tensorflow/core/kernels/data/shuffle_dataset_op.cc:450] ShuffleDatasetV3:3: Filling up shuffle buffer (this may take a while): 729 of 1000\n",
      "2024-05-22 09:01:02.544878: I tensorflow/core/kernels/data/shuffle_dataset_op.cc:480] Shuffle buffer filled.\n",
      "Epoch 1 Loss: 2.4114:   0%|                 | 1/2158 [01:04<38:44:53, 64.67s/it]"
     ]
    },
    {
     "name": "stdout",
     "output_type": "stream",
     "text": [
      "Epoch 1 Batch 0 Loss 96.4569\n"
     ]
    },
    {
     "name": "stderr",
     "output_type": "stream",
     "text": [
      "Epoch 1 Loss: 1.7495:   5%|▊                 | 101/2158 [03:01<40:03,  1.17s/it]"
     ]
    },
    {
     "name": "stdout",
     "output_type": "stream",
     "text": [
      "Epoch 1 Batch 100 Loss 60.2889\n"
     ]
    },
    {
     "name": "stderr",
     "output_type": "stream",
     "text": [
      "Epoch 1 Loss: 1.6696:   9%|█▋                | 201/2158 [05:01<38:33,  1.18s/it]"
     ]
    },
    {
     "name": "stdout",
     "output_type": "stream",
     "text": [
      "Epoch 1 Batch 200 Loss 79.8210\n"
     ]
    },
    {
     "name": "stderr",
     "output_type": "stream",
     "text": [
      "Epoch 1 Loss: 1.6310:  14%|██▌               | 301/2158 [06:55<35:29,  1.15s/it]"
     ]
    },
    {
     "name": "stdout",
     "output_type": "stream",
     "text": [
      "Epoch 1 Batch 300 Loss 61.4513\n"
     ]
    },
    {
     "name": "stderr",
     "output_type": "stream",
     "text": [
      "Epoch 1 Loss: 1.5866:  19%|███▎              | 401/2158 [08:51<35:19,  1.21s/it]"
     ]
    },
    {
     "name": "stdout",
     "output_type": "stream",
     "text": [
      "Epoch 1 Batch 400 Loss 62.7961\n"
     ]
    },
    {
     "name": "stderr",
     "output_type": "stream",
     "text": [
      "Epoch 1 Loss: 1.5610:  23%|████▏             | 501/2158 [10:44<33:08,  1.20s/it]"
     ]
    },
    {
     "name": "stdout",
     "output_type": "stream",
     "text": [
      "Epoch 1 Batch 500 Loss 60.1874\n"
     ]
    },
    {
     "name": "stderr",
     "output_type": "stream",
     "text": [
      "Epoch 1 Loss: 1.5421:  28%|█████             | 601/2158 [12:45<31:37,  1.22s/it]"
     ]
    },
    {
     "name": "stdout",
     "output_type": "stream",
     "text": [
      "Epoch 1 Batch 600 Loss 61.2890\n"
     ]
    },
    {
     "name": "stderr",
     "output_type": "stream",
     "text": [
      "Epoch 1 Loss: 1.5236:  32%|█████▊            | 701/2158 [14:46<30:52,  1.27s/it]"
     ]
    },
    {
     "name": "stdout",
     "output_type": "stream",
     "text": [
      "Epoch 1 Batch 700 Loss 47.6241\n"
     ]
    },
    {
     "name": "stderr",
     "output_type": "stream",
     "text": [
      "Epoch 1 Loss: 1.5058:  37%|██████▋           | 801/2158 [16:47<30:00,  1.33s/it]"
     ]
    },
    {
     "name": "stdout",
     "output_type": "stream",
     "text": [
      "Epoch 1 Batch 800 Loss 40.7192\n"
     ]
    },
    {
     "name": "stderr",
     "output_type": "stream",
     "text": [
      "Epoch 1 Loss: 1.4897:  42%|███████▌          | 901/2158 [18:44<23:59,  1.15s/it]"
     ]
    },
    {
     "name": "stdout",
     "output_type": "stream",
     "text": [
      "Epoch 1 Batch 900 Loss 43.3456\n"
     ]
    },
    {
     "name": "stderr",
     "output_type": "stream",
     "text": [
      "Epoch 1 Loss: 1.4751:  46%|███████▉         | 1001/2158 [20:36<21:10,  1.10s/it]"
     ]
    },
    {
     "name": "stdout",
     "output_type": "stream",
     "text": [
      "Epoch 1 Batch 1000 Loss 63.1217\n"
     ]
    },
    {
     "name": "stderr",
     "output_type": "stream",
     "text": [
      "Epoch 1 Loss: 1.4590:  51%|████████▋        | 1101/2158 [22:25<19:25,  1.10s/it]"
     ]
    },
    {
     "name": "stdout",
     "output_type": "stream",
     "text": [
      "Epoch 1 Batch 1100 Loss 57.5994\n"
     ]
    },
    {
     "name": "stderr",
     "output_type": "stream",
     "text": [
      "Epoch 1 Loss: 1.4461:  56%|█████████▍       | 1201/2158 [24:13<16:39,  1.04s/it]"
     ]
    },
    {
     "name": "stdout",
     "output_type": "stream",
     "text": [
      "Epoch 1 Batch 1200 Loss 46.3066\n"
     ]
    },
    {
     "name": "stderr",
     "output_type": "stream",
     "text": [
      "Epoch 1 Loss: 1.4323:  60%|██████████▏      | 1301/2158 [25:54<14:17,  1.00s/it]"
     ]
    },
    {
     "name": "stdout",
     "output_type": "stream",
     "text": [
      "Epoch 1 Batch 1300 Loss 54.4937\n"
     ]
    },
    {
     "name": "stderr",
     "output_type": "stream",
     "text": [
      "Epoch 1 Loss: 1.4230:  65%|███████████      | 1401/2158 [27:34<12:55,  1.02s/it]"
     ]
    },
    {
     "name": "stdout",
     "output_type": "stream",
     "text": [
      "Epoch 1 Batch 1400 Loss 39.7496\n"
     ]
    },
    {
     "name": "stderr",
     "output_type": "stream",
     "text": [
      "Epoch 1 Loss: 1.4122:  70%|███████████▊     | 1501/2158 [29:15<11:26,  1.04s/it]"
     ]
    },
    {
     "name": "stdout",
     "output_type": "stream",
     "text": [
      "Epoch 1 Batch 1500 Loss 47.3810\n"
     ]
    },
    {
     "name": "stderr",
     "output_type": "stream",
     "text": [
      "Epoch 1 Loss: 1.4023:  74%|████████████▌    | 1601/2158 [30:58<09:19,  1.00s/it]"
     ]
    },
    {
     "name": "stdout",
     "output_type": "stream",
     "text": [
      "Epoch 1 Batch 1600 Loss 51.5177\n"
     ]
    },
    {
     "name": "stderr",
     "output_type": "stream",
     "text": [
      "Epoch 1 Loss: 1.3939:  79%|█████████████▍   | 1701/2158 [32:39<07:42,  1.01s/it]"
     ]
    },
    {
     "name": "stdout",
     "output_type": "stream",
     "text": [
      "Epoch 1 Batch 1700 Loss 51.9685\n"
     ]
    },
    {
     "name": "stderr",
     "output_type": "stream",
     "text": [
      "Epoch 1 Loss: 1.3856:  83%|██████████████▏  | 1801/2158 [34:25<06:02,  1.02s/it]"
     ]
    },
    {
     "name": "stdout",
     "output_type": "stream",
     "text": [
      "Epoch 1 Batch 1800 Loss 54.7342\n"
     ]
    },
    {
     "name": "stderr",
     "output_type": "stream",
     "text": [
      "Epoch 1 Loss: 1.3784:  88%|██████████████▉  | 1901/2158 [36:29<04:01,  1.06it/s]"
     ]
    },
    {
     "name": "stdout",
     "output_type": "stream",
     "text": [
      "Epoch 1 Batch 1900 Loss 47.1729\n"
     ]
    },
    {
     "name": "stderr",
     "output_type": "stream",
     "text": [
      "Epoch 1 Loss: 1.3712:  93%|███████████████▊ | 2001/2158 [38:06<02:32,  1.03it/s]"
     ]
    },
    {
     "name": "stdout",
     "output_type": "stream",
     "text": [
      "Epoch 1 Batch 2000 Loss 44.8938\n"
     ]
    },
    {
     "name": "stderr",
     "output_type": "stream",
     "text": [
      "Epoch 1 Loss: 1.3646:  97%|████████████████▌| 2101/2158 [39:45<00:56,  1.00it/s]"
     ]
    },
    {
     "name": "stdout",
     "output_type": "stream",
     "text": [
      "Epoch 1 Batch 2100 Loss 42.2666\n"
     ]
    },
    {
     "name": "stderr",
     "output_type": "stream",
     "text": [
      "Epoch 1 Loss: 1.3610: 100%|█████████████████| 2158/2158 [40:44<00:00,  1.13s/it]2024-05-22 09:41:31.588096: W tensorflow/core/framework/local_rendezvous.cc:404] Local rendezvous is aborting with status: OUT_OF_RANGE: End of sequence\n",
      "\n"
     ]
    },
    {
     "name": "stdout",
     "output_type": "stream",
     "text": [
      "Epoch 1 Loss 1.3610\n",
      "Time taken for 1 epoch 2465.01 sec\n",
      "\n"
     ]
    },
    {
     "name": "stderr",
     "output_type": "stream",
     "text": [
      "  0%|                                                  | 0/2158 [00:00<?, ?it/s]2024-05-22 09:41:42.238698: I tensorflow/core/kernels/data/shuffle_dataset_op.cc:450] ShuffleDatasetV3:3: Filling up shuffle buffer (this may take a while): 641 of 1000\n",
      "2024-05-22 09:41:48.737966: I tensorflow/core/kernels/data/shuffle_dataset_op.cc:480] Shuffle buffer filled.\n",
      "Epoch 2 Loss: 1.3031:   0%|                 | 1/2158 [00:18<11:21:27, 18.96s/it]"
     ]
    },
    {
     "name": "stdout",
     "output_type": "stream",
     "text": [
      "Epoch 2 Batch 0 Loss 52.1257\n"
     ]
    },
    {
     "name": "stderr",
     "output_type": "stream",
     "text": [
      "Epoch 2 Loss: 1.2321:   5%|▊                 | 101/2158 [02:10<37:24,  1.09s/it]"
     ]
    },
    {
     "name": "stdout",
     "output_type": "stream",
     "text": [
      "Epoch 2 Batch 100 Loss 38.0047\n"
     ]
    },
    {
     "name": "stderr",
     "output_type": "stream",
     "text": [
      "Epoch 2 Loss: 1.2088:   9%|█▋                | 201/2158 [03:59<35:45,  1.10s/it]"
     ]
    },
    {
     "name": "stdout",
     "output_type": "stream",
     "text": [
      "Epoch 2 Batch 200 Loss 47.7632\n"
     ]
    },
    {
     "name": "stderr",
     "output_type": "stream",
     "text": [
      "Epoch 2 Loss: 1.2096:  14%|██▌               | 301/2158 [05:48<34:45,  1.12s/it]"
     ]
    },
    {
     "name": "stdout",
     "output_type": "stream",
     "text": [
      "Epoch 2 Batch 300 Loss 47.7846\n"
     ]
    },
    {
     "name": "stderr",
     "output_type": "stream",
     "text": [
      "Epoch 2 Loss: 1.2015:  19%|███▎              | 401/2158 [07:37<31:20,  1.07s/it]"
     ]
    },
    {
     "name": "stdout",
     "output_type": "stream",
     "text": [
      "Epoch 2 Batch 400 Loss 50.8906\n"
     ]
    },
    {
     "name": "stderr",
     "output_type": "stream",
     "text": [
      "Epoch 2 Loss: 1.1988:  23%|████▏             | 501/2158 [09:26<30:26,  1.10s/it]"
     ]
    },
    {
     "name": "stdout",
     "output_type": "stream",
     "text": [
      "Epoch 2 Batch 500 Loss 39.3013\n"
     ]
    },
    {
     "name": "stderr",
     "output_type": "stream",
     "text": [
      "Epoch 2 Loss: 1.1981:  28%|█████             | 601/2158 [11:18<28:42,  1.11s/it]"
     ]
    },
    {
     "name": "stdout",
     "output_type": "stream",
     "text": [
      "Epoch 2 Batch 600 Loss 50.2252\n"
     ]
    },
    {
     "name": "stderr",
     "output_type": "stream",
     "text": [
      "Epoch 2 Loss: 1.1959:  32%|█████▊            | 701/2158 [13:18<30:17,  1.25s/it]"
     ]
    },
    {
     "name": "stdout",
     "output_type": "stream",
     "text": [
      "Epoch 2 Batch 700 Loss 36.4938\n"
     ]
    },
    {
     "name": "stderr",
     "output_type": "stream",
     "text": [
      "Epoch 2 Loss: 1.1968:  37%|██████▋           | 801/2158 [15:14<24:56,  1.10s/it]"
     ]
    },
    {
     "name": "stdout",
     "output_type": "stream",
     "text": [
      "Epoch 2 Batch 800 Loss 34.4770\n"
     ]
    },
    {
     "name": "stderr",
     "output_type": "stream",
     "text": [
      "Epoch 2 Loss: 1.1941:  42%|███████▌          | 901/2158 [17:04<22:49,  1.09s/it]"
     ]
    },
    {
     "name": "stdout",
     "output_type": "stream",
     "text": [
      "Epoch 2 Batch 900 Loss 37.8981\n"
     ]
    },
    {
     "name": "stderr",
     "output_type": "stream",
     "text": [
      "Epoch 2 Loss: 1.1928:  46%|███████▉         | 1001/2158 [18:52<21:27,  1.11s/it]"
     ]
    },
    {
     "name": "stdout",
     "output_type": "stream",
     "text": [
      "Epoch 2 Batch 1000 Loss 51.9138\n"
     ]
    },
    {
     "name": "stderr",
     "output_type": "stream",
     "text": [
      "Epoch 2 Loss: 1.1899:  51%|████████▋        | 1101/2158 [20:44<19:12,  1.09s/it]"
     ]
    },
    {
     "name": "stdout",
     "output_type": "stream",
     "text": [
      "Epoch 2 Batch 1100 Loss 38.5235\n"
     ]
    },
    {
     "name": "stderr",
     "output_type": "stream",
     "text": [
      "Epoch 2 Loss: 1.1855:  56%|█████████▍       | 1201/2158 [22:36<16:47,  1.05s/it]"
     ]
    },
    {
     "name": "stdout",
     "output_type": "stream",
     "text": [
      "Epoch 2 Batch 1200 Loss 60.0961\n"
     ]
    },
    {
     "name": "stderr",
     "output_type": "stream",
     "text": [
      "Epoch 2 Loss: 1.1846:  60%|██████████▏      | 1301/2158 [24:22<15:02,  1.05s/it]"
     ]
    },
    {
     "name": "stdout",
     "output_type": "stream",
     "text": [
      "Epoch 2 Batch 1300 Loss 40.8647\n"
     ]
    },
    {
     "name": "stderr",
     "output_type": "stream",
     "text": [
      "Epoch 2 Loss: 1.1824:  65%|███████████      | 1401/2158 [26:13<13:48,  1.09s/it]"
     ]
    },
    {
     "name": "stdout",
     "output_type": "stream",
     "text": [
      "Epoch 2 Batch 1400 Loss 46.3331\n"
     ]
    },
    {
     "name": "stderr",
     "output_type": "stream",
     "text": [
      "Epoch 2 Loss: 1.1803:  70%|███████████▊     | 1501/2158 [27:55<10:08,  1.08it/s]"
     ]
    },
    {
     "name": "stdout",
     "output_type": "stream",
     "text": [
      "Epoch 2 Batch 1500 Loss 50.2822\n"
     ]
    },
    {
     "name": "stderr",
     "output_type": "stream",
     "text": [
      "Epoch 2 Loss: 1.1800:  74%|████████████▌    | 1601/2158 [29:27<08:36,  1.08it/s]"
     ]
    },
    {
     "name": "stdout",
     "output_type": "stream",
     "text": [
      "Epoch 2 Batch 1600 Loss 35.1543\n"
     ]
    },
    {
     "name": "stderr",
     "output_type": "stream",
     "text": [
      "Epoch 2 Loss: 1.1790:  79%|█████████████▍   | 1701/2158 [31:06<07:54,  1.04s/it]"
     ]
    },
    {
     "name": "stdout",
     "output_type": "stream",
     "text": [
      "Epoch 2 Batch 1700 Loss 42.6164\n"
     ]
    },
    {
     "name": "stderr",
     "output_type": "stream",
     "text": [
      "Epoch 2 Loss: 1.1754:  83%|██████████████▏  | 1801/2158 [32:46<06:06,  1.03s/it]"
     ]
    },
    {
     "name": "stdout",
     "output_type": "stream",
     "text": [
      "Epoch 2 Batch 1800 Loss 44.9765\n"
     ]
    },
    {
     "name": "stderr",
     "output_type": "stream",
     "text": [
      "Epoch 2 Loss: 1.1740:  88%|██████████████▉  | 1901/2158 [34:25<04:11,  1.02it/s]"
     ]
    },
    {
     "name": "stdout",
     "output_type": "stream",
     "text": [
      "Epoch 2 Batch 1900 Loss 48.7260\n"
     ]
    },
    {
     "name": "stderr",
     "output_type": "stream",
     "text": [
      "Epoch 2 Loss: 1.1721:  93%|███████████████▊ | 2001/2158 [36:05<02:34,  1.01it/s]"
     ]
    },
    {
     "name": "stdout",
     "output_type": "stream",
     "text": [
      "Epoch 2 Batch 2000 Loss 45.0646\n"
     ]
    },
    {
     "name": "stderr",
     "output_type": "stream",
     "text": [
      "Epoch 2 Loss: 1.1713:  97%|████████████████▌| 2101/2158 [37:43<00:59,  1.04s/it]"
     ]
    },
    {
     "name": "stdout",
     "output_type": "stream",
     "text": [
      "Epoch 2 Batch 2100 Loss 53.5654\n"
     ]
    },
    {
     "name": "stderr",
     "output_type": "stream",
     "text": [
      "Epoch 2 Loss: 1.1692: 100%|█████████████████| 2158/2158 [38:42<00:00,  1.03it/s]2024-05-22 10:20:14.305365: W tensorflow/core/framework/local_rendezvous.cc:404] Local rendezvous is aborting with status: OUT_OF_RANGE: End of sequence\n",
      "Epoch 2 Loss: 1.1692: 100%|█████████████████| 2158/2158 [38:42<00:00,  1.08s/it]\n"
     ]
    },
    {
     "name": "stdout",
     "output_type": "stream",
     "text": [
      "Epoch 2 Loss 1.1692\n",
      "Time taken for 1 epoch 2322.11 sec\n",
      "\n"
     ]
    },
    {
     "name": "stderr",
     "output_type": "stream",
     "text": [
      "  0%|                                                  | 0/2158 [00:00<?, ?it/s]2024-05-22 10:20:24.952696: I tensorflow/core/kernels/data/shuffle_dataset_op.cc:450] ShuffleDatasetV3:3: Filling up shuffle buffer (this may take a while): 614 of 1000\n",
      "2024-05-22 10:20:31.413212: I tensorflow/core/kernels/data/shuffle_dataset_op.cc:480] Shuffle buffer filled.\n",
      "Epoch 3 Loss: 1.1046:   0%|                 | 1/2158 [00:18<11:19:01, 18.89s/it]"
     ]
    },
    {
     "name": "stdout",
     "output_type": "stream",
     "text": [
      "Epoch 3 Batch 0 Loss 44.1857\n"
     ]
    },
    {
     "name": "stderr",
     "output_type": "stream",
     "text": [
      "Epoch 3 Loss: 1.1022:   5%|▊                 | 101/2158 [02:10<37:07,  1.08s/it]"
     ]
    },
    {
     "name": "stdout",
     "output_type": "stream",
     "text": [
      "Epoch 3 Batch 100 Loss 42.1988\n"
     ]
    },
    {
     "name": "stderr",
     "output_type": "stream",
     "text": [
      "Epoch 3 Loss: 1.1059:   9%|█▋                | 201/2158 [03:59<34:37,  1.06s/it]"
     ]
    },
    {
     "name": "stdout",
     "output_type": "stream",
     "text": [
      "Epoch 3 Batch 200 Loss 46.5964\n"
     ]
    },
    {
     "name": "stderr",
     "output_type": "stream",
     "text": [
      "Epoch 3 Loss: 1.1121:  14%|██▌               | 301/2158 [05:50<32:57,  1.06s/it]"
     ]
    },
    {
     "name": "stdout",
     "output_type": "stream",
     "text": [
      "Epoch 3 Batch 300 Loss 49.1435\n"
     ]
    },
    {
     "name": "stderr",
     "output_type": "stream",
     "text": [
      "Epoch 3 Loss: 1.1138:  19%|███▎              | 401/2158 [07:49<31:24,  1.07s/it]"
     ]
    },
    {
     "name": "stdout",
     "output_type": "stream",
     "text": [
      "Epoch 3 Batch 400 Loss 38.1995\n"
     ]
    },
    {
     "name": "stderr",
     "output_type": "stream",
     "text": [
      "Epoch 3 Loss: 1.1116:  23%|████▏             | 501/2158 [09:39<30:05,  1.09s/it]"
     ]
    },
    {
     "name": "stdout",
     "output_type": "stream",
     "text": [
      "Epoch 3 Batch 500 Loss 51.1353\n"
     ]
    },
    {
     "name": "stderr",
     "output_type": "stream",
     "text": [
      "Epoch 3 Loss: 1.1161:  28%|█████             | 601/2158 [11:28<27:51,  1.07s/it]"
     ]
    },
    {
     "name": "stdout",
     "output_type": "stream",
     "text": [
      "Epoch 3 Batch 600 Loss 42.8583\n"
     ]
    },
    {
     "name": "stderr",
     "output_type": "stream",
     "text": [
      "Epoch 3 Loss: 1.1175:  32%|█████▊            | 701/2158 [13:16<27:48,  1.15s/it]"
     ]
    },
    {
     "name": "stdout",
     "output_type": "stream",
     "text": [
      "Epoch 3 Batch 700 Loss 57.2277\n"
     ]
    },
    {
     "name": "stderr",
     "output_type": "stream",
     "text": [
      "Epoch 3 Loss: 1.1165:  37%|██████▋           | 801/2158 [15:06<24:45,  1.10s/it]"
     ]
    },
    {
     "name": "stdout",
     "output_type": "stream",
     "text": [
      "Epoch 3 Batch 800 Loss 45.1216\n"
     ]
    },
    {
     "name": "stderr",
     "output_type": "stream",
     "text": [
      "Epoch 3 Loss: 1.1160:  42%|███████▌          | 901/2158 [17:01<22:46,  1.09s/it]"
     ]
    },
    {
     "name": "stdout",
     "output_type": "stream",
     "text": [
      "Epoch 3 Batch 900 Loss 36.7497\n"
     ]
    },
    {
     "name": "stderr",
     "output_type": "stream",
     "text": [
      "Epoch 3 Loss: 1.1138:  46%|███████▉         | 1001/2158 [18:54<23:10,  1.20s/it]"
     ]
    },
    {
     "name": "stdout",
     "output_type": "stream",
     "text": [
      "Epoch 3 Batch 1000 Loss 43.6249\n"
     ]
    },
    {
     "name": "stderr",
     "output_type": "stream",
     "text": [
      "Epoch 3 Loss: 1.1135:  51%|████████▋        | 1101/2158 [20:48<21:54,  1.24s/it]"
     ]
    },
    {
     "name": "stdout",
     "output_type": "stream",
     "text": [
      "Epoch 3 Batch 1100 Loss 50.4855\n"
     ]
    },
    {
     "name": "stderr",
     "output_type": "stream",
     "text": [
      "Epoch 3 Loss: 1.1130:  56%|█████████▍       | 1201/2158 [22:41<16:33,  1.04s/it]"
     ]
    },
    {
     "name": "stdout",
     "output_type": "stream",
     "text": [
      "Epoch 3 Batch 1200 Loss 46.0390\n"
     ]
    },
    {
     "name": "stderr",
     "output_type": "stream",
     "text": [
      "Epoch 3 Loss: 1.1108:  60%|██████████▏      | 1301/2158 [24:33<15:09,  1.06s/it]"
     ]
    },
    {
     "name": "stdout",
     "output_type": "stream",
     "text": [
      "Epoch 3 Batch 1300 Loss 38.9983\n"
     ]
    },
    {
     "name": "stderr",
     "output_type": "stream",
     "text": [
      "Epoch 3 Loss: 1.1086:  65%|███████████      | 1401/2158 [26:29<13:03,  1.04s/it]"
     ]
    },
    {
     "name": "stdout",
     "output_type": "stream",
     "text": [
      "Epoch 3 Batch 1400 Loss 42.4093\n"
     ]
    },
    {
     "name": "stderr",
     "output_type": "stream",
     "text": [
      "Epoch 3 Loss: 1.1061:  70%|███████████▊     | 1501/2158 [28:16<11:52,  1.08s/it]"
     ]
    },
    {
     "name": "stdout",
     "output_type": "stream",
     "text": [
      "Epoch 3 Batch 1500 Loss 47.0275\n"
     ]
    },
    {
     "name": "stderr",
     "output_type": "stream",
     "text": [
      "Epoch 3 Loss: 1.1060:  74%|████████████▌    | 1601/2158 [30:11<09:43,  1.05s/it]"
     ]
    },
    {
     "name": "stdout",
     "output_type": "stream",
     "text": [
      "Epoch 3 Batch 1600 Loss 45.8936\n"
     ]
    },
    {
     "name": "stderr",
     "output_type": "stream",
     "text": [
      "Epoch 3 Loss: 1.1045:  79%|█████████████▍   | 1701/2158 [31:56<07:42,  1.01s/it]"
     ]
    },
    {
     "name": "stdout",
     "output_type": "stream",
     "text": [
      "Epoch 3 Batch 1700 Loss 32.1320\n"
     ]
    },
    {
     "name": "stderr",
     "output_type": "stream",
     "text": [
      "Epoch 3 Loss: 1.1049:  83%|██████████████▏  | 1801/2158 [33:38<06:25,  1.08s/it]"
     ]
    },
    {
     "name": "stdout",
     "output_type": "stream",
     "text": [
      "Epoch 3 Batch 1800 Loss 38.1898\n"
     ]
    },
    {
     "name": "stderr",
     "output_type": "stream",
     "text": [
      "Epoch 3 Loss: 1.1043:  88%|██████████████▉  | 1901/2158 [35:23<04:36,  1.08s/it]"
     ]
    },
    {
     "name": "stdout",
     "output_type": "stream",
     "text": [
      "Epoch 3 Batch 1900 Loss 51.8503\n"
     ]
    },
    {
     "name": "stderr",
     "output_type": "stream",
     "text": [
      "Epoch 3 Loss: 1.1041:  93%|███████████████▊ | 2001/2158 [37:09<02:45,  1.05s/it]"
     ]
    },
    {
     "name": "stdout",
     "output_type": "stream",
     "text": [
      "Epoch 3 Batch 2000 Loss 37.0710\n"
     ]
    },
    {
     "name": "stderr",
     "output_type": "stream",
     "text": [
      "Epoch 3 Loss: 1.1032:  97%|████████████████▌| 2101/2158 [38:59<01:02,  1.10s/it]"
     ]
    },
    {
     "name": "stdout",
     "output_type": "stream",
     "text": [
      "Epoch 3 Batch 2100 Loss 42.6777\n"
     ]
    },
    {
     "name": "stderr",
     "output_type": "stream",
     "text": [
      "Epoch 3 Loss: 1.1025: 100%|█████████████████| 2158/2158 [40:03<00:00,  1.05s/it]2024-05-22 11:00:18.589729: W tensorflow/core/framework/local_rendezvous.cc:404] Local rendezvous is aborting with status: OUT_OF_RANGE: End of sequence\n",
      "Epoch 3 Loss: 1.1025: 100%|█████████████████| 2158/2158 [40:03<00:00,  1.11s/it]\n"
     ]
    },
    {
     "name": "stdout",
     "output_type": "stream",
     "text": [
      "Epoch 3 Loss 1.1025\n",
      "Time taken for 1 epoch 2403.67 sec\n",
      "\n"
     ]
    },
    {
     "name": "stderr",
     "output_type": "stream",
     "text": [
      "  0%|                                                  | 0/2158 [00:00<?, ?it/s]2024-05-22 11:00:29.236368: I tensorflow/core/kernels/data/shuffle_dataset_op.cc:450] ShuffleDatasetV3:3: Filling up shuffle buffer (this may take a while): 602 of 1000\n",
      "2024-05-22 11:00:36.377994: I tensorflow/core/kernels/data/shuffle_dataset_op.cc:480] Shuffle buffer filled.\n",
      "Epoch 4 Loss: 0.8933:   0%|                 | 1/2158 [00:19<11:49:25, 19.73s/it]"
     ]
    },
    {
     "name": "stdout",
     "output_type": "stream",
     "text": [
      "Epoch 4 Batch 0 Loss 35.7324\n"
     ]
    },
    {
     "name": "stderr",
     "output_type": "stream",
     "text": [
      "Epoch 4 Loss: 1.0761:   5%|▊                 | 101/2158 [02:16<38:21,  1.12s/it]"
     ]
    },
    {
     "name": "stdout",
     "output_type": "stream",
     "text": [
      "Epoch 4 Batch 100 Loss 35.1126\n"
     ]
    },
    {
     "name": "stderr",
     "output_type": "stream",
     "text": [
      "Epoch 4 Loss: 1.0782:   9%|█▋                | 201/2158 [04:16<37:20,  1.14s/it]"
     ]
    },
    {
     "name": "stdout",
     "output_type": "stream",
     "text": [
      "Epoch 4 Batch 200 Loss 41.6197\n"
     ]
    },
    {
     "name": "stderr",
     "output_type": "stream",
     "text": [
      "Epoch 4 Loss: 1.0794:  14%|██▌               | 301/2158 [06:14<38:05,  1.23s/it]"
     ]
    },
    {
     "name": "stdout",
     "output_type": "stream",
     "text": [
      "Epoch 4 Batch 300 Loss 44.8086\n"
     ]
    },
    {
     "name": "stderr",
     "output_type": "stream",
     "text": [
      "Epoch 4 Loss: 1.0763:  19%|███▎              | 401/2158 [08:11<32:36,  1.11s/it]"
     ]
    },
    {
     "name": "stdout",
     "output_type": "stream",
     "text": [
      "Epoch 4 Batch 400 Loss 55.6926\n"
     ]
    },
    {
     "name": "stderr",
     "output_type": "stream",
     "text": [
      "Epoch 4 Loss: 1.0726:  23%|████▏             | 501/2158 [10:06<32:04,  1.16s/it]"
     ]
    },
    {
     "name": "stdout",
     "output_type": "stream",
     "text": [
      "Epoch 4 Batch 500 Loss 41.8041\n"
     ]
    },
    {
     "name": "stderr",
     "output_type": "stream",
     "text": [
      "Epoch 4 Loss: 1.0714:  28%|█████             | 601/2158 [11:57<32:16,  1.24s/it]"
     ]
    },
    {
     "name": "stdout",
     "output_type": "stream",
     "text": [
      "Epoch 4 Batch 600 Loss 49.1553\n"
     ]
    },
    {
     "name": "stderr",
     "output_type": "stream",
     "text": [
      "Epoch 4 Loss: 1.0694:  32%|█████▊            | 701/2158 [13:57<27:49,  1.15s/it]"
     ]
    },
    {
     "name": "stdout",
     "output_type": "stream",
     "text": [
      "Epoch 4 Batch 700 Loss 50.1207\n"
     ]
    },
    {
     "name": "stderr",
     "output_type": "stream",
     "text": [
      "Epoch 4 Loss: 1.0654:  37%|██████▋           | 801/2158 [15:55<26:36,  1.18s/it]"
     ]
    },
    {
     "name": "stdout",
     "output_type": "stream",
     "text": [
      "Epoch 4 Batch 800 Loss 45.4874\n"
     ]
    },
    {
     "name": "stderr",
     "output_type": "stream",
     "text": [
      "Epoch 4 Loss: 1.0665:  42%|███████▌          | 901/2158 [17:51<23:52,  1.14s/it]"
     ]
    },
    {
     "name": "stdout",
     "output_type": "stream",
     "text": [
      "Epoch 4 Batch 900 Loss 49.1074\n"
     ]
    },
    {
     "name": "stderr",
     "output_type": "stream",
     "text": [
      "Epoch 4 Loss: 1.0656:  46%|███████▉         | 1001/2158 [19:43<22:39,  1.18s/it]"
     ]
    },
    {
     "name": "stdout",
     "output_type": "stream",
     "text": [
      "Epoch 4 Batch 1000 Loss 39.0505\n"
     ]
    },
    {
     "name": "stderr",
     "output_type": "stream",
     "text": [
      "Epoch 4 Loss: 1.0637:  51%|████████▋        | 1101/2158 [21:40<20:20,  1.15s/it]"
     ]
    },
    {
     "name": "stdout",
     "output_type": "stream",
     "text": [
      "Epoch 4 Batch 1100 Loss 38.1865\n"
     ]
    },
    {
     "name": "stderr",
     "output_type": "stream",
     "text": [
      "Epoch 4 Loss: 1.0637:  56%|█████████▍       | 1201/2158 [23:32<16:59,  1.07s/it]"
     ]
    },
    {
     "name": "stdout",
     "output_type": "stream",
     "text": [
      "Epoch 4 Batch 1200 Loss 43.1040\n"
     ]
    },
    {
     "name": "stderr",
     "output_type": "stream",
     "text": [
      "Epoch 4 Loss: 1.0616:  60%|██████████▏      | 1301/2158 [25:25<15:42,  1.10s/it]"
     ]
    },
    {
     "name": "stdout",
     "output_type": "stream",
     "text": [
      "Epoch 4 Batch 1300 Loss 44.0336\n"
     ]
    },
    {
     "name": "stderr",
     "output_type": "stream",
     "text": [
      "Epoch 4 Loss: 1.0614:  65%|███████████      | 1401/2158 [27:10<13:02,  1.03s/it]"
     ]
    },
    {
     "name": "stdout",
     "output_type": "stream",
     "text": [
      "Epoch 4 Batch 1400 Loss 40.5159\n"
     ]
    },
    {
     "name": "stderr",
     "output_type": "stream",
     "text": [
      "Epoch 4 Loss: 1.0606:  70%|███████████▊     | 1501/2158 [29:03<13:20,  1.22s/it]"
     ]
    },
    {
     "name": "stdout",
     "output_type": "stream",
     "text": [
      "Epoch 4 Batch 1500 Loss 32.7590\n"
     ]
    },
    {
     "name": "stderr",
     "output_type": "stream",
     "text": [
      "Epoch 4 Loss: 1.0584:  74%|████████████▌    | 1601/2158 [31:00<10:34,  1.14s/it]"
     ]
    },
    {
     "name": "stdout",
     "output_type": "stream",
     "text": [
      "Epoch 4 Batch 1600 Loss 41.6360\n"
     ]
    },
    {
     "name": "stderr",
     "output_type": "stream",
     "text": [
      "Epoch 4 Loss: 1.0583:  79%|█████████████▍   | 1701/2158 [32:52<07:56,  1.04s/it]"
     ]
    },
    {
     "name": "stdout",
     "output_type": "stream",
     "text": [
      "Epoch 4 Batch 1700 Loss 39.4900\n"
     ]
    },
    {
     "name": "stderr",
     "output_type": "stream",
     "text": [
      "Epoch 4 Loss: 1.0588:  83%|██████████████▏  | 1801/2158 [34:41<06:57,  1.17s/it]"
     ]
    },
    {
     "name": "stdout",
     "output_type": "stream",
     "text": [
      "Epoch 4 Batch 1800 Loss 30.9937\n"
     ]
    },
    {
     "name": "stderr",
     "output_type": "stream",
     "text": [
      "Epoch 4 Loss: 1.0579:  88%|██████████████▉  | 1901/2158 [36:37<04:46,  1.11s/it]"
     ]
    },
    {
     "name": "stdout",
     "output_type": "stream",
     "text": [
      "Epoch 4 Batch 1900 Loss 39.8258\n"
     ]
    },
    {
     "name": "stderr",
     "output_type": "stream",
     "text": [
      "Epoch 4 Loss: 1.0561:  93%|███████████████▊ | 2001/2158 [38:26<02:48,  1.07s/it]"
     ]
    },
    {
     "name": "stdout",
     "output_type": "stream",
     "text": [
      "Epoch 4 Batch 2000 Loss 46.9947\n"
     ]
    },
    {
     "name": "stderr",
     "output_type": "stream",
     "text": [
      "Epoch 4 Loss: 1.0557:  97%|████████████████▌| 2101/2158 [40:13<01:00,  1.06s/it]"
     ]
    },
    {
     "name": "stdout",
     "output_type": "stream",
     "text": [
      "Epoch 4 Batch 2100 Loss 48.0907\n"
     ]
    },
    {
     "name": "stderr",
     "output_type": "stream",
     "text": [
      "Epoch 4 Loss: 1.0545: 100%|█████████████████| 2158/2158 [41:17<00:00,  1.09s/it]2024-05-22 11:41:36.849855: W tensorflow/core/framework/local_rendezvous.cc:404] Local rendezvous is aborting with status: OUT_OF_RANGE: End of sequence\n",
      "Epoch 4 Loss: 1.0545: 100%|█████████████████| 2158/2158 [41:17<00:00,  1.15s/it]\n"
     ]
    },
    {
     "name": "stdout",
     "output_type": "stream",
     "text": [
      "Epoch 4 Loss 1.0545\n",
      "Time taken for 1 epoch 2477.66 sec\n",
      "\n"
     ]
    },
    {
     "name": "stderr",
     "output_type": "stream",
     "text": [
      "  0%|                                                  | 0/2158 [00:00<?, ?it/s]2024-05-22 11:41:47.563759: I tensorflow/core/kernels/data/shuffle_dataset_op.cc:450] ShuffleDatasetV3:3: Filling up shuffle buffer (this may take a while): 584 of 1000\n",
      "2024-05-22 11:41:56.386944: I tensorflow/core/kernels/data/shuffle_dataset_op.cc:480] Shuffle buffer filled.\n",
      "Epoch 5 Loss: 1.0975:   0%|                 | 1/2158 [00:21<13:07:18, 21.90s/it]"
     ]
    },
    {
     "name": "stdout",
     "output_type": "stream",
     "text": [
      "Epoch 5 Batch 0 Loss 43.9000\n"
     ]
    },
    {
     "name": "stderr",
     "output_type": "stream",
     "text": [
      "Epoch 5 Loss: 1.0157:   5%|▊                 | 101/2158 [02:23<39:34,  1.15s/it]"
     ]
    },
    {
     "name": "stdout",
     "output_type": "stream",
     "text": [
      "Epoch 5 Batch 100 Loss 37.9812\n"
     ]
    },
    {
     "name": "stderr",
     "output_type": "stream",
     "text": [
      "Epoch 5 Loss: 1.0289:   9%|█▋                | 201/2158 [04:14<37:58,  1.16s/it]"
     ]
    },
    {
     "name": "stdout",
     "output_type": "stream",
     "text": [
      "Epoch 5 Batch 200 Loss 31.9818\n"
     ]
    },
    {
     "name": "stderr",
     "output_type": "stream",
     "text": [
      "Epoch 5 Loss: 1.0271:  14%|██▌               | 301/2158 [06:12<32:27,  1.05s/it]"
     ]
    },
    {
     "name": "stdout",
     "output_type": "stream",
     "text": [
      "Epoch 5 Batch 300 Loss 40.6203\n"
     ]
    },
    {
     "name": "stderr",
     "output_type": "stream",
     "text": [
      "Epoch 5 Loss: 1.0346:  19%|███▎              | 401/2158 [08:09<33:03,  1.13s/it]"
     ]
    },
    {
     "name": "stdout",
     "output_type": "stream",
     "text": [
      "Epoch 5 Batch 400 Loss 44.2991\n"
     ]
    },
    {
     "name": "stderr",
     "output_type": "stream",
     "text": [
      "Epoch 5 Loss: 1.0313:  23%|████▏             | 501/2158 [10:05<31:10,  1.13s/it]"
     ]
    },
    {
     "name": "stdout",
     "output_type": "stream",
     "text": [
      "Epoch 5 Batch 500 Loss 47.5537\n"
     ]
    },
    {
     "name": "stderr",
     "output_type": "stream",
     "text": [
      "Epoch 5 Loss: 1.0282:  28%|█████             | 601/2158 [11:53<28:40,  1.11s/it]"
     ]
    },
    {
     "name": "stdout",
     "output_type": "stream",
     "text": [
      "Epoch 5 Batch 600 Loss 38.4744\n"
     ]
    },
    {
     "name": "stderr",
     "output_type": "stream",
     "text": [
      "Epoch 5 Loss: 1.0293:  32%|█████▊            | 701/2158 [13:46<31:42,  1.31s/it]"
     ]
    },
    {
     "name": "stdout",
     "output_type": "stream",
     "text": [
      "Epoch 5 Batch 700 Loss 52.9949\n"
     ]
    },
    {
     "name": "stderr",
     "output_type": "stream",
     "text": [
      "Epoch 5 Loss: 1.0284:  37%|██████▋           | 801/2158 [15:42<28:52,  1.28s/it]"
     ]
    },
    {
     "name": "stdout",
     "output_type": "stream",
     "text": [
      "Epoch 5 Batch 800 Loss 38.7119\n"
     ]
    },
    {
     "name": "stderr",
     "output_type": "stream",
     "text": [
      "Epoch 5 Loss: 1.0252:  42%|███████▌          | 901/2158 [17:37<23:08,  1.10s/it]"
     ]
    },
    {
     "name": "stdout",
     "output_type": "stream",
     "text": [
      "Epoch 5 Batch 900 Loss 32.9802\n"
     ]
    },
    {
     "name": "stderr",
     "output_type": "stream",
     "text": [
      "Epoch 5 Loss: 1.0257:  46%|███████▉         | 1001/2158 [19:27<19:33,  1.01s/it]"
     ]
    },
    {
     "name": "stdout",
     "output_type": "stream",
     "text": [
      "Epoch 5 Batch 1000 Loss 36.1018\n"
     ]
    },
    {
     "name": "stderr",
     "output_type": "stream",
     "text": [
      "Epoch 5 Loss: 1.0245:  51%|████████▋        | 1101/2158 [21:11<17:53,  1.02s/it]"
     ]
    },
    {
     "name": "stdout",
     "output_type": "stream",
     "text": [
      "Epoch 5 Batch 1100 Loss 35.9865\n"
     ]
    },
    {
     "name": "stderr",
     "output_type": "stream",
     "text": [
      "Epoch 5 Loss: 1.0250:  56%|█████████▍       | 1201/2158 [22:58<16:58,  1.06s/it]"
     ]
    },
    {
     "name": "stdout",
     "output_type": "stream",
     "text": [
      "Epoch 5 Batch 1200 Loss 48.3236\n"
     ]
    },
    {
     "name": "stderr",
     "output_type": "stream",
     "text": [
      "Epoch 5 Loss: 1.0232:  60%|██████████▏      | 1301/2158 [24:45<15:06,  1.06s/it]"
     ]
    },
    {
     "name": "stdout",
     "output_type": "stream",
     "text": [
      "Epoch 5 Batch 1300 Loss 42.2461\n"
     ]
    },
    {
     "name": "stderr",
     "output_type": "stream",
     "text": [
      "Epoch 5 Loss: 1.0217:  65%|███████████      | 1401/2158 [26:30<13:08,  1.04s/it]"
     ]
    },
    {
     "name": "stdout",
     "output_type": "stream",
     "text": [
      "Epoch 5 Batch 1400 Loss 43.8467\n"
     ]
    },
    {
     "name": "stderr",
     "output_type": "stream",
     "text": [
      "Epoch 5 Loss: 1.0205:  70%|███████████▊     | 1501/2158 [28:14<11:19,  1.03s/it]"
     ]
    },
    {
     "name": "stdout",
     "output_type": "stream",
     "text": [
      "Epoch 5 Batch 1500 Loss 42.3178\n"
     ]
    },
    {
     "name": "stderr",
     "output_type": "stream",
     "text": [
      "Epoch 5 Loss: 1.0209:  74%|████████████▌    | 1601/2158 [29:58<09:37,  1.04s/it]"
     ]
    },
    {
     "name": "stdout",
     "output_type": "stream",
     "text": [
      "Epoch 5 Batch 1600 Loss 38.5048\n"
     ]
    },
    {
     "name": "stderr",
     "output_type": "stream",
     "text": [
      "Epoch 5 Loss: 1.0199:  79%|█████████████▍   | 1701/2158 [31:38<07:19,  1.04it/s]"
     ]
    },
    {
     "name": "stdout",
     "output_type": "stream",
     "text": [
      "Epoch 5 Batch 1700 Loss 40.4624\n"
     ]
    },
    {
     "name": "stderr",
     "output_type": "stream",
     "text": [
      "Epoch 5 Loss: 1.0188:  83%|██████████████▏  | 1801/2158 [33:15<05:49,  1.02it/s]"
     ]
    },
    {
     "name": "stdout",
     "output_type": "stream",
     "text": [
      "Epoch 5 Batch 1800 Loss 45.2508\n"
     ]
    },
    {
     "name": "stderr",
     "output_type": "stream",
     "text": [
      "Epoch 5 Loss: 1.0181:  88%|██████████████▉  | 1901/2158 [34:54<04:18,  1.00s/it]"
     ]
    },
    {
     "name": "stdout",
     "output_type": "stream",
     "text": [
      "Epoch 5 Batch 1900 Loss 36.3289\n"
     ]
    },
    {
     "name": "stderr",
     "output_type": "stream",
     "text": [
      "Epoch 5 Loss: 1.0182:  93%|███████████████▊ | 2001/2158 [36:34<02:39,  1.02s/it]"
     ]
    },
    {
     "name": "stdout",
     "output_type": "stream",
     "text": [
      "Epoch 5 Batch 2000 Loss 41.2246\n"
     ]
    },
    {
     "name": "stderr",
     "output_type": "stream",
     "text": [
      "Epoch 5 Loss: 1.0187:  97%|████████████████▌| 2101/2158 [38:16<00:57,  1.01s/it]"
     ]
    },
    {
     "name": "stdout",
     "output_type": "stream",
     "text": [
      "Epoch 5 Batch 2100 Loss 33.6954\n"
     ]
    },
    {
     "name": "stderr",
     "output_type": "stream",
     "text": [
      "Epoch 5 Loss: 1.0188: 100%|█████████████████| 2158/2158 [39:14<00:00,  1.01s/it]2024-05-22 12:20:51.793186: W tensorflow/core/framework/local_rendezvous.cc:404] Local rendezvous is aborting with status: OUT_OF_RANGE: End of sequence\n",
      "Epoch 5 Loss: 1.0188: 100%|█████████████████| 2158/2158 [39:14<00:00,  1.09s/it]\n"
     ]
    },
    {
     "name": "stdout",
     "output_type": "stream",
     "text": [
      "Epoch 5 Loss 1.0188\n",
      "Time taken for 1 epoch 2354.27 sec\n",
      "\n"
     ]
    },
    {
     "name": "stderr",
     "output_type": "stream",
     "text": [
      "  0%|                                                  | 0/2158 [00:00<?, ?it/s]2024-05-22 12:21:02.437528: I tensorflow/core/kernels/data/shuffle_dataset_op.cc:450] ShuffleDatasetV3:3: Filling up shuffle buffer (this may take a while): 597 of 1000\n",
      "2024-05-22 12:21:09.718705: I tensorflow/core/kernels/data/shuffle_dataset_op.cc:480] Shuffle buffer filled.\n",
      "Epoch 6 Loss: 1.0283:   0%|                 | 1/2158 [00:19<11:30:31, 19.21s/it]"
     ]
    },
    {
     "name": "stdout",
     "output_type": "stream",
     "text": [
      "Epoch 6 Batch 0 Loss 41.1329\n"
     ]
    },
    {
     "name": "stderr",
     "output_type": "stream",
     "text": [
      "Epoch 6 Loss: 1.0004:   5%|▊                 | 101/2158 [02:06<37:05,  1.08s/it]"
     ]
    },
    {
     "name": "stdout",
     "output_type": "stream",
     "text": [
      "Epoch 6 Batch 100 Loss 45.7938\n"
     ]
    },
    {
     "name": "stderr",
     "output_type": "stream",
     "text": [
      "Epoch 6 Loss: 0.9951:   9%|█▋                | 201/2158 [03:53<32:42,  1.00s/it]"
     ]
    },
    {
     "name": "stdout",
     "output_type": "stream",
     "text": [
      "Epoch 6 Batch 200 Loss 35.1670\n"
     ]
    },
    {
     "name": "stderr",
     "output_type": "stream",
     "text": [
      "Epoch 6 Loss: 0.9920:  14%|██▌               | 301/2158 [05:37<32:49,  1.06s/it]"
     ]
    },
    {
     "name": "stdout",
     "output_type": "stream",
     "text": [
      "Epoch 6 Batch 300 Loss 46.3148\n"
     ]
    },
    {
     "name": "stderr",
     "output_type": "stream",
     "text": [
      "Epoch 6 Loss: 0.9870:  19%|███▎              | 401/2158 [07:23<31:33,  1.08s/it]"
     ]
    },
    {
     "name": "stdout",
     "output_type": "stream",
     "text": [
      "Epoch 6 Batch 400 Loss 33.3248\n"
     ]
    },
    {
     "name": "stderr",
     "output_type": "stream",
     "text": [
      "Epoch 6 Loss: 0.9901:  23%|████▏             | 501/2158 [09:13<30:13,  1.09s/it]"
     ]
    },
    {
     "name": "stdout",
     "output_type": "stream",
     "text": [
      "Epoch 6 Batch 500 Loss 44.2551\n"
     ]
    },
    {
     "name": "stderr",
     "output_type": "stream",
     "text": [
      "Epoch 6 Loss: 0.9925:  28%|█████             | 601/2158 [11:02<28:02,  1.08s/it]"
     ]
    },
    {
     "name": "stdout",
     "output_type": "stream",
     "text": [
      "Epoch 6 Batch 600 Loss 42.6009\n"
     ]
    },
    {
     "name": "stderr",
     "output_type": "stream",
     "text": [
      "Epoch 6 Loss: 0.9952:  32%|█████▊            | 701/2158 [12:52<26:21,  1.09s/it]"
     ]
    },
    {
     "name": "stdout",
     "output_type": "stream",
     "text": [
      "Epoch 6 Batch 700 Loss 35.9370\n"
     ]
    },
    {
     "name": "stderr",
     "output_type": "stream",
     "text": [
      "Epoch 6 Loss: 0.9974:  37%|██████▋           | 801/2158 [14:41<24:41,  1.09s/it]"
     ]
    },
    {
     "name": "stdout",
     "output_type": "stream",
     "text": [
      "Epoch 6 Batch 800 Loss 40.4108\n"
     ]
    },
    {
     "name": "stderr",
     "output_type": "stream",
     "text": [
      "Epoch 6 Loss: 0.9967:  42%|███████▌          | 901/2158 [16:30<24:23,  1.16s/it]"
     ]
    },
    {
     "name": "stdout",
     "output_type": "stream",
     "text": [
      "Epoch 6 Batch 900 Loss 33.2405\n"
     ]
    },
    {
     "name": "stderr",
     "output_type": "stream",
     "text": [
      "Epoch 6 Loss: 0.9952:  46%|███████▉         | 1001/2158 [18:19<20:42,  1.07s/it]"
     ]
    },
    {
     "name": "stdout",
     "output_type": "stream",
     "text": [
      "Epoch 6 Batch 1000 Loss 41.7056\n"
     ]
    },
    {
     "name": "stderr",
     "output_type": "stream",
     "text": [
      "Epoch 6 Loss: 0.9950:  51%|████████▋        | 1101/2158 [20:08<19:07,  1.09s/it]"
     ]
    },
    {
     "name": "stdout",
     "output_type": "stream",
     "text": [
      "Epoch 6 Batch 1100 Loss 42.5057\n"
     ]
    },
    {
     "name": "stderr",
     "output_type": "stream",
     "text": [
      "Epoch 6 Loss: 0.9943:  56%|█████████▍       | 1201/2158 [21:57<17:06,  1.07s/it]"
     ]
    },
    {
     "name": "stdout",
     "output_type": "stream",
     "text": [
      "Epoch 6 Batch 1200 Loss 37.9457\n"
     ]
    },
    {
     "name": "stderr",
     "output_type": "stream",
     "text": [
      "Epoch 6 Loss: 0.9945:  60%|██████████▏      | 1301/2158 [23:44<15:12,  1.07s/it]"
     ]
    },
    {
     "name": "stdout",
     "output_type": "stream",
     "text": [
      "Epoch 6 Batch 1300 Loss 38.3609\n"
     ]
    },
    {
     "name": "stderr",
     "output_type": "stream",
     "text": [
      "Epoch 6 Loss: 0.9940:  65%|███████████      | 1401/2158 [25:31<14:19,  1.14s/it]"
     ]
    },
    {
     "name": "stdout",
     "output_type": "stream",
     "text": [
      "Epoch 6 Batch 1400 Loss 61.4978\n"
     ]
    },
    {
     "name": "stderr",
     "output_type": "stream",
     "text": [
      "Epoch 6 Loss: 0.9927:  70%|███████████▊     | 1501/2158 [27:17<11:42,  1.07s/it]"
     ]
    },
    {
     "name": "stdout",
     "output_type": "stream",
     "text": [
      "Epoch 6 Batch 1500 Loss 46.3841\n"
     ]
    },
    {
     "name": "stderr",
     "output_type": "stream",
     "text": [
      "Epoch 6 Loss: 0.9929:  74%|████████████▌    | 1601/2158 [29:04<09:57,  1.07s/it]"
     ]
    },
    {
     "name": "stdout",
     "output_type": "stream",
     "text": [
      "Epoch 6 Batch 1600 Loss 40.6725\n"
     ]
    },
    {
     "name": "stderr",
     "output_type": "stream",
     "text": [
      "Epoch 6 Loss: 0.9918:  79%|█████████████▍   | 1701/2158 [31:05<08:49,  1.16s/it]"
     ]
    },
    {
     "name": "stdout",
     "output_type": "stream",
     "text": [
      "Epoch 6 Batch 1700 Loss 33.5668\n"
     ]
    },
    {
     "name": "stderr",
     "output_type": "stream",
     "text": [
      "Epoch 6 Loss: 0.9908:  83%|██████████████▏  | 1801/2158 [32:52<06:06,  1.03s/it]"
     ]
    },
    {
     "name": "stdout",
     "output_type": "stream",
     "text": [
      "Epoch 6 Batch 1800 Loss 36.6932\n"
     ]
    },
    {
     "name": "stderr",
     "output_type": "stream",
     "text": [
      "Epoch 6 Loss: 0.9916:  88%|██████████████▉  | 1901/2158 [34:36<04:24,  1.03s/it]"
     ]
    },
    {
     "name": "stdout",
     "output_type": "stream",
     "text": [
      "Epoch 6 Batch 1900 Loss 50.0741\n"
     ]
    },
    {
     "name": "stderr",
     "output_type": "stream",
     "text": [
      "Epoch 6 Loss: 0.9911:  93%|███████████████▊ | 2001/2158 [36:25<02:44,  1.05s/it]"
     ]
    },
    {
     "name": "stdout",
     "output_type": "stream",
     "text": [
      "Epoch 6 Batch 2000 Loss 32.6759\n"
     ]
    },
    {
     "name": "stderr",
     "output_type": "stream",
     "text": [
      "Epoch 6 Loss: 0.9909:  97%|████████████████▌| 2101/2158 [38:15<01:00,  1.06s/it]"
     ]
    },
    {
     "name": "stdout",
     "output_type": "stream",
     "text": [
      "Epoch 6 Batch 2100 Loss 38.8462\n"
     ]
    },
    {
     "name": "stderr",
     "output_type": "stream",
     "text": [
      "Epoch 6 Loss: 0.9906: 100%|█████████████████| 2158/2158 [39:15<00:00,  1.09s/it]2024-05-22 13:00:07.469134: W tensorflow/core/framework/local_rendezvous.cc:404] Local rendezvous is aborting with status: OUT_OF_RANGE: End of sequence\n",
      "Epoch 6 Loss: 0.9906: 100%|█████████████████| 2158/2158 [39:15<00:00,  1.09s/it]\n"
     ]
    },
    {
     "name": "stdout",
     "output_type": "stream",
     "text": [
      "Epoch 6 Loss 0.9906\n",
      "Time taken for 1 epoch 2355.07 sec\n",
      "\n"
     ]
    },
    {
     "name": "stderr",
     "output_type": "stream",
     "text": [
      "  0%|                                                  | 0/2158 [00:00<?, ?it/s]2024-05-22 13:00:18.031861: I tensorflow/core/kernels/data/shuffle_dataset_op.cc:450] ShuffleDatasetV3:3: Filling up shuffle buffer (this may take a while): 507 of 1000\n",
      "2024-05-22 13:00:26.139933: I tensorflow/core/kernels/data/shuffle_dataset_op.cc:480] Shuffle buffer filled.\n",
      "Epoch 7 Loss: 0.9949:   0%|                 | 1/2158 [00:20<12:08:11, 20.26s/it]"
     ]
    },
    {
     "name": "stdout",
     "output_type": "stream",
     "text": [
      "Epoch 7 Batch 0 Loss 39.7967\n"
     ]
    },
    {
     "name": "stderr",
     "output_type": "stream",
     "text": [
      "Epoch 7 Loss: 0.9575:   5%|▊                 | 101/2158 [02:13<37:47,  1.10s/it]"
     ]
    },
    {
     "name": "stdout",
     "output_type": "stream",
     "text": [
      "Epoch 7 Batch 100 Loss 41.0595\n"
     ]
    },
    {
     "name": "stderr",
     "output_type": "stream",
     "text": [
      "Epoch 7 Loss: 0.9539:   9%|█▋                | 201/2158 [04:16<40:46,  1.25s/it]"
     ]
    },
    {
     "name": "stdout",
     "output_type": "stream",
     "text": [
      "Epoch 7 Batch 200 Loss 34.2963\n"
     ]
    },
    {
     "name": "stderr",
     "output_type": "stream",
     "text": [
      "Epoch 7 Loss: 0.9615:  14%|██▌               | 301/2158 [06:45<38:00,  1.23s/it]"
     ]
    },
    {
     "name": "stdout",
     "output_type": "stream",
     "text": [
      "Epoch 7 Batch 300 Loss 45.1246\n"
     ]
    },
    {
     "name": "stderr",
     "output_type": "stream",
     "text": [
      "Epoch 7 Loss: 0.9667:  19%|███▎              | 401/2158 [08:43<33:08,  1.13s/it]"
     ]
    },
    {
     "name": "stdout",
     "output_type": "stream",
     "text": [
      "Epoch 7 Batch 400 Loss 38.8295\n"
     ]
    },
    {
     "name": "stderr",
     "output_type": "stream",
     "text": [
      "Epoch 7 Loss: 0.9682:  23%|████▏             | 501/2158 [10:31<30:42,  1.11s/it]"
     ]
    },
    {
     "name": "stdout",
     "output_type": "stream",
     "text": [
      "Epoch 7 Batch 500 Loss 46.5955\n"
     ]
    },
    {
     "name": "stderr",
     "output_type": "stream",
     "text": [
      "Epoch 7 Loss: 0.9716:  28%|█████             | 601/2158 [12:24<28:32,  1.10s/it]"
     ]
    },
    {
     "name": "stdout",
     "output_type": "stream",
     "text": [
      "Epoch 7 Batch 600 Loss 42.3583\n"
     ]
    },
    {
     "name": "stderr",
     "output_type": "stream",
     "text": [
      "Epoch 7 Loss: 0.9696:  32%|█████▊            | 701/2158 [14:14<28:10,  1.16s/it]"
     ]
    },
    {
     "name": "stdout",
     "output_type": "stream",
     "text": [
      "Epoch 7 Batch 700 Loss 36.2575\n"
     ]
    },
    {
     "name": "stderr",
     "output_type": "stream",
     "text": [
      "Epoch 7 Loss: 0.9698:  37%|██████▋           | 801/2158 [16:04<24:15,  1.07s/it]"
     ]
    },
    {
     "name": "stdout",
     "output_type": "stream",
     "text": [
      "Epoch 7 Batch 800 Loss 43.9452\n"
     ]
    },
    {
     "name": "stderr",
     "output_type": "stream",
     "text": [
      "Epoch 7 Loss: 0.9680:  42%|███████▌          | 901/2158 [17:55<23:52,  1.14s/it]"
     ]
    },
    {
     "name": "stdout",
     "output_type": "stream",
     "text": [
      "Epoch 7 Batch 900 Loss 38.3653\n"
     ]
    },
    {
     "name": "stderr",
     "output_type": "stream",
     "text": [
      "Epoch 7 Loss: 0.9698:  46%|███████▉         | 1001/2158 [19:50<22:49,  1.18s/it]"
     ]
    },
    {
     "name": "stdout",
     "output_type": "stream",
     "text": [
      "Epoch 7 Batch 1000 Loss 44.4551\n"
     ]
    },
    {
     "name": "stderr",
     "output_type": "stream",
     "text": [
      "Epoch 7 Loss: 0.9668:  51%|████████▋        | 1101/2158 [21:48<19:18,  1.10s/it]"
     ]
    },
    {
     "name": "stdout",
     "output_type": "stream",
     "text": [
      "Epoch 7 Batch 1100 Loss 46.0167\n"
     ]
    },
    {
     "name": "stderr",
     "output_type": "stream",
     "text": [
      "Epoch 7 Loss: 0.9696:  56%|█████████▍       | 1201/2158 [23:47<20:50,  1.31s/it]"
     ]
    },
    {
     "name": "stdout",
     "output_type": "stream",
     "text": [
      "Epoch 7 Batch 1200 Loss 31.7464\n"
     ]
    },
    {
     "name": "stderr",
     "output_type": "stream",
     "text": [
      "Epoch 7 Loss: 0.9681:  60%|██████████▏      | 1301/2158 [25:43<16:18,  1.14s/it]"
     ]
    },
    {
     "name": "stdout",
     "output_type": "stream",
     "text": [
      "Epoch 7 Batch 1300 Loss 37.1217\n"
     ]
    },
    {
     "name": "stderr",
     "output_type": "stream",
     "text": [
      "Epoch 7 Loss: 0.9684:  65%|███████████      | 1401/2158 [27:34<13:44,  1.09s/it]"
     ]
    },
    {
     "name": "stdout",
     "output_type": "stream",
     "text": [
      "Epoch 7 Batch 1400 Loss 43.8219\n"
     ]
    },
    {
     "name": "stderr",
     "output_type": "stream",
     "text": [
      "Epoch 7 Loss: 0.9669:  70%|███████████▊     | 1501/2158 [29:25<13:02,  1.19s/it]"
     ]
    },
    {
     "name": "stdout",
     "output_type": "stream",
     "text": [
      "Epoch 7 Batch 1500 Loss 43.4073\n"
     ]
    },
    {
     "name": "stderr",
     "output_type": "stream",
     "text": [
      "Epoch 7 Loss: 0.9680:  74%|████████████▌    | 1601/2158 [31:25<12:08,  1.31s/it]"
     ]
    },
    {
     "name": "stdout",
     "output_type": "stream",
     "text": [
      "Epoch 7 Batch 1600 Loss 37.1227\n"
     ]
    },
    {
     "name": "stderr",
     "output_type": "stream",
     "text": [
      "Epoch 7 Loss: 0.9687:  79%|█████████████▍   | 1701/2158 [33:22<09:32,  1.25s/it]"
     ]
    },
    {
     "name": "stdout",
     "output_type": "stream",
     "text": [
      "Epoch 7 Batch 1700 Loss 37.4530\n"
     ]
    },
    {
     "name": "stderr",
     "output_type": "stream",
     "text": [
      "Epoch 7 Loss: 0.9688:  83%|██████████████▏  | 1801/2158 [35:16<06:33,  1.10s/it]"
     ]
    },
    {
     "name": "stdout",
     "output_type": "stream",
     "text": [
      "Epoch 7 Batch 1800 Loss 47.8028\n"
     ]
    },
    {
     "name": "stderr",
     "output_type": "stream",
     "text": [
      "Epoch 7 Loss: 0.9680:  88%|██████████████▉  | 1901/2158 [37:07<04:26,  1.04s/it]"
     ]
    },
    {
     "name": "stdout",
     "output_type": "stream",
     "text": [
      "Epoch 7 Batch 1900 Loss 33.4707\n"
     ]
    },
    {
     "name": "stderr",
     "output_type": "stream",
     "text": [
      "Epoch 7 Loss: 0.9675:  93%|███████████████▊ | 2001/2158 [38:56<02:51,  1.09s/it]"
     ]
    },
    {
     "name": "stdout",
     "output_type": "stream",
     "text": [
      "Epoch 7 Batch 2000 Loss 37.1413\n"
     ]
    },
    {
     "name": "stderr",
     "output_type": "stream",
     "text": [
      "Epoch 7 Loss: 0.9670:  97%|████████████████▌| 2101/2158 [40:47<01:02,  1.10s/it]"
     ]
    },
    {
     "name": "stdout",
     "output_type": "stream",
     "text": [
      "Epoch 7 Batch 2100 Loss 38.7142\n"
     ]
    },
    {
     "name": "stderr",
     "output_type": "stream",
     "text": [
      "Epoch 7 Loss: 0.9674: 100%|█████████████████| 2158/2158 [41:54<00:00,  1.18s/it]2024-05-22 13:42:02.980796: W tensorflow/core/framework/local_rendezvous.cc:404] Local rendezvous is aborting with status: OUT_OF_RANGE: End of sequence\n",
      "Epoch 7 Loss: 0.9674: 100%|█████████████████| 2158/2158 [41:54<00:00,  1.17s/it]\n"
     ]
    },
    {
     "name": "stdout",
     "output_type": "stream",
     "text": [
      "Epoch 7 Loss 0.9674\n",
      "Time taken for 1 epoch 2514.98 sec\n",
      "\n"
     ]
    },
    {
     "name": "stderr",
     "output_type": "stream",
     "text": [
      "  0%|                                                  | 0/2158 [00:00<?, ?it/s]2024-05-22 13:42:13.543986: I tensorflow/core/kernels/data/shuffle_dataset_op.cc:450] ShuffleDatasetV3:3: Filling up shuffle buffer (this may take a while): 558 of 1000\n",
      "2024-05-22 13:42:22.806298: I tensorflow/core/kernels/data/shuffle_dataset_op.cc:480] Shuffle buffer filled.\n",
      "Epoch 8 Loss: 0.9596:   0%|                 | 1/2158 [00:21<13:08:32, 21.93s/it]"
     ]
    },
    {
     "name": "stdout",
     "output_type": "stream",
     "text": [
      "Epoch 8 Batch 0 Loss 38.3848\n"
     ]
    },
    {
     "name": "stderr",
     "output_type": "stream",
     "text": [
      "Epoch 8 Loss: 0.9450:   5%|▊                 | 101/2158 [02:25<36:28,  1.06s/it]"
     ]
    },
    {
     "name": "stdout",
     "output_type": "stream",
     "text": [
      "Epoch 8 Batch 100 Loss 37.8478\n"
     ]
    },
    {
     "name": "stderr",
     "output_type": "stream",
     "text": [
      "Epoch 8 Loss: 0.9486:   9%|█▋                | 201/2158 [04:20<39:36,  1.21s/it]"
     ]
    },
    {
     "name": "stdout",
     "output_type": "stream",
     "text": [
      "Epoch 8 Batch 200 Loss 43.5338\n"
     ]
    },
    {
     "name": "stderr",
     "output_type": "stream",
     "text": [
      "Epoch 8 Loss: 0.9534:  14%|██▌               | 301/2158 [06:15<36:39,  1.18s/it]"
     ]
    },
    {
     "name": "stdout",
     "output_type": "stream",
     "text": [
      "Epoch 8 Batch 300 Loss 40.0256\n"
     ]
    },
    {
     "name": "stderr",
     "output_type": "stream",
     "text": [
      "Epoch 8 Loss: 0.9465:  19%|███▎              | 401/2158 [08:17<32:35,  1.11s/it]"
     ]
    },
    {
     "name": "stdout",
     "output_type": "stream",
     "text": [
      "Epoch 8 Batch 400 Loss 38.1986\n"
     ]
    },
    {
     "name": "stderr",
     "output_type": "stream",
     "text": [
      "Epoch 8 Loss: 0.9461:  23%|████▏             | 501/2158 [10:10<30:02,  1.09s/it]"
     ]
    },
    {
     "name": "stdout",
     "output_type": "stream",
     "text": [
      "Epoch 8 Batch 500 Loss 39.4947\n"
     ]
    },
    {
     "name": "stderr",
     "output_type": "stream",
     "text": [
      "Epoch 8 Loss: 0.9516:  28%|█████             | 601/2158 [12:00<28:04,  1.08s/it]"
     ]
    },
    {
     "name": "stdout",
     "output_type": "stream",
     "text": [
      "Epoch 8 Batch 600 Loss 36.9266\n"
     ]
    },
    {
     "name": "stderr",
     "output_type": "stream",
     "text": [
      "Epoch 8 Loss: 0.9528:  32%|█████▊            | 701/2158 [13:50<25:43,  1.06s/it]"
     ]
    },
    {
     "name": "stdout",
     "output_type": "stream",
     "text": [
      "Epoch 8 Batch 700 Loss 33.0169\n"
     ]
    },
    {
     "name": "stderr",
     "output_type": "stream",
     "text": [
      "Epoch 8 Loss: 0.9511:  37%|██████▋           | 801/2158 [15:46<24:13,  1.07s/it]"
     ]
    },
    {
     "name": "stdout",
     "output_type": "stream",
     "text": [
      "Epoch 8 Batch 800 Loss 39.2232\n"
     ]
    },
    {
     "name": "stderr",
     "output_type": "stream",
     "text": [
      "Epoch 8 Loss: 0.9502:  42%|███████▌          | 901/2158 [17:35<23:19,  1.11s/it]"
     ]
    },
    {
     "name": "stdout",
     "output_type": "stream",
     "text": [
      "Epoch 8 Batch 900 Loss 32.4221\n"
     ]
    },
    {
     "name": "stderr",
     "output_type": "stream",
     "text": [
      "Epoch 8 Loss: 0.9507:  46%|███████▉         | 1001/2158 [19:26<21:12,  1.10s/it]"
     ]
    },
    {
     "name": "stdout",
     "output_type": "stream",
     "text": [
      "Epoch 8 Batch 1000 Loss 47.0780\n"
     ]
    },
    {
     "name": "stderr",
     "output_type": "stream",
     "text": [
      "Epoch 8 Loss: 0.9503:  51%|████████▋        | 1101/2158 [21:16<18:54,  1.07s/it]"
     ]
    },
    {
     "name": "stdout",
     "output_type": "stream",
     "text": [
      "Epoch 8 Batch 1100 Loss 30.8747\n"
     ]
    },
    {
     "name": "stderr",
     "output_type": "stream",
     "text": [
      "Epoch 8 Loss: 0.9482:  56%|█████████▍       | 1201/2158 [23:05<16:56,  1.06s/it]"
     ]
    },
    {
     "name": "stdout",
     "output_type": "stream",
     "text": [
      "Epoch 8 Batch 1200 Loss 38.5996\n"
     ]
    },
    {
     "name": "stderr",
     "output_type": "stream",
     "text": [
      "Epoch 8 Loss: 0.9486:  60%|██████████▏      | 1301/2158 [24:51<15:08,  1.06s/it]"
     ]
    },
    {
     "name": "stdout",
     "output_type": "stream",
     "text": [
      "Epoch 8 Batch 1300 Loss 41.1267\n"
     ]
    },
    {
     "name": "stderr",
     "output_type": "stream",
     "text": [
      "Epoch 8 Loss: 0.9483:  65%|███████████      | 1401/2158 [26:36<13:25,  1.06s/it]"
     ]
    },
    {
     "name": "stdout",
     "output_type": "stream",
     "text": [
      "Epoch 8 Batch 1400 Loss 36.7402\n"
     ]
    },
    {
     "name": "stderr",
     "output_type": "stream",
     "text": [
      "Epoch 8 Loss: 0.9472:  70%|███████████▊     | 1501/2158 [28:22<11:27,  1.05s/it]"
     ]
    },
    {
     "name": "stdout",
     "output_type": "stream",
     "text": [
      "Epoch 8 Batch 1500 Loss 40.3832\n"
     ]
    },
    {
     "name": "stderr",
     "output_type": "stream",
     "text": [
      "Epoch 8 Loss: 0.9456:  74%|████████████▌    | 1601/2158 [30:06<09:25,  1.02s/it]"
     ]
    },
    {
     "name": "stdout",
     "output_type": "stream",
     "text": [
      "Epoch 8 Batch 1600 Loss 34.7050\n"
     ]
    },
    {
     "name": "stderr",
     "output_type": "stream",
     "text": [
      "Epoch 8 Loss: 0.9463:  79%|█████████████▍   | 1701/2158 [31:50<07:49,  1.03s/it]"
     ]
    },
    {
     "name": "stdout",
     "output_type": "stream",
     "text": [
      "Epoch 8 Batch 1700 Loss 38.4656\n"
     ]
    },
    {
     "name": "stderr",
     "output_type": "stream",
     "text": [
      "Epoch 8 Loss: 0.9459:  83%|██████████████▏  | 1801/2158 [33:43<06:22,  1.07s/it]"
     ]
    },
    {
     "name": "stdout",
     "output_type": "stream",
     "text": [
      "Epoch 8 Batch 1800 Loss 34.5390\n"
     ]
    },
    {
     "name": "stderr",
     "output_type": "stream",
     "text": [
      "Epoch 8 Loss: 0.9460:  88%|██████████████▉  | 1901/2158 [35:28<04:31,  1.06s/it]"
     ]
    },
    {
     "name": "stdout",
     "output_type": "stream",
     "text": [
      "Epoch 8 Batch 1900 Loss 42.7495\n"
     ]
    },
    {
     "name": "stderr",
     "output_type": "stream",
     "text": [
      "Epoch 8 Loss: 0.9454:  93%|███████████████▊ | 2001/2158 [37:11<02:41,  1.03s/it]"
     ]
    },
    {
     "name": "stdout",
     "output_type": "stream",
     "text": [
      "Epoch 8 Batch 2000 Loss 40.6088\n"
     ]
    },
    {
     "name": "stderr",
     "output_type": "stream",
     "text": [
      "Epoch 8 Loss: 0.9462:  97%|████████████████▌| 2101/2158 [38:56<01:00,  1.06s/it]"
     ]
    },
    {
     "name": "stdout",
     "output_type": "stream",
     "text": [
      "Epoch 8 Batch 2100 Loss 41.0734\n"
     ]
    },
    {
     "name": "stderr",
     "output_type": "stream",
     "text": [
      "Epoch 8 Loss: 0.9466: 100%|█████████████████| 2158/2158 [39:55<00:00,  1.03s/it]2024-05-22 14:21:59.153926: W tensorflow/core/framework/local_rendezvous.cc:404] Local rendezvous is aborting with status: OUT_OF_RANGE: End of sequence\n",
      "Epoch 8 Loss: 0.9466: 100%|█████████████████| 2158/2158 [39:55<00:00,  1.11s/it]\n"
     ]
    },
    {
     "name": "stdout",
     "output_type": "stream",
     "text": [
      "Epoch 8 Loss 0.9466\n",
      "Time taken for 1 epoch 2395.64 sec\n",
      "\n"
     ]
    },
    {
     "name": "stderr",
     "output_type": "stream",
     "text": [
      "  0%|                                                  | 0/2158 [00:00<?, ?it/s]2024-05-22 14:22:09.842871: I tensorflow/core/kernels/data/shuffle_dataset_op.cc:450] ShuffleDatasetV3:3: Filling up shuffle buffer (this may take a while): 604 of 1000\n",
      "2024-05-22 14:22:16.869519: I tensorflow/core/kernels/data/shuffle_dataset_op.cc:480] Shuffle buffer filled.\n",
      "Epoch 9 Loss: 1.0182:   0%|                 | 1/2158 [00:19<11:29:00, 19.17s/it]"
     ]
    },
    {
     "name": "stdout",
     "output_type": "stream",
     "text": [
      "Epoch 9 Batch 0 Loss 40.7275\n"
     ]
    },
    {
     "name": "stderr",
     "output_type": "stream",
     "text": [
      "Epoch 9 Loss: 0.9105:   5%|▊                 | 101/2158 [02:09<38:15,  1.12s/it]"
     ]
    },
    {
     "name": "stdout",
     "output_type": "stream",
     "text": [
      "Epoch 9 Batch 100 Loss 43.5227\n"
     ]
    },
    {
     "name": "stderr",
     "output_type": "stream",
     "text": [
      "Epoch 9 Loss: 0.9216:   9%|█▋                | 201/2158 [04:01<35:23,  1.08s/it]"
     ]
    },
    {
     "name": "stdout",
     "output_type": "stream",
     "text": [
      "Epoch 9 Batch 200 Loss 42.6963\n"
     ]
    },
    {
     "name": "stderr",
     "output_type": "stream",
     "text": [
      "Epoch 9 Loss: 0.9245:  14%|██▌               | 301/2158 [05:52<34:42,  1.12s/it]"
     ]
    },
    {
     "name": "stdout",
     "output_type": "stream",
     "text": [
      "Epoch 9 Batch 300 Loss 38.7761\n"
     ]
    },
    {
     "name": "stderr",
     "output_type": "stream",
     "text": [
      "Epoch 9 Loss: 0.9266:  19%|███▎              | 401/2158 [07:44<33:06,  1.13s/it]"
     ]
    },
    {
     "name": "stdout",
     "output_type": "stream",
     "text": [
      "Epoch 9 Batch 400 Loss 35.4307\n"
     ]
    },
    {
     "name": "stderr",
     "output_type": "stream",
     "text": [
      "Epoch 9 Loss: 0.9310:  23%|████▏             | 501/2158 [09:36<29:45,  1.08s/it]"
     ]
    },
    {
     "name": "stdout",
     "output_type": "stream",
     "text": [
      "Epoch 9 Batch 500 Loss 43.4095\n"
     ]
    },
    {
     "name": "stderr",
     "output_type": "stream",
     "text": [
      "Epoch 9 Loss: 0.9281:  28%|█████             | 601/2158 [11:28<30:11,  1.16s/it]"
     ]
    },
    {
     "name": "stdout",
     "output_type": "stream",
     "text": [
      "Epoch 9 Batch 600 Loss 32.6520\n"
     ]
    },
    {
     "name": "stderr",
     "output_type": "stream",
     "text": [
      "Epoch 9 Loss: 0.9278:  32%|█████▊            | 701/2158 [13:21<26:28,  1.09s/it]"
     ]
    },
    {
     "name": "stdout",
     "output_type": "stream",
     "text": [
      "Epoch 9 Batch 700 Loss 45.4923\n"
     ]
    },
    {
     "name": "stderr",
     "output_type": "stream",
     "text": [
      "Epoch 9 Loss: 0.9268:  37%|██████▋           | 801/2158 [15:13<24:54,  1.10s/it]"
     ]
    },
    {
     "name": "stdout",
     "output_type": "stream",
     "text": [
      "Epoch 9 Batch 800 Loss 36.3746\n"
     ]
    },
    {
     "name": "stderr",
     "output_type": "stream",
     "text": [
      "Epoch 9 Loss: 0.9259:  42%|███████▌          | 901/2158 [17:04<23:19,  1.11s/it]"
     ]
    },
    {
     "name": "stdout",
     "output_type": "stream",
     "text": [
      "Epoch 9 Batch 900 Loss 39.2669\n"
     ]
    },
    {
     "name": "stderr",
     "output_type": "stream",
     "text": [
      "Epoch 9 Loss: 0.9260:  46%|███████▉         | 1001/2158 [18:58<21:30,  1.12s/it]"
     ]
    },
    {
     "name": "stdout",
     "output_type": "stream",
     "text": [
      "Epoch 9 Batch 1000 Loss 34.5087\n"
     ]
    },
    {
     "name": "stderr",
     "output_type": "stream",
     "text": [
      "Epoch 9 Loss: 0.9270:  51%|████████▋        | 1101/2158 [20:48<19:23,  1.10s/it]"
     ]
    },
    {
     "name": "stdout",
     "output_type": "stream",
     "text": [
      "Epoch 9 Batch 1100 Loss 39.2166\n"
     ]
    },
    {
     "name": "stderr",
     "output_type": "stream",
     "text": [
      "Epoch 9 Loss: 0.9264:  56%|█████████▍       | 1201/2158 [22:38<18:19,  1.15s/it]"
     ]
    },
    {
     "name": "stdout",
     "output_type": "stream",
     "text": [
      "Epoch 9 Batch 1200 Loss 43.6933\n"
     ]
    },
    {
     "name": "stderr",
     "output_type": "stream",
     "text": [
      "Epoch 9 Loss: 0.9253:  60%|██████████▏      | 1301/2158 [24:25<14:49,  1.04s/it]"
     ]
    },
    {
     "name": "stdout",
     "output_type": "stream",
     "text": [
      "Epoch 9 Batch 1300 Loss 34.4376\n"
     ]
    },
    {
     "name": "stderr",
     "output_type": "stream",
     "text": [
      "Epoch 9 Loss: 0.9250:  65%|███████████      | 1401/2158 [26:10<13:27,  1.07s/it]"
     ]
    },
    {
     "name": "stdout",
     "output_type": "stream",
     "text": [
      "Epoch 9 Batch 1400 Loss 39.3678\n"
     ]
    },
    {
     "name": "stderr",
     "output_type": "stream",
     "text": [
      "Epoch 9 Loss: 0.9256:  70%|███████████▊     | 1501/2158 [27:57<11:34,  1.06s/it]"
     ]
    },
    {
     "name": "stdout",
     "output_type": "stream",
     "text": [
      "Epoch 9 Batch 1500 Loss 39.6410\n"
     ]
    },
    {
     "name": "stderr",
     "output_type": "stream",
     "text": [
      "Epoch 9 Loss: 0.9258:  74%|████████████▌    | 1601/2158 [29:42<09:50,  1.06s/it]"
     ]
    },
    {
     "name": "stdout",
     "output_type": "stream",
     "text": [
      "Epoch 9 Batch 1600 Loss 39.6576\n"
     ]
    },
    {
     "name": "stderr",
     "output_type": "stream",
     "text": [
      "Epoch 9 Loss: 0.9260:  79%|█████████████▍   | 1701/2158 [31:28<08:00,  1.05s/it]"
     ]
    },
    {
     "name": "stdout",
     "output_type": "stream",
     "text": [
      "Epoch 9 Batch 1700 Loss 39.9852\n"
     ]
    },
    {
     "name": "stderr",
     "output_type": "stream",
     "text": [
      "Epoch 9 Loss: 0.9264:  83%|██████████████▏  | 1801/2158 [33:14<06:11,  1.04s/it]"
     ]
    },
    {
     "name": "stdout",
     "output_type": "stream",
     "text": [
      "Epoch 9 Batch 1800 Loss 34.3180\n"
     ]
    },
    {
     "name": "stderr",
     "output_type": "stream",
     "text": [
      "Epoch 9 Loss: 0.9261:  88%|██████████████▉  | 1901/2158 [35:00<04:31,  1.06s/it]"
     ]
    },
    {
     "name": "stdout",
     "output_type": "stream",
     "text": [
      "Epoch 9 Batch 1900 Loss 36.4035\n"
     ]
    },
    {
     "name": "stderr",
     "output_type": "stream",
     "text": [
      "Epoch 9 Loss: 0.9269:  93%|███████████████▊ | 2001/2158 [36:46<02:46,  1.06s/it]"
     ]
    },
    {
     "name": "stdout",
     "output_type": "stream",
     "text": [
      "Epoch 9 Batch 2000 Loss 38.1883\n"
     ]
    },
    {
     "name": "stderr",
     "output_type": "stream",
     "text": [
      "Epoch 9 Loss: 0.9274:  97%|████████████████▌| 2101/2158 [38:32<01:00,  1.06s/it]"
     ]
    },
    {
     "name": "stdout",
     "output_type": "stream",
     "text": [
      "Epoch 9 Batch 2100 Loss 31.6937\n"
     ]
    },
    {
     "name": "stderr",
     "output_type": "stream",
     "text": [
      "Epoch 9 Loss: 0.9273: 100%|█████████████████| 2158/2158 [39:32<00:00,  1.05s/it]2024-05-22 15:01:32.526521: W tensorflow/core/framework/local_rendezvous.cc:404] Local rendezvous is aborting with status: OUT_OF_RANGE: End of sequence\n",
      "Epoch 9 Loss: 0.9273: 100%|█████████████████| 2158/2158 [39:32<00:00,  1.10s/it]\n"
     ]
    },
    {
     "name": "stdout",
     "output_type": "stream",
     "text": [
      "Epoch 9 Loss 0.9273\n",
      "Time taken for 1 epoch 2372.72 sec\n",
      "\n"
     ]
    },
    {
     "name": "stderr",
     "output_type": "stream",
     "text": [
      "  0%|                                                  | 0/2158 [00:00<?, ?it/s]2024-05-22 15:01:43.061967: I tensorflow/core/kernels/data/shuffle_dataset_op.cc:450] ShuffleDatasetV3:3: Filling up shuffle buffer (this may take a while): 627 of 1000\n",
      "2024-05-22 15:01:49.459680: I tensorflow/core/kernels/data/shuffle_dataset_op.cc:480] Shuffle buffer filled.\n",
      "Epoch 10 Loss: 0.9810:   0%|                | 1/2158 [00:18<11:00:05, 18.36s/it]"
     ]
    },
    {
     "name": "stdout",
     "output_type": "stream",
     "text": [
      "Epoch 10 Batch 0 Loss 39.2399\n"
     ]
    },
    {
     "name": "stderr",
     "output_type": "stream",
     "text": [
      "Epoch 10 Loss: 0.9278:   5%|▊                | 101/2158 [02:12<38:40,  1.13s/it]"
     ]
    },
    {
     "name": "stdout",
     "output_type": "stream",
     "text": [
      "Epoch 10 Batch 100 Loss 43.3302\n"
     ]
    },
    {
     "name": "stderr",
     "output_type": "stream",
     "text": [
      "Epoch 10 Loss: 0.9176:   9%|█▌               | 201/2158 [04:04<36:35,  1.12s/it]"
     ]
    },
    {
     "name": "stdout",
     "output_type": "stream",
     "text": [
      "Epoch 10 Batch 200 Loss 43.5773\n"
     ]
    },
    {
     "name": "stderr",
     "output_type": "stream",
     "text": [
      "Epoch 10 Loss: 0.9105:  14%|██▎              | 301/2158 [05:57<34:06,  1.10s/it]"
     ]
    },
    {
     "name": "stdout",
     "output_type": "stream",
     "text": [
      "Epoch 10 Batch 300 Loss 39.7795\n"
     ]
    },
    {
     "name": "stderr",
     "output_type": "stream",
     "text": [
      "Epoch 10 Loss: 0.9112:  19%|███▏             | 401/2158 [07:48<33:04,  1.13s/it]"
     ]
    },
    {
     "name": "stdout",
     "output_type": "stream",
     "text": [
      "Epoch 10 Batch 400 Loss 33.4231\n"
     ]
    },
    {
     "name": "stderr",
     "output_type": "stream",
     "text": [
      "Epoch 10 Loss: 0.9129:  23%|███▉             | 501/2158 [09:38<30:05,  1.09s/it]"
     ]
    },
    {
     "name": "stdout",
     "output_type": "stream",
     "text": [
      "Epoch 10 Batch 500 Loss 43.0749\n"
     ]
    },
    {
     "name": "stderr",
     "output_type": "stream",
     "text": [
      "Epoch 10 Loss: 0.9137:  28%|████▋            | 601/2158 [11:29<28:59,  1.12s/it]"
     ]
    },
    {
     "name": "stdout",
     "output_type": "stream",
     "text": [
      "Epoch 10 Batch 600 Loss 41.3395\n"
     ]
    },
    {
     "name": "stderr",
     "output_type": "stream",
     "text": [
      "Epoch 10 Loss: 0.9135:  32%|█████▌           | 701/2158 [13:25<28:12,  1.16s/it]"
     ]
    },
    {
     "name": "stdout",
     "output_type": "stream",
     "text": [
      "Epoch 10 Batch 700 Loss 49.7787\n"
     ]
    },
    {
     "name": "stderr",
     "output_type": "stream",
     "text": [
      "Epoch 10 Loss: 0.9109:  37%|██████▎          | 801/2158 [15:17<23:56,  1.06s/it]"
     ]
    },
    {
     "name": "stdout",
     "output_type": "stream",
     "text": [
      "Epoch 10 Batch 800 Loss 38.7710\n"
     ]
    },
    {
     "name": "stderr",
     "output_type": "stream",
     "text": [
      "Epoch 10 Loss: 0.9112:  42%|███████          | 901/2158 [17:16<24:55,  1.19s/it]"
     ]
    },
    {
     "name": "stdout",
     "output_type": "stream",
     "text": [
      "Epoch 10 Batch 900 Loss 34.0641\n"
     ]
    },
    {
     "name": "stderr",
     "output_type": "stream",
     "text": [
      "Epoch 10 Loss: 0.9111:  46%|███████▍        | 1001/2158 [19:18<21:03,  1.09s/it]"
     ]
    },
    {
     "name": "stdout",
     "output_type": "stream",
     "text": [
      "Epoch 10 Batch 1000 Loss 33.3269\n"
     ]
    },
    {
     "name": "stderr",
     "output_type": "stream",
     "text": [
      "Epoch 10 Loss: 0.9094:  51%|████████▏       | 1101/2158 [21:07<19:46,  1.12s/it]"
     ]
    },
    {
     "name": "stdout",
     "output_type": "stream",
     "text": [
      "Epoch 10 Batch 1100 Loss 37.8298\n"
     ]
    },
    {
     "name": "stderr",
     "output_type": "stream",
     "text": [
      "Epoch 10 Loss: 0.9084:  56%|████████▉       | 1201/2158 [23:01<17:28,  1.10s/it]"
     ]
    },
    {
     "name": "stdout",
     "output_type": "stream",
     "text": [
      "Epoch 10 Batch 1200 Loss 37.5190\n"
     ]
    },
    {
     "name": "stderr",
     "output_type": "stream",
     "text": [
      "Epoch 10 Loss: 0.9100:  60%|█████████▋      | 1301/2158 [24:52<14:56,  1.05s/it]"
     ]
    },
    {
     "name": "stdout",
     "output_type": "stream",
     "text": [
      "Epoch 10 Batch 1300 Loss 37.6388\n"
     ]
    },
    {
     "name": "stderr",
     "output_type": "stream",
     "text": [
      "Epoch 10 Loss: 0.9096:  65%|██████████▍     | 1401/2158 [26:36<13:43,  1.09s/it]"
     ]
    },
    {
     "name": "stdout",
     "output_type": "stream",
     "text": [
      "Epoch 10 Batch 1400 Loss 30.5301\n"
     ]
    },
    {
     "name": "stderr",
     "output_type": "stream",
     "text": [
      "Epoch 10 Loss: 0.9083:  70%|███████████▏    | 1501/2158 [28:26<11:32,  1.05s/it]"
     ]
    },
    {
     "name": "stdout",
     "output_type": "stream",
     "text": [
      "Epoch 10 Batch 1500 Loss 41.9643\n"
     ]
    },
    {
     "name": "stderr",
     "output_type": "stream",
     "text": [
      "Epoch 10 Loss: 0.9089:  74%|███████████▊    | 1601/2158 [30:10<09:32,  1.03s/it]"
     ]
    },
    {
     "name": "stdout",
     "output_type": "stream",
     "text": [
      "Epoch 10 Batch 1600 Loss 34.7822\n"
     ]
    },
    {
     "name": "stderr",
     "output_type": "stream",
     "text": [
      "Epoch 10 Loss: 0.9092:  79%|████████████▌   | 1701/2158 [31:52<07:49,  1.03s/it]"
     ]
    },
    {
     "name": "stdout",
     "output_type": "stream",
     "text": [
      "Epoch 10 Batch 1700 Loss 50.2179\n"
     ]
    },
    {
     "name": "stderr",
     "output_type": "stream",
     "text": [
      "Epoch 10 Loss: 0.9089:  83%|█████████████▎  | 1801/2158 [33:44<06:11,  1.04s/it]"
     ]
    },
    {
     "name": "stdout",
     "output_type": "stream",
     "text": [
      "Epoch 10 Batch 1800 Loss 34.6130\n"
     ]
    },
    {
     "name": "stderr",
     "output_type": "stream",
     "text": [
      "Epoch 10 Loss: 0.9086:  88%|██████████████  | 1901/2158 [35:37<05:07,  1.20s/it]"
     ]
    },
    {
     "name": "stdout",
     "output_type": "stream",
     "text": [
      "Epoch 10 Batch 1900 Loss 36.4881\n"
     ]
    },
    {
     "name": "stderr",
     "output_type": "stream",
     "text": [
      "Epoch 10 Loss: 0.9103:  93%|██████████████▊ | 2001/2158 [37:26<02:43,  1.04s/it]"
     ]
    },
    {
     "name": "stdout",
     "output_type": "stream",
     "text": [
      "Epoch 10 Batch 2000 Loss 44.1903\n"
     ]
    },
    {
     "name": "stderr",
     "output_type": "stream",
     "text": [
      "Epoch 10 Loss: 0.9094:  97%|███████████████▌| 2101/2158 [39:10<00:59,  1.04s/it]"
     ]
    },
    {
     "name": "stdout",
     "output_type": "stream",
     "text": [
      "Epoch 10 Batch 2100 Loss 38.6474\n"
     ]
    },
    {
     "name": "stderr",
     "output_type": "stream",
     "text": [
      "Epoch 10 Loss: 0.9097: 100%|████████████████| 2158/2158 [40:12<00:00,  1.05s/it]2024-05-22 15:41:45.749012: W tensorflow/core/framework/local_rendezvous.cc:404] Local rendezvous is aborting with status: OUT_OF_RANGE: End of sequence\n",
      "Epoch 10 Loss: 0.9097: 100%|████████████████| 2158/2158 [40:12<00:00,  1.12s/it]\n"
     ]
    },
    {
     "name": "stdout",
     "output_type": "stream",
     "text": [
      "Epoch 10 Loss 0.9097\n",
      "Time taken for 1 epoch 2412.72 sec\n",
      "\n"
     ]
    },
    {
     "data": {
      "image/png": "[encoded data removed]",
      "text/plain": [
       "<Figure size 640x480 with 1 Axes>"
      ]
     },
     "metadata": {},
     "output_type": "display_data"
    }
   ],
   "source": [
    "start_token = word2idx('<start>').numpy()\n",
    "\n",
    "#initialise encoder, decoder, optimiser and loss object \n",
    "encoder = CNNEncoder(embedding_dim)\n",
    "decoder = RNNDecoder(embedding_dim, units, vocab_size)\n",
    "optimizer = tf.keras.optimizers.Adam(learning_rate=0.0001, clipnorm=1.0)  # Decrease learning rate as training loss keeps increasing\n",
    "loss_object = tf.keras.losses.SparseCategoricalCrossentropy(from_logits=True, reduction='none')\n",
    "\n",
    "#define train step function \n",
    "@tf.function\n",
    "def train_step(img_tensor, target):\n",
    "    loss = 0\n",
    "    \n",
    "    #initialise hidden state \n",
    "    hidden = decoder.reset_state(batch_size=target.shape[0])\n",
    "\n",
    "    with tf.GradientTape() as tape:\n",
    "        features = encoder(img_tensor)\n",
    "        dec_input = tf.expand_dims([start_token] * target.shape[0], 1)\n",
    "        \n",
    "        for i in range(1, target.shape[1]):\n",
    "            predictions, hidden, _ = decoder(dec_input, features=features, hidden=hidden)\n",
    "            loss += loss_function(target[:, i], predictions)\n",
    "            dec_input = tf.expand_dims(target[:, i], 1)\n",
    "    \n",
    "    total_loss = loss / int(target.shape[1])  # Avg loss across sequence length\n",
    "    trainable_variables = encoder.trainable_variables + decoder.trainable_variables\n",
    "    gradients = tape.gradient(loss, trainable_variables)\n",
    "    optimizer.apply_gradients(zip(gradients, trainable_variables))\n",
    "    return loss, total_loss\n",
    "\n",
    "#definne loss function \n",
    "def loss_function(real, pred):\n",
    "    mask = tf.math.logical_not(tf.math.equal(real, 0))\n",
    "    loss_ = loss_object(real, pred)\n",
    "\n",
    "    mask = tf.cast(mask, dtype=loss_.dtype)\n",
    "    loss_ *= mask\n",
    "\n",
    "    return tf.reduce_mean(loss_)\n",
    "\n",
    "#set hyperparameters \n",
    "\n",
    "EPOCHS = 10\n",
    "loss_history = []\n",
    "\n",
    "# train the model with checkpoints so that we don't need to spend hours on it every time we make a small change\n",
    "checkpoint_path = \"checkpoints/train\"\n",
    "ckpt = tf.train.Checkpoint(optimizer=optimizer, encoder=encoder, decoder=decoder)\n",
    "ckpt_manager = tf.train.CheckpointManager(ckpt, checkpoint_path, max_to_keep=5)\n",
    "\n",
    "#start of training loop\n",
    "for epoch in range(EPOCHS):\n",
    "    start = time.time()\n",
    "    total_loss = 0\n",
    "    \n",
    "    steps_per_epoch = len(train_dataset)\n",
    "\n",
    "    # use tqdm to create a progress bar\n",
    "    pbar = tqdm(enumerate(train_dataset), total=steps_per_epoch)\n",
    "\n",
    "    # iterate over training dataset\n",
    "    for batch, (img_tensor, target) in pbar:\n",
    "        batch_loss, t_loss = train_step(img_tensor, target)\n",
    "        total_loss += t_loss\n",
    "\n",
    "        if batch % 100 == 0:\n",
    "            average_batch_loss = batch_loss.numpy() / int(target.shape[1])\n",
    "            print(f'Epoch {epoch+1} Batch {batch} Loss {batch_loss.numpy():.4f}')\n",
    "\n",
    "        pbar.set_description(f'Epoch {epoch+1} Loss: {total_loss / (batch + 1):.4f}')  # Update progress bar description\n",
    "  \n",
    "    # get average loss for the epoch\n",
    "    epoch_loss = total_loss / steps_per_epoch\n",
    "    loss_history.append(epoch_loss)\n",
    "    \n",
    "    print(f'Epoch {epoch+1} Loss {epoch_loss:.4f}')\n",
    "    print(f'Time taken for 1 epoch {time.time()-start:.2f} sec\\n')\n",
    "    \n",
    "    #save checkpoint \n",
    "    ckpt_manager.save()\n",
    "\n",
    "#plotting graphs\n",
    "plt.plot(loss_history)\n",
    "plt.title('Loss curve')\n",
    "plt.xlabel('Epoch')\n",
    "plt.ylabel('Loss')\n",
    "plt.show()\n"
   ]
  },
  {
   "cell_type": "code",
   "execution_count": 32,
   "id": "24b6394e",
   "metadata": {},
   "outputs": [
    {
     "data": {
      "image/png": "[encoded data removed]",
      "text/plain": [
       "<Figure size 640x480 with 1 Axes>"
      ]
     },
     "metadata": {},
     "output_type": "display_data"
    }
   ],
   "source": [
    "# Plot the loss curve \n",
    "plt.plot(loss_history)\n",
    "plt.title('Loss curve')\n",
    "plt.xlabel('Epoch')\n",
    "plt.ylabel('Loss')\n",
    "plt.show()\n"
   ]
  },
  {
   "cell_type": "code",
   "execution_count": 36,
   "id": "d8f6a06f",
   "metadata": {
    "scrolled": false
   },
   "outputs": [
    {
     "name": "stdout",
     "output_type": "stream",
     "text": [
      "Real captions:  ['[start] a brown dog is playing with a white and brown dog in a grassy and treed area [end]', '[start] a brown dog is rolling over in the grass while a white and brown dog stands next to it [end]', '[start] a brown dog lies on its back fighting with a brown and white dog [end]', '[start] the two dogs are playing in the yard [end]', '[start] two brown dogs are playing with each other on the grass with one dog laying on its side [end]']\n",
      "Shape of features before reshaping: (1, 256)\n",
      "Predicted Caption:  serve states bounding buckets races dinghy hood clothing mulch tulips ferns downward herself apparatus lab jackets squatting vine humans jesus siting coming stringed russell canon stains cloth noodle backpacks nuzzling lockers bananas dog without nose barefoot murky farmland wings bagpipes\n",
      "\n"
     ]
    },
    {
     "data": {
      "image/jpeg": "[encoded data removed]",
      "image/png": "[encoded data removed]",
      "text/plain": [
       "<PIL.JpegImagePlugin.JpegImageFile image mode=RGB size=500x308>"
      ]
     },
     "execution_count": 36,
     "metadata": {},
     "output_type": "execute_result"
    }
   ],
   "source": [
    "\n",
    "inception_v3 = InceptionV3(weights='imagenet', include_top=False)\n",
    "\n",
    "#define evaluate function \n",
    "def evaluate(image_path): \n",
    "    #load img\n",
    "    img = load_img(image_path, target_size=(299, 299))  # Resize the image to match InceptionV3's input shape\n",
    "    img_array = img_to_array(img)  \n",
    "    img_array = preprocess_input(img_array)  \n",
    "    \n",
    "    #expand dimensions\n",
    "    temp_input = tf.expand_dims(img_array, 0)\n",
    "    #get features with inceptionV3 model \n",
    "    img_tensor_val = inception_v3(temp_input)\n",
    "    #initialise decoder class\n",
    "    decoder = RNNDecoder(embedding_dim, units, vocab_size)\n",
    "    hidden = decoder.reset_state(batch_size=1)\n",
    "    \n",
    "    # reshape feature tensorr\n",
    "    img_tensor_val = tf.reshape(\n",
    "        img_tensor_val,\n",
    "        (img_tensor_val.shape[0], -1)  # Reshape to (batch_size, num_pixels * embedding_dim)\n",
    "    )\n",
    "\n",
    "    #get features with encoder \n",
    "    features = encoder(img_tensor_val)\n",
    "    print(\"Shape of features before reshaping:\", features.shape)  # Print the shape before reshaping\n",
    "    \n",
    "    #reshape \n",
    "    features = tf.reshape(features, (features.shape[0], -1, embedding_dim))  # Reshape to (batch_size, num_pixels, embedding_dim)\n",
    "\n",
    "    dec_input = tf.expand_dims([word2idx('[start]')], 0)\n",
    "    result = []\n",
    "    \n",
    "    # Generate captions word by word\n",
    "    for i in range(max_length):\n",
    "        # predict next word\n",
    "        predictions, hidden, _ = decoder(dec_input, features, hidden)\n",
    "        predicted_id = tf.random.categorical(predictions, 1)[0][0].numpy()\n",
    "        predicted_word = tf.compat.as_text(idx2word(predicted_id).numpy())\n",
    "        #append prediction to result\n",
    "        if predicted_word == '[end]':\n",
    "            return result\n",
    "        result.append(predicted_word)\n",
    "        \n",
    "        # use the predicted word as input for the next prediction\n",
    "        dec_input = tf.expand_dims([predicted_id], 0)\n",
    "    \n",
    "    return result\n",
    "\n",
    "\n",
    "# get list of images\n",
    "image_files = os.listdir(image_dir)\n",
    "random_image_file = random.choice(image_files)\n",
    "random_image_path = os.path.join(image_dir, random_image_file)\n",
    "random_image_index = sorted_images.index(random_image_file)\n",
    "\n",
    "feature_vector_tuple = tuple(image_to_feature_vector[random_image_file].flatten())\n",
    "\n",
    "real_captions = fv_to_cap_vector[feature_vector_tuple]\n",
    "\n",
    "print('Real captions: ', real_captions)\n",
    "\n",
    "result = evaluate(random_image_path)\n",
    "\n",
    "print('Predicted Caption: ', ' '.join(result))\n",
    "print()\n",
    "\n",
    "#display image \n",
    "Image.open(random_image_path)\n"
   ]
  },
  {
   "cell_type": "code",
   "execution_count": 34,
   "id": "e36c036d",
   "metadata": {},
   "outputs": [
    {
     "name": "stdout",
     "output_type": "stream",
     "text": [
      "Validation Loss: 0.9876\n"
     ]
    },
    {
     "name": "stderr",
     "output_type": "stream",
     "text": [
      "2024-05-22 15:51:00.871928: W tensorflow/core/framework/local_rendezvous.cc:404] Local rendezvous is aborting with status: OUT_OF_RANGE: End of sequence\n"
     ]
    }
   ],
   "source": [
    "def val_evaluate(val_dataset):\n",
    "    total_loss = 0\n",
    "    steps = 0\n",
    "\n",
    "    for img_tensor, target in val_dataset:\n",
    "        batch_loss = 0\n",
    "\n",
    "        # forward pass through the encoder\n",
    "        features = encoder(img_tensor)\n",
    "\n",
    "        # initialise decoder hidden state\n",
    "        hidden = decoder.reset_state(batch_size=target.shape[0])\n",
    "\n",
    "        dec_input = tf.expand_dims([word2idx('[start]')] * target.shape[0], 1)\n",
    "\n",
    "        #feeding the target as the next input\n",
    "        for t in range(1, target.shape[1]):\n",
    "            # pass features through the decoder\n",
    "            predictions, hidden, _ = decoder(dec_input, features, hidden)\n",
    "\n",
    "            # calc loss\n",
    "            batch_loss = batch_loss + loss_function(target[:, t], predictions)\n",
    "\n",
    "            dec_input = tf.expand_dims(target[:, t], 1)\n",
    "\n",
    "        #get avg loss accross sequence \n",
    "        batch_loss /= int(target.shape[1])  \n",
    "        total_loss = total_loss + batch_loss\n",
    "        steps = steps + 1\n",
    "\n",
    "    return total_loss / steps\n",
    "\n",
    "# evaluate on the validation set\n",
    "val_loss = val_evaluate(val_dataset)\n",
    "print(f'Validation Loss: {val_loss:.4f}')\n"
   ]
  },
  {
   "cell_type": "code",
   "execution_count": 35,
   "id": "cf7b72ee",
   "metadata": {},
   "outputs": [
    {
     "name": "stdout",
     "output_type": "stream",
     "text": [
      "Average BLEU Score: 0.0035\n"
     ]
    },
    {
     "name": "stderr",
     "output_type": "stream",
     "text": [
      "2024-05-22 15:52:08.704818: W tensorflow/core/framework/local_rendezvous.cc:404] Local rendezvous is aborting with status: OUT_OF_RANGE: End of sequence\n",
      "/opt/anaconda3/lib/python3.11/site-packages/nltk/translate/bleu_score.py:552: UserWarning: \n",
      "The hypothesis contains 0 counts of 3-gram overlaps.\n",
      "Therefore the BLEU score evaluates to 0, independently of\n",
      "how many N-gram overlaps of lower order it contains.\n",
      "Consider using lower n-gram order or use SmoothingFunction()\n",
      "  warnings.warn(_msg)\n",
      "/opt/anaconda3/lib/python3.11/site-packages/nltk/translate/bleu_score.py:552: UserWarning: \n",
      "The hypothesis contains 0 counts of 4-gram overlaps.\n",
      "Therefore the BLEU score evaluates to 0, independently of\n",
      "how many N-gram overlaps of lower order it contains.\n",
      "Consider using lower n-gram order or use SmoothingFunction()\n",
      "  warnings.warn(_msg)\n",
      "/opt/anaconda3/lib/python3.11/site-packages/nltk/translate/bleu_score.py:552: UserWarning: \n",
      "The hypothesis contains 0 counts of 2-gram overlaps.\n",
      "Therefore the BLEU score evaluates to 0, independently of\n",
      "how many N-gram overlaps of lower order it contains.\n",
      "Consider using lower n-gram order or use SmoothingFunction()\n",
      "  warnings.warn(_msg)\n"
     ]
    }
   ],
   "source": [
    "# Function to generate captions for validation set\n",
    "def evaluate_image(image_tensor):\n",
    "    hidden = decoder.reset_state(batch_size=1)\n",
    "    \n",
    "    temp_input = tf.expand_dims(image_tensor, 0)\n",
    "    features = encoder(temp_input)\n",
    "    \n",
    "    dec_input = tf.expand_dims([word2idx('[start]')], 0)\n",
    "    result = []\n",
    "    \n",
    "    for i in range(max_length):\n",
    "        predictions, hidden, attention_weights = decoder(dec_input, features, hidden)\n",
    "        predicted_id = tf.argmax(predictions[0]).numpy()\n",
    "        result.append(idx2word(predicted_id).numpy().decode('utf-8'))\n",
    "        \n",
    "        if idx2word(predicted_id).numpy().decode('utf-8') == '[end]':\n",
    "            return result\n",
    "        \n",
    "        dec_input = tf.expand_dims([predicted_id], 0)\n",
    "    \n",
    "    return result\n",
    "\n",
    "\n",
    "actual_captions = []\n",
    "predicted_captions = []\n",
    "\n",
    "for img_tensor, target in val_dataset.take(10):  # Limit to 10 batches for simplicity\n",
    "    for i in range(len(img_tensor)):\n",
    "        actual_caption = ' '.join([idx2word(idx).numpy().decode('utf-8') for idx in target[i] if idx > 0])\n",
    "        actual_captions.append(actual_caption)\n",
    "        \n",
    "        predicted_caption = evaluate_image(img_tensor[i])\n",
    "        predicted_captions.append(' '.join(predicted_caption))\n",
    "\n",
    "# Calculate BLEU score for each pair of actual and predicted captions\n",
    "bleu_scores = [sentence_bleu([actual.split()], pred.split()) for actual, pred in zip(actual_captions, predicted_captions)]\n",
    "average_bleu_score = np.mean(bleu_scores)\n",
    "\n",
    "print(f'Average BLEU Score: {average_bleu_score:.4f}')"
   ]
  },
  {
   "cell_type": "code",
   "execution_count": 47,
   "id": "09771f45",
   "metadata": {},
   "outputs": [
    {
     "name": "stdout",
     "output_type": "stream",
     "text": [
      "Average Precision: 0.2822\n",
      "Average Recall: 0.2617\n",
      "Average F1 Score: 0.2642\n",
      "Average BLEU Score: 0.0305\n"
     ]
    },
    {
     "name": "stderr",
     "output_type": "stream",
     "text": [
      "2024-05-23 16:44:37.830448: W tensorflow/core/framework/local_rendezvous.cc:404] Local rendezvous is aborting with status: OUT_OF_RANGE: End of sequence\n"
     ]
    }
   ],
   "source": [
    "from nltk.translate.bleu_score import sentence_bleu\n",
    "from nltk.translate.bleu_score import SmoothingFunction\n",
    "\n",
    "def calculate_metrics(actual_caption, predicted_caption):\n",
    "    # Smoothing function for BLEU score\n",
    "    smoothing_function = SmoothingFunction().method4\n",
    "    bleu_score = sentence_bleu([actual_caption.split()], predicted_caption.split(), smoothing_function=smoothing_function)\n",
    "\n",
    "    # calc recall, precision, and F1 score\n",
    "    actual_words = set(actual_caption.split())\n",
    "    predicted_words = set(predicted_caption.split())\n",
    "\n",
    "    recall = len(actual_words.intersection(predicted_words)) / len(actual_words)\n",
    "    precision = len(actual_words.intersection(predicted_words)) / len(predicted_words)\n",
    "\n",
    "    # Handle division by zero\n",
    "    if recall == 0 or precision == 0:\n",
    "        f1_score = 0\n",
    "    else:\n",
    "        f1_score = 2 * (precision * recall) / (precision + recall)\n",
    "\n",
    "    return precision, recall, f1_score, bleu_score\n",
    "\n",
    "def evaluate_image(image_tensor):\n",
    "    hidden = decoder.reset_state(batch_size=1)\n",
    "    \n",
    "    temp_input = tf.expand_dims(image_tensor, 0)\n",
    "    features = encoder(temp_input)\n",
    "    \n",
    "    dec_input = tf.expand_dims([word2idx('[start]')], 0)\n",
    "    result = []\n",
    "    \n",
    "    for i in range(max_length):\n",
    "        predictions, hidden, attention_weights = decoder(dec_input, features, hidden)\n",
    "        predicted_id = tf.argmax(predictions[0]).numpy()\n",
    "        predicted_word = idx2word(predicted_id).numpy().decode('utf-8')\n",
    "        result.append(predicted_word)\n",
    "        \n",
    "        if predicted_word == '[end]':\n",
    "            break\n",
    "        \n",
    "        dec_input = tf.expand_dims([predicted_id], 0)\n",
    "    \n",
    "    predicted_caption = ' '.join(result)\n",
    "    precision, recall, f1_score, bleu_score = calculate_metrics(actual_captions[-1], predicted_caption)\n",
    "    \n",
    "    return predicted_caption, precision, recall, f1_score, bleu_score\n",
    "\n",
    "# Generate captions for the validation set and calculate metrics\n",
    "actual_captions = []\n",
    "predicted_captions = []\n",
    "precisions = []\n",
    "recalls = []\n",
    "f1_scores = []\n",
    "bleu_scores = []\n",
    "\n",
    "for img_tensor, target in val_dataset.take(10):  # Limit to 10 batches for simplicity\n",
    "    for i in range(len(img_tensor)):\n",
    "        actual_caption = ' '.join([idx2word(idx).numpy().decode('utf-8') for idx in target[i] if idx > 0])\n",
    "        actual_captions.append(actual_caption)\n",
    "        \n",
    "        predicted_caption, precision, recall, f1_score, bleu_score = evaluate_image(img_tensor[i])\n",
    "        predicted_captions.append(predicted_caption)\n",
    "        precisions.append(precision)\n",
    "        recalls.append(recall)\n",
    "        f1_scores.append(f1_score)\n",
    "        bleu_scores.append(bleu_score)\n",
    "\n",
    "# Calculate average metrics\n",
    "average_precision = np.mean(precisions)\n",
    "average_recall = np.mean(recalls)\n",
    "average_f1_score = np.mean(f1_scores)\n",
    "average_bleu_score = np.mean(bleu_scores)\n",
    "\n",
    "print(f'Average Precision: {average_precision:.4f}')\n",
    "print(f'Average Recall: {average_recall:.4f}')\n",
    "print(f'Average F1 Score: {average_f1_score:.4f}')\n",
    "print(f'Average BLEU Score: {average_bleu_score:.4f}')\n"
   ]
  },
  {
   "cell_type": "code",
   "execution_count": 45,
   "id": "cd19eafb",
   "metadata": {},
   "outputs": [],
   "source": []
  },
  {
   "cell_type": "code",
   "execution_count": null,
   "id": "35f48b02",
   "metadata": {},
   "outputs": [],
   "source": []
  },
  {
   "cell_type": "code",
   "execution_count": null,
   "id": "6e25ac2a",
   "metadata": {},
   "outputs": [],
   "source": []
  }
 ],
 "metadata": {
  "kernelspec": {
   "display_name": "Python 3 (ipykernel)",
   "language": "python",
   "name": "python3"
  },
  "language_info": {
   "codemirror_mode": {
    "name": "ipython",
    "version": 3
   },
   "file_extension": ".py",
   "mimetype": "text/x-python",
   "name": "python",
   "nbconvert_exporter": "python",
   "pygments_lexer": "ipython3",
   "version": "3.11.7"
  }
 },
 "nbformat": 4,
 "nbformat_minor": 5
}
